{
 "cells": [
  {
   "cell_type": "code",
   "execution_count": 28,
   "id": "ae5f050f",
   "metadata": {},
   "outputs": [],
   "source": [
    "from pyspark.sql.types import StructType, StructField, StringType, LongType, DecimalType, DoubleType\n",
    "from pyspark.sql import SparkSession"
   ]
  },
  {
   "cell_type": "code",
   "execution_count": 29,
   "id": "d5038e7a",
   "metadata": {},
   "outputs": [],
   "source": [
    "spark = SparkSession \\\n",
    "    .builder \\\n",
    "    .config(\"fs.s3a.access.key\", \"Q3AM3UQ867SPQQA43P2F\") \\\n",
    "    .config(\"fs.s3a.secret.key\", \"zuf+tfteSlswRu7BJ86wekitnifILbZam1KYY3TG\") \\\n",
    "    .config(\"fs.s3a.endpoint\", \"play.min.io:9000\") \\\n",
    "    .appName(\"VolumeCalculation\") \\\n",
    "    .getOrCreate()"
   ]
  },
  {
   "cell_type": "code",
   "execution_count": null,
   "id": "73a979af",
   "metadata": {},
   "outputs": [],
   "source": [
    "sc = spark.sparkContext\n",
    "\n",
    "sc._jsc.hadoopConfiguration().set(\"fs.s3a.connection.ssl.enabled\", \"true\")\n",
    "sc._jsc.hadoopConfiguration().set(\"fs.s3a.path.style.access\", \"true\")\n",
    "sc._jsc.hadoopConfiguration().set(\"fs.s3a.attempts.maximum\", \"1\")\n",
    "sc._jsc.hadoopConfiguration().set(\"fs.s3a.connection.establish.timeout\", \"5000\")\n",
    "sc._jsc.hadoopConfiguration().set(\"fs.s3a.connection.timeout\", \"10000\")"
   ]
  },
  {
   "cell_type": "code",
   "execution_count": 31,
   "id": "6818398e",
   "metadata": {},
   "outputs": [],
   "source": [
    "token_transfers_schema = StructType([ \\\n",
    "    StructField(\"token_address\", StringType(), True), \\\n",
    "    StructField(\"from_address\", StringType(), True), \\\n",
    "    StructField(\"to_address\", StringType(), True), \\\n",
    "    StructField(\"value\", DecimalType(38, 0), True), \\\n",
    "    StructField(\"transaction_hash\", StringType(), True), \\\n",
    "    StructField(\"log_index\", LongType(), True), \\\n",
    "    StructField(\"block_number\", LongType(), True), \\\n",
    "  ])"
   ]
  },
  {
   "cell_type": "code",
   "execution_count": 33,
   "id": "878be1e6",
   "metadata": {},
   "outputs": [],
   "source": [
    "tokens_schema = StructType([ \\\n",
    "    StructField(\"address\", StringType(), True), \\\n",
    "    StructField(\"symbol\", StringType(), True), \\\n",
    "    StructField(\"name\", StringType(), True), \\\n",
    "    StructField(\"decimals\", LongType(), True), \\\n",
    "    StructField(\"total_supply\", LongType(), True), \\\n",
    "    StructField(\"block_number\", LongType(), True), \\\n",
    "  ])"
   ]
  },
  {
   "cell_type": "code",
   "execution_count": 35,
   "id": "6a0ef2a9",
   "metadata": {},
   "outputs": [],
   "source": [
    "basePath = \"s3a://bsc-test-tx-volume\""
   ]
  },
  {
   "cell_type": "code",
   "execution_count": 37,
   "id": "bcf79fc0",
   "metadata": {},
   "outputs": [],
   "source": [
    "token_transfers_df = spark.read.format(\"csv\") \\\n",
    "    .option(\"header\", True) \\\n",
    "    .schema(token_transfers_schema) \\\n",
    "    .load(basePath + \"/token_transfers/*/*/*.csv\")"
   ]
  },
  {
   "cell_type": "code",
   "execution_count": 38,
   "id": "b3223535",
   "metadata": {},
   "outputs": [],
   "source": [
    "tokens_df = spark.read.format(\"csv\") \\\n",
    "    .option(\"header\", True) \\\n",
    "    .schema(tokens_schema) \\\n",
    "    .load(basePath + \"/tokens/*.csv\")"
   ]
  },
  {
   "cell_type": "code",
   "execution_count": 39,
   "id": "37f2783a",
   "metadata": {},
   "outputs": [
    {
     "name": "stdout",
     "output_type": "stream",
     "text": [
      "+------------------------------------------+------------------------------------------+------------------------------------------+----------------------+------------------------------------------------------------------+---------+------------+\n",
      "|token_address                             |from_address                              |to_address                                |value                 |transaction_hash                                                  |log_index|block_number|\n",
      "+------------------------------------------+------------------------------------------+------------------------------------------+----------------------+------------------------------------------------------------------+---------+------------+\n",
      "|0x6df52fd8732c0d149035e16f4536ef0a61487056|0xcd3d455284b8989ae83459bac9307901a9e21a09|0xe9e0828e243e5930cb478528f01c02242d8ba0fd|7000000000000000000   |0x8d9627c88d8d3b08295dcbf82d16652df69b96310d6b9c14c0157bfb21a026ba|116      |28600002    |\n",
      "|0x55d398326f99059ff775485246999027b3197955|0xe9e0828e243e5930cb478528f01c02242d8ba0fd|0xcd3d455284b8989ae83459bac9307901a9e21a09|1470343878557255958493|0x8d9627c88d8d3b08295dcbf82d16652df69b96310d6b9c14c0157bfb21a026ba|117      |28600002    |\n",
      "|0x2cd7ca738e568589bc1c0875c0d6dec867f41bfa|0x6ad659e84bf8d0317a81ad66eaf5b0443d319048|0x2cd7ca738e568589bc1c0875c0d6dec867f41bfa|981476415901          |0x30fd30e596cd22ad6dfa170e0219dae0ec36481b5f305c99dc8f203fe9d7d869|121      |28600002    |\n",
      "|0x2cd7ca738e568589bc1c0875c0d6dec867f41bfa|0x2cd7ca738e568589bc1c0875c0d6dec867f41bfa|0x0000000000000000000000000000000000000000|981476415901          |0x30fd30e596cd22ad6dfa170e0219dae0ec36481b5f305c99dc8f203fe9d7d869|122      |28600002    |\n",
      "|0x04fa9eb295266d9d4650edcb879da204887dc3da|0x2cd7ca738e568589bc1c0875c0d6dec867f41bfa|0x6ad659e84bf8d0317a81ad66eaf5b0443d319048|72860458352892169343  |0x30fd30e596cd22ad6dfa170e0219dae0ec36481b5f305c99dc8f203fe9d7d869|123      |28600002    |\n",
      "|0xc9882def23bc42d53895b8361d0b1edc7570bc6a|0x2cd7ca738e568589bc1c0875c0d6dec867f41bfa|0x6ad659e84bf8d0317a81ad66eaf5b0443d319048|10492549425           |0x30fd30e596cd22ad6dfa170e0219dae0ec36481b5f305c99dc8f203fe9d7d869|124      |28600002    |\n",
      "|0x55d398326f99059ff775485246999027b3197955|0x34528c77ce3a7d87fc7e1da7a3751c3b4f782163|0xd014e2b283cab91b8505760e22d68896e9018295|100000000000000000000 |0xd68a77a14d70dc258d85abc8b7e2cfa37d773f8a76d38a5032e97eadd6f70ba2|127      |28600002    |\n",
      "|0x7d6801e8cf716e6a06914b7106578f3beb40e51d|0xbb2f771331eb699d069f9532f6507d861b1da5ae|0x4c4415525f42ab5edf4f6e0c2f1553e55d57abc9|230749037059772294    |0x013d4aaf255f070a9e3dac19a59c138900810c77e026f501e912bc4b628c22a0|128      |28600002    |\n",
      "|0xfa82075a6d8f85be9146e64e0f02baa849f8e8fb|0xbb2f771331eb699d069f9532f6507d861b1da5ae|0x4c4415525f42ab5edf4f6e0c2f1553e55d57abc9|84679826514683195560  |0x013d4aaf255f070a9e3dac19a59c138900810c77e026f501e912bc4b628c22a0|129      |28600002    |\n",
      "|0x079a1e0c6f1eb4912064670255d6084edce4f454|0xbb2f771331eb699d069f9532f6507d861b1da5ae|0x4c4415525f42ab5edf4f6e0c2f1553e55d57abc9|87280665848658066     |0x013d4aaf255f070a9e3dac19a59c138900810c77e026f501e912bc4b628c22a0|130      |28600002    |\n",
      "+------------------------------------------+------------------------------------------+------------------------------------------+----------------------+------------------------------------------------------------------+---------+------------+\n",
      "only showing top 10 rows\n",
      "\n"
     ]
    }
   ],
   "source": [
    "token_transfers_df.show(10, False)"
   ]
  },
  {
   "cell_type": "code",
   "execution_count": 40,
   "id": "c7644a87",
   "metadata": {},
   "outputs": [
    {
     "name": "stdout",
     "output_type": "stream",
     "text": [
      "+------------------------------------------+------+-----------------+--------+---------------+------------+\n",
      "|address                                   |symbol|name             |decimals|total_supply   |block_number|\n",
      "+------------------------------------------+------+-----------------+--------+---------------+------------+\n",
      "|0x55d398326f99059ff775485246999027b3197955|USDT  |Tether USD       |18      |null           |null        |\n",
      "|0x6df52fd8732c0d149035e16f4536ef0a61487056|AI    |AI               |18      |null           |null        |\n",
      "|0x2cd7ca738e568589bc1c0875c0d6dec867f41bfa|FstLP |FstSwap          |18      |614228145616886|null        |\n",
      "|0x04fa9eb295266d9d4650edcb879da204887dc3da|OSK   |OSK              |18      |null           |null        |\n",
      "|0x7d6801e8cf716e6a06914b7106578f3beb40e51d|W3    |W3Swap Token     |18      |null           |null        |\n",
      "|0xc9882def23bc42d53895b8361d0b1edc7570bc6a|FIST  |FistToken        |6       |200000000000000|null        |\n",
      "|0xfa82075a6d8f85be9146e64e0f02baa849f8e8fb|PG    |Pego token       |18      |null           |null        |\n",
      "|0x079a1e0c6f1eb4912064670255d6084edce4f454|FOG   |FogDao Token     |18      |null           |null        |\n",
      "|0x0e09fabb73bd3ade0a17ecc321fd13a19e81ce82|Cake  |PancakeSwap Token|18      |null           |null        |\n",
      "|0xb922aa024e71a25077d78b593bd6f11f2f412e72|REC   |RecoveryDAO      |18      |null           |null        |\n",
      "+------------------------------------------+------+-----------------+--------+---------------+------------+\n",
      "only showing top 10 rows\n",
      "\n"
     ]
    }
   ],
   "source": [
    "tokens_df.show(10, False)"
   ]
  },
  {
   "cell_type": "code",
   "execution_count": 41,
   "id": "fd02ab5e",
   "metadata": {},
   "outputs": [
    {
     "data": {
      "text/html": [
       "<style>\n",
       "div.output_area pre {\n",
       "    white-space: pre;\n",
       "}\n",
       "</style>\n"
      ],
      "text/plain": [
       "<IPython.core.display.HTML object>"
      ]
     },
     "metadata": {},
     "output_type": "display_data"
    }
   ],
   "source": [
    "%%html\n",
    "<style>\n",
    "div.output_area pre {\n",
    "    white-space: pre;\n",
    "}\n",
    "</style>"
   ]
  },
  {
   "cell_type": "code",
   "execution_count": 42,
   "id": "b4862479",
   "metadata": {},
   "outputs": [],
   "source": [
    "token_transfers_df.createOrReplaceTempView(\"token_transfers_df\")\n",
    "tokens_df.createOrReplaceTempView(\"tokens_df\")"
   ]
  },
  {
   "cell_type": "code",
   "execution_count": 52,
   "id": "16a4e626",
   "metadata": {},
   "outputs": [],
   "source": [
    "tokens_result_df = spark.sql(\"\"\"\n",
    "SELECT DISTINCT(tt.token_address)\n",
    "FROM token_transfers_df tt\n",
    "LEFT JOIN tokens_df t ON LOWER(tt.token_address) = LOWER(t.address)\n",
    "WHERE t.address IS NULL\n",
    "\"\"\")\n"
   ]
  },
  {
   "cell_type": "code",
   "execution_count": 53,
   "id": "24414067",
   "metadata": {},
   "outputs": [
    {
     "name": "stdout",
     "output_type": "stream",
     "text": [
      "+------------------------------------------+\n",
      "|token_address                             |\n",
      "+------------------------------------------+\n",
      "|0xaee4164c1ee46ed0bbc34790f1a3d1fc87796668|\n",
      "+------------------------------------------+\n",
      "\n"
     ]
    }
   ],
   "source": [
    "result_df.show(10, False) if result_df.count() > 0 else 0"
   ]
  },
  {
   "cell_type": "code",
   "execution_count": null,
   "id": "3bac0f5e",
   "metadata": {},
   "outputs": [],
   "source": [
    "# result_df.repartition(1) \\\n",
    "#     .write \\\n",
    "#     .option(\"header\",True) \\\n",
    "#     .csv(basePath + \"/token_transfer_addresses/\")"
   ]
  }
 ],
 "metadata": {
  "kernelspec": {
   "display_name": "Python 3 (ipykernel)",
   "language": "python",
   "name": "python3"
  },
  "language_info": {
   "codemirror_mode": {
    "name": "ipython",
    "version": 3
   },
   "file_extension": ".py",
   "mimetype": "text/x-python",
   "name": "python",
   "nbconvert_exporter": "python",
   "pygments_lexer": "ipython3",
   "version": "3.9.16"
  }
 },
 "nbformat": 4,
 "nbformat_minor": 5
}
