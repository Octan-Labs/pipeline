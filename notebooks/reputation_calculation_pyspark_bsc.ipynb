{
 "cells": [
  {
   "cell_type": "code",
   "execution_count": 1,
   "id": "ff3a25c0",
   "metadata": {},
   "outputs": [
    {
     "data": {
      "text/html": [
       "<style>\n",
       "div.output_area pre {\n",
       "    white-space: pre;\n",
       "}\n",
       "</style>\n",
       "# To horizontal scroll dataframe table\n"
      ],
      "text/plain": [
       "<IPython.core.display.HTML object>"
      ]
     },
     "metadata": {},
     "output_type": "display_data"
    }
   ],
   "source": [
    "%%html\n",
    "<style>\n",
    "div.output_area pre {\n",
    "    white-space: pre;\n",
    "}\n",
    "</style>\n",
    "# To horizontal scroll dataframe table"
   ]
  },
  {
   "cell_type": "code",
   "execution_count": 2,
   "id": "caf6f4f1",
   "metadata": {
    "scrolled": true
   },
   "outputs": [
    {
     "name": "stdout",
     "output_type": "stream",
     "text": [
      "Starting Spark application\n"
     ]
    },
    {
     "data": {
      "text/html": [
       "<table>\n",
       "<tr><th>ID</th><th>YARN Application ID</th><th>Kind</th><th>State</th><th>Spark UI</th><th>Driver log</th><th>User</th><th>Current session?</th></tr><tr><td>b3760b54-4731-46bc-8305-7197ac2a92a7</td><td>spark-187243d6957a472a880a37bf8f28649c</td><td>pyspark</td><td>idle</td><td></td><td></td><td>None</td><td>✔</td></tr></table>"
      ],
      "text/plain": [
       "<IPython.core.display.HTML object>"
      ]
     },
     "metadata": {},
     "output_type": "display_data"
    },
    {
     "data": {
      "application/vnd.jupyter.widget-view+json": {
       "model_id": "",
       "version_major": 2,
       "version_minor": 0
      },
      "text/plain": [
       "FloatProgress(value=0.0, bar_style='info', description='Progress:', layout=Layout(height='25px', width='50%'),…"
      ]
     },
     "metadata": {},
     "output_type": "display_data"
    },
    {
     "name": "stdout",
     "output_type": "stream",
     "text": [
      "SparkSession available as 'spark'.\n"
     ]
    },
    {
     "data": {
      "application/vnd.jupyter.widget-view+json": {
       "model_id": "",
       "version_major": 2,
       "version_minor": 0
      },
      "text/plain": [
       "FloatProgress(value=0.0, bar_style='info', description='Progress:', layout=Layout(height='25px', width='50%'),…"
      ]
     },
     "metadata": {},
     "output_type": "display_data"
    }
   ],
   "source": [
    "import graphframes\n",
    "from pyspark.sql import SparkSession\n",
    "from graphframes import GraphFrame\n",
    "import os\n",
    "from pyspark.sql.functions import col\n",
    "from pyspark.sql.functions import exp\n",
    "from pyspark.sql.functions import sum as _sum # avoid same name with sum from python\n",
    "from pyspark.sql.functions import row_number\n",
    "from pyspark.sql.window import Window\n",
    "from pyspark.sql.functions import min, max"
   ]
  },
  {
   "cell_type": "code",
   "execution_count": 3,
   "id": "cd891589",
   "metadata": {},
   "outputs": [
    {
     "data": {
      "application/vnd.jupyter.widget-view+json": {
       "model_id": "",
       "version_major": 2,
       "version_minor": 0
      },
      "text/plain": [
       "FloatProgress(value=0.0, bar_style='info', description='Progress:', layout=Layout(height='25px', width='50%'),…"
      ]
     },
     "metadata": {},
     "output_type": "display_data"
    }
   ],
   "source": [
    "# Function to calculating weight of the edge(txn) by the age of the txn\n",
    "def logistic(x,\n",
    "             a=2,\n",
    "             b=1 / 64):\n",
    "    return a / (1.0 + np.exp(-b * x))\n",
    "def normalize(df):\n",
    "    normalized_df=(df-df.min())/(df.max()-df.min())\n",
    "    return normalized_df"
   ]
  },
  {
   "cell_type": "code",
   "execution_count": 4,
   "id": "a32d2001",
   "metadata": {
    "scrolled": true
   },
   "outputs": [
    {
     "data": {
      "application/vnd.jupyter.widget-view+json": {
       "model_id": "",
       "version_major": 2,
       "version_minor": 0
      },
      "text/plain": [
       "FloatProgress(value=0.0, bar_style='info', description='Progress:', layout=Layout(height='25px', width='50%'),…"
      ]
     },
     "metadata": {},
     "output_type": "display_data"
    }
   ],
   "source": [
    "spark = SparkSession \\\n",
    "    .builder \\\n",
    "    .config(\"fs.s3a.access.key\", \"***\") \\\n",
    "    .config(\"fs.s3a.secret.key\", \"***\") \\\n",
    "    .appName(\"Test\") \\\n",
    "    .getOrCreate()"
   ]
  },
  {
   "cell_type": "markdown",
   "id": "dc313b41",
   "metadata": {},
   "source": [
    "## 1. Data Preprocessing"
   ]
  },
  {
   "cell_type": "code",
   "execution_count": 28,
   "id": "32623fc1",
   "metadata": {},
   "outputs": [
    {
     "data": {
      "application/vnd.jupyter.widget-view+json": {
       "model_id": "",
       "version_major": 2,
       "version_minor": 0
      },
      "text/plain": [
       "FloatProgress(value=0.0, bar_style='info', description='Progress:', layout=Layout(height='25px', width='50%'),…"
      ]
     },
     "metadata": {},
     "output_type": "display_data"
    },
    {
     "name": "stdout",
     "output_type": "stream",
     "text": [
      "' test one file\\nbucket=\"s3a://octan-labs-bsc/\"\\npath=\"/transactions/start_block=0000420000/\"\\ndata_df=spark.read.format(\"csv\")     .option(\"header\", True)     .load(bucket+path+\\'*/*.csv\\')\\n#'"
     ]
    }
   ],
   "source": [
    "#''' # get all file\n",
    "\n",
    "bucket=\"s3a://octan-labs-bsc/\"\n",
    "path=\"/transactions/\"\n",
    "data_df=spark.read.format(\"csv\") \\\n",
    "    .option(\"header\", True) \\\n",
    "    .load(bucket+path+'*/*/*.csv')\n",
    "\n",
    "''' test one file\n",
    "\n",
    "bucket=\"s3a://octan-labs-bsc/\"\n",
    "path=\"/transactions/start_block=0000420000/\"\n",
    "data_df=spark.read.format(\"csv\") \\\n",
    "    .option(\"header\", True) \\\n",
    "    .load(bucket+path+'*/*.csv')\n",
    "    \n",
    "#'''"
   ]
  },
  {
   "cell_type": "code",
   "execution_count": 6,
   "id": "a1d17d25",
   "metadata": {
    "scrolled": false
   },
   "outputs": [
    {
     "data": {
      "application/vnd.jupyter.widget-view+json": {
       "model_id": "",
       "version_major": 2,
       "version_minor": 0
      },
      "text/plain": [
       "FloatProgress(value=0.0, bar_style='info', description='Progress:', layout=Layout(height='25px', width='50%'),…"
      ]
     },
     "metadata": {},
     "output_type": "display_data"
    },
    {
     "name": "stdout",
     "output_type": "stream",
     "text": [
      "+------------+------------------------------------------+------------------------------------------+-------------------+------------+\n",
      "|block_number|from_address                              |to_address                                |gas                |gas_price   |\n",
      "+------------+------------------------------------------+------------------------------------------+-------------------+------------+\n",
      "|420200      |0xfc5eb925da6e7d830adf3fce080206db073be569|0xae9269f27437f0fcbc232d39ec814844a51d6b8f|64004              |20000000000 |\n",
      "|420200      |0xfbb684d91129c07b318212fbbfb6ac00644c1ce3|0xae9269f27437f0fcbc232d39ec814844a51d6b8f|74004              |20000000000 |\n",
      "|420200      |0x7ae2f5b9e386cd1b50a4550696d957cb4900f03a|0x0000000000000000000000000000000000001002|9223372036854775807|0           |\n",
      "|420200      |0x7ae2f5b9e386cd1b50a4550696d957cb4900f03a|0x0000000000000000000000000000000000001000|9223372036854775807|0           |\n",
      "|420202      |0xd1ddc0f727935f376ba6f9f51b1e0fb481c25fb1|0x1ffe17b99b439be0afc831239ddecda2a790ff3a|184519             |104000000000|\n",
      "|420202      |0x26d13c17659e1305344ee31635b5a2b72e94d82e|0x082e27ae683a4ba2e3ba5ecb0eeb030d4ccd5e84|316365             |20000000000 |\n",
      "|420202      |0x6be552dc2f8d6abc70ce69dc2d9db3e2f8da14e3|0x75ca8f6c82df5fdfd09049f46ad5d072b0a53bf6|769150             |20000000000 |\n",
      "|420202      |0x8c4d90829ce8f72d0163c1d5cf348a862d550630|0x0000000000000000000000000000000000001002|9223372036854775807|0           |\n",
      "|420202      |0x8c4d90829ce8f72d0163c1d5cf348a862d550630|0x0000000000000000000000000000000000001000|9223372036854775807|0           |\n",
      "|420203      |0x631fc1ea2270e98fbd9d92658ece0f5a269aa161|0x027d1e9d9fbbecfb536395fc1458365986b996cb|21000              |20000000000 |\n",
      "|420203      |0x631fc1ea2270e98fbd9d92658ece0f5a269aa161|0x8d985b053c12e20e5f6ccb4d77839eaffd368ff6|21000              |20000000000 |\n",
      "|420203      |0x631fc1ea2270e98fbd9d92658ece0f5a269aa161|0xacf5af9c7d054cc31d4f2000e74c049c7d81ce9f|21000              |20000000000 |\n",
      "|420203      |0x631fc1ea2270e98fbd9d92658ece0f5a269aa161|0x21ae46ba2e14c70bf4cf135931020bea69f1c3ec|21000              |20000000000 |\n",
      "|420203      |0x631fc1ea2270e98fbd9d92658ece0f5a269aa161|0xf423f390f54d585c8f548e65ebaf947d884cb4f1|21000              |20000000000 |\n",
      "|420203      |0x9ef9f4360c606c7ab4db26b016007d3ad0ab86a0|0x0000000000000000000000000000000000001002|9223372036854775807|0           |\n",
      "|420203      |0x9ef9f4360c606c7ab4db26b016007d3ad0ab86a0|0x0000000000000000000000000000000000001000|9223372036854775807|0           |\n",
      "|420204      |0x26d13c17659e1305344ee31635b5a2b72e94d82e|0x479a6f56808294790313a54efe74257fc2cb202c|361365             |20000000000 |\n",
      "|420204      |0x04bf41818048063aa94c6b118b7bdc49d330273d|0x75ca8f6c82df5fdfd09049f46ad5d072b0a53bf6|1002574            |20000000000 |\n",
      "|420204      |0xa6f79b60359f141df90a0c745125b131caaffd12|0x0000000000000000000000000000000000001002|9223372036854775807|0           |\n",
      "|420204      |0xa6f79b60359f141df90a0c745125b131caaffd12|0x0000000000000000000000000000000000001000|9223372036854775807|0           |\n",
      "+------------+------------------------------------------+------------------------------------------+-------------------+------------+\n",
      "only showing top 20 rows"
     ]
    }
   ],
   "source": [
    "data_df = data_df.select(col('block_number'),col('from_address'),col('to_address'),col('gas'),col('gas_price'))\n",
    "data_df.show(truncate=False)"
   ]
  },
  {
   "cell_type": "markdown",
   "id": "9d75b6ff",
   "metadata": {},
   "source": [
    "#### Summary before processing"
   ]
  },
  {
   "cell_type": "code",
   "execution_count": 29,
   "id": "abf9a05a",
   "metadata": {},
   "outputs": [
    {
     "data": {
      "application/vnd.jupyter.widget-view+json": {
       "model_id": "",
       "version_major": 2,
       "version_minor": 0
      },
      "text/plain": [
       "FloatProgress(value=0.0, bar_style='info', description='Progress:', layout=Layout(height='25px', width='50%'),…"
      ]
     },
     "metadata": {},
     "output_type": "display_data"
    },
    {
     "name": "stdout",
     "output_type": "stream",
     "text": [
      "Total:  234853\n",
      "first block: 1 last block: 99879"
     ]
    }
   ],
   "source": [
    "print('Total: ',data_df.count())\n",
    "block_min = data_df.select(min('block_number')).first()[0]\n",
    "block_max = data_df.select(max('block_number')).first()[0]\n",
    "print('first block:',block_min,'last block:',block_max)"
   ]
  },
  {
   "cell_type": "markdown",
   "id": "e47c7db1",
   "metadata": {},
   "source": [
    "#### Get the Used gas"
   ]
  },
  {
   "cell_type": "code",
   "execution_count": 30,
   "id": "ce026b6b",
   "metadata": {},
   "outputs": [
    {
     "data": {
      "application/vnd.jupyter.widget-view+json": {
       "model_id": "",
       "version_major": 2,
       "version_minor": 0
      },
      "text/plain": [
       "FloatProgress(value=0.0, bar_style='info', description='Progress:', layout=Layout(height='25px', width='50%'),…"
      ]
     },
     "metadata": {},
     "output_type": "display_data"
    }
   ],
   "source": [
    "data_df = data_df.withColumn('gas_used (bnb)', col('gas') * col('gas_price'))"
   ]
  },
  {
   "cell_type": "code",
   "execution_count": 31,
   "id": "5910c5d1",
   "metadata": {
    "scrolled": false
   },
   "outputs": [
    {
     "data": {
      "application/vnd.jupyter.widget-view+json": {
       "model_id": "",
       "version_major": 2,
       "version_minor": 0
      },
      "text/plain": [
       "FloatProgress(value=0.0, bar_style='info', description='Progress:', layout=Layout(height='25px', width='50%'),…"
      ]
     },
     "metadata": {},
     "output_type": "display_data"
    },
    {
     "name": "stdout",
     "output_type": "stream",
     "text": [
      "+--------------------+-----+--------------------+------------+-----------------+--------------------+--------------------+--------------------+-------------------+-----------+--------------------+---------------+---------------+------------------------+----------------+--------------+\n",
      "|                hash|nonce|          block_hash|block_number|transaction_index|        from_address|          to_address|               value|                gas|  gas_price|               input|block_timestamp|max_fee_per_gas|max_priority_fee_per_gas|transaction_type|gas_used (bnb)|\n",
      "+--------------------+-----+--------------------+------------+-----------------+--------------------+--------------------+--------------------+-------------------+-----------+--------------------+---------------+---------------+------------------------+----------------+--------------+\n",
      "|0xe30271d29e02c04...|   36|0x534c7cc400e6d79...|      400302|                0|0x5d0d8aa6ee5d444...|0x75ca8f6c82df5fd...|                   0|            1298784|20000000000|0x4a25d94a0000000...|     1599872686|           null|                    null|               0|   2.597568E16|\n",
      "|0x4404f19d1d01441...| 3504|0x534c7cc400e6d79...|      400302|                1|0x22b81f8e175ffde...|0x000000000000000...|    1047820000000000|9223372036854775807|          0|                  0x|     1599872686|           null|                    null|               0|           0.0|\n",
      "|0xe2222a84e0af1a9...| 3505|0x534c7cc400e6d79...|      400302|                2|0x22b81f8e175ffde...|0x000000000000000...|   15717300000000000|9223372036854775807|          0|0xf340fa010000000...|     1599872686|           null|                    null|               0|           0.0|\n",
      "|0x34f05d4347c3cc9...|   20|0x94966b7f9879023...|      400303|                0|0xd8b71df4136d1ae...|0xe4ae305ebe1abe6...| 6098006143642222113|             108892|20000000000|0xaad3ec960000000...|     1599872689|           null|                    null|               0|    2.17784E15|\n",
      "|0x6d1152c9e493e1c...| 3217|0x94966b7f9879023...|      400303|                1|0x2a7cdd959bfe8d9...|0x000000000000000...|      90743750000000|9223372036854775807|          0|                  0x|     1599872689|           null|                    null|               0|           0.0|\n",
      "|0xfa16756c14c085f...| 3218|0x94966b7f9879023...|      400303|                2|0x2a7cdd959bfe8d9...|0x000000000000000...|    1361156250000000|9223372036854775807|          0|0xf340fa010000000...|     1599872689|           null|                    null|               0|           0.0|\n",
      "|0x00d91c555dcaaa4...|    6|0xf9e65620ad4bf64...|      400304|                0|0xb07db6b10915860...|0x75ca8f6c82df5fd...|                   0|             744846|20000000000|0x7ae06e580000000...|     1599872692|           null|                    null|               0|   1.489692E16|\n",
      "|0xdede1a2536dac1c...| 2749|0xf9e65620ad4bf64...|      400304|                1|0x2d4c407bbe49438...|0x000000000000000...|      50687500000000|9223372036854775807|          0|                  0x|     1599872692|           null|                    null|               0|           0.0|\n",
      "|0x3ff50f7b8b9f2db...| 2750|0xf9e65620ad4bf64...|      400304|                2|0x2d4c407bbe49438...|0x000000000000000...|     760312500000000|9223372036854775807|          0|0xf340fa010000000...|     1599872692|           null|                    null|               0|           0.0|\n",
      "|0x107036295a27c69...|   23|0x225de9233416e89...|      400305|                0|0x2e0ddb710a53ba6...|0x75ca8f6c82df5fd...| 1186547337478838400|             669867|85000000000|0xf6f1e3060000000...|     1599872695|           null|                    null|               0|  5.6938695E16|\n",
      "|0x2abf58e03f0c5c2...|  127|0x225de9233416e89...|      400305|                1|0xdf7b69c22b96f2c...|0x75ca8f6c82df5fd...|11336885156413747000|             699072|20000000000|0xf6f1e3060000000...|     1599872695|           null|                    null|               0|   1.398144E16|\n",
      "|0x3231bf9d2951548...| 3537|0x225de9233416e89...|      400305|                2|0x2f7be8361c80a4c...|0x000000000000000...|    3134999062500000|9223372036854775807|          0|                  0x|     1599872695|           null|                    null|               0|           0.0|\n",
      "|0x64c7d33c89fd865...| 3538|0x225de9233416e89...|      400305|                3|0x2f7be8361c80a4c...|0x000000000000000...|   47024985937500000|9223372036854775807|          0|0xf340fa010000000...|     1599872695|           null|                    null|               0|           0.0|\n",
      "|0xedb7bb0c4babae4...|  126|0x818e5cc0141d303...|      400306|                0|0x52c1ffbdca58074...|0x75ca8f6c82df5fd...|                   0|            1444284|20000000000|0x38ed17390000000...|     1599872698|           null|                    null|               0|   2.888568E16|\n",
      "|0x7fbe3d557587154...|   30|0x818e5cc0141d303...|      400306|                1|0x17e32fdb2c47b2e...|0x75ca8f6c82df5fd...|17997693925781218...|             941634|20000000000|0xfb3bdb410000000...|     1599872698|           null|                    null|               0|   1.883268E16|\n",
      "|0x0046a5845df4c64...| 3102|0x818e5cc0141d303...|      400306|                2|0x35e7a025f4da968...|0x000000000000000...|    1251408750000000|9223372036854775807|          0|                  0x|     1599872698|           null|                    null|               0|           0.0|\n",
      "|0x12237688a0d2480...| 3103|0x818e5cc0141d303...|      400306|                3|0x35e7a025f4da968...|0x000000000000000...|   18771131250000000|9223372036854775807|          0|0xf340fa010000000...|     1599872698|           null|                    null|               0|           0.0|\n",
      "|0xe90a212994888fd...|  113|0xa1ab4918d4b85f7...|      400308|                0|0xd576b5994865c94...|0x75ca8f6c82df5fd...| 3557248714694487600|             676500|85000000000|0xf6f1e3060000000...|     1599872704|           null|                    null|               0|    5.75025E16|\n",
      "|0x6b9c26b5e489fcd...| 3409|0xa1ab4918d4b85f7...|      400308|                1|0x6488aa4d1955ee3...|0x000000000000000...|     216144375000000|9223372036854775807|          0|                  0x|     1599872704|           null|                    null|               0|           0.0|\n",
      "|0x937aef9d26c5ed9...| 3410|0xa1ab4918d4b85f7...|      400308|                2|0x6488aa4d1955ee3...|0x000000000000000...|    3242165625000000|9223372036854775807|          0|0xf340fa010000000...|     1599872704|           null|                    null|               0|           0.0|\n",
      "+--------------------+-----+--------------------+------------+-----------------+--------------------+--------------------+--------------------+-------------------+-----------+--------------------+---------------+---------------+------------------------+----------------+--------------+\n",
      "only showing top 20 rows"
     ]
    }
   ],
   "source": [
    "data_df.show()"
   ]
  },
  {
   "cell_type": "markdown",
   "id": "857204cb",
   "metadata": {},
   "source": [
    "### remove loop, keep last txn, remove nan and null address"
   ]
  },
  {
   "cell_type": "code",
   "execution_count": 32,
   "id": "1ebbc39f",
   "metadata": {},
   "outputs": [
    {
     "data": {
      "application/vnd.jupyter.widget-view+json": {
       "model_id": "",
       "version_major": 2,
       "version_minor": 0
      },
      "text/plain": [
       "FloatProgress(value=0.0, bar_style='info', description='Progress:', layout=Layout(height='25px', width='50%'),…"
      ]
     },
     "metadata": {},
     "output_type": "display_data"
    }
   ],
   "source": [
    " # remove loop\n",
    "data_df = data_df.filter(col('from_address') != col('to_address'))\n",
    " # keep last txn\n",
    "window_spec = Window.partitionBy(['from_address', 'to_address']).orderBy(col('block_number').desc())\n",
    "data_df = data_df.withColumn('row_num', row_number().over(window_spec)).filter(col('row_num') == 1).drop('row_num')\n",
    "# remove nan\n",
    "data_df = data_df.dropna(subset=['from_address'])\n",
    "data_df = data_df.dropna(subset=['to_address'])\n",
    "# remove null address (address for burning)\n",
    "data_df = data_df.filter(col('from_address') != '0x0000000000000000000000000000000000000000') \n",
    "data_df = data_df.filter(col('from_address') != '0x000000000000000000000000000000000000dEaD') \n"
   ]
  },
  {
   "cell_type": "markdown",
   "id": "a24030c5",
   "metadata": {},
   "source": [
    "Example:\n",
    "Before pre-processing\n",
    "\n",
    "| block_num | from_address | to_address |\n",
    "| --- | --- | --- |\n",
    "| 1 | a | b |\n",
    "| 1 | a | b |\n",
    "| 2 | a | b |\n",
    "| 2 | a | null |\n",
    "| 3 | a |  |\n",
    "| 3 | a | a |\n",
    "\n",
    "After pre-processing\n",
    "\n",
    "| block_num | from_address | to_address |\n",
    "| --- | --- | --- |\n",
    "| 2 | a | b |\n"
   ]
  },
  {
   "cell_type": "markdown",
   "id": "7fb3f231",
   "metadata": {},
   "source": [
    "#### Summary after pre-processing"
   ]
  },
  {
   "cell_type": "code",
   "execution_count": 33,
   "id": "53b4c502",
   "metadata": {},
   "outputs": [
    {
     "data": {
      "application/vnd.jupyter.widget-view+json": {
       "model_id": "",
       "version_major": 2,
       "version_minor": 0
      },
      "text/plain": [
       "FloatProgress(value=0.0, bar_style='info', description='Progress:', layout=Layout(height='25px', width='50%'),…"
      ]
     },
     "metadata": {},
     "output_type": "display_data"
    },
    {
     "name": "stdout",
     "output_type": "stream",
     "text": [
      "Total: 19154 txns\n",
      "first block: 1 last block: 99879"
     ]
    }
   ],
   "source": [
    "print('Total:', data_df.count(), 'txns')\n",
    "block_min = data_df.select(min('block_number')).first()[0]\n",
    "block_max = data_df.select(max('block_number')).first()[0]\n",
    "print('first block:',block_min,'last block:',block_max)"
   ]
  },
  {
   "cell_type": "markdown",
   "id": "f2c455f3",
   "metadata": {},
   "source": [
    "## 2. Calculting weight for node and edge"
   ]
  },
  {
   "cell_type": "markdown",
   "id": "da33cc15",
   "metadata": {},
   "source": [
    "In this verion, graphframe will be used to calculate page rank. However, due to limitation of this package, it cannot assign weight to edges and node. </br>\n",
    "Therefore, graphframe part will be used as a place holder for better package. </br>\n",
    "Weight for node and edge are still calculated but will not be used."
   ]
  },
  {
   "cell_type": "code",
   "execution_count": 34,
   "id": "021e4631",
   "metadata": {},
   "outputs": [
    {
     "data": {
      "application/vnd.jupyter.widget-view+json": {
       "model_id": "",
       "version_major": 2,
       "version_minor": 0
      },
      "text/plain": [
       "FloatProgress(value=0.0, bar_style='info', description='Progress:', layout=Layout(height='25px', width='50%'),…"
      ]
     },
     "metadata": {},
     "output_type": "display_data"
    },
    {
     "name": "stdout",
     "output_type": "stream",
     "text": [
      "+--------------------+-----+--------------------+------------+-----------------+--------------------+--------------------+--------------------+------+------------+--------------------+---------------+---------------+------------------------+----------------+--------------+----------+\n",
      "|                hash|nonce|          block_hash|block_number|transaction_index|        from_address|          to_address|               value|   gas|   gas_price|               input|block_timestamp|max_fee_per_gas|max_priority_fee_per_gas|transaction_type|gas_used (bnb)|block_date|\n",
      "+--------------------+-----+--------------------+------------+-----------------+--------------------+--------------------+--------------------+------+------------+--------------------+---------------+---------------+------------------------+----------------+--------------+----------+\n",
      "|0xfc5827f6567c2b4...|   14|0x4e2dde1c55a7235...|      402026|                0|0x000000004fa9e63...|0x8f76c99c3e96371...|  100000000000000000| 21000| 91000000000|                  0x|     1599877858|           null|                    null|               0|      1.911E15|        13|\n",
      "|0x99399ac6bd86065...|    8|0x22bc89e163fb538...|      402822|                1|0x000819e432ac8eb...|0xae9269f27437f0f...|                   0| 66006| 20000000000|0x095ea7b30000000...|     1599880246|           null|                    null|               0|    1.32012E15|        13|\n",
      "|0xf33e1bee622a651...|   59|0x2cf6b4f449e28bb...|      415290|                0|0x00197a17c8ec9e0...|0x0d76db4e067be7f...|                   0|152910| 20000000000|0x0121b93f0000000...|     1599917650|           null|                    null|               0|     3.0582E15|        14|\n",
      "|0x5c904644e3a5e95...|   70|0xb3ac8f4f08c81d5...|      420302|                0|0x00197a17c8ec9e0...|0x2170ed0880ac9a7...|                   0| 76708|103000000000|0xa9059cbb0000000...|     1599932686|           null|                    null|               0|   7.900924E15|        14|\n",
      "|0x8900f7db2dd1581...|   22|0x4444c59378b5c68...|      399545|                0|0x00197a17c8ec9e0...|0x89da130d26b6dba...|                   0|152926| 20000000000|0x0121b93f0000000...|     1599870415|           null|                    null|               0|    3.05852E15|        13|\n",
      "|0x51a28044502bd4a...|   74|0x5d627c10e85fb65...|      420903|                0|0x00197a17c8ec9e0...|0x8da632adeb2bf5b...|                   0|312643| 20000000000|          0x174f57af|     1599934489|           null|                    null|               0|    6.25286E15|        14|\n",
      "|0xe3e664c057efe85...|    0|0xbd37dd2f2f61fd9...|      406810|                1|0x00486534de65988...|0x631fc1ea2270e98...|13290108735130779...|207128| 20000000000|                  0x|     1599892210|           null|                    null|               0|    4.14256E15|        14|\n",
      "|0x7dda967fb6a9c78...|   11|0xa7f669fd89fe946...|      401678|                1|0x0064dd1840a0e52...|0x844ef68ab8881b9...|                   0|152910| 20000000000|0x0121b93f0000000...|     1599876814|           null|                    null|               0|     3.0582E15|        13|\n",
      "|0xb17786a94f1b8e6...|   29|0x2d627433b7299b9...|      417232|                0|0x0064dd1840a0e52...|0xaebdfd8bcedbf5b...|                   0|152910| 20000000000|0x0121b93f0000000...|     1599923476|           null|                    null|               0|     3.0582E15|        14|\n",
      "|0x70e14fed5786ff7...|    2|0x9f9dccdaa96eddf...|      407753|                0|0x00bc4a645056114...|0x24df3ff7d6b0089...|18898679802000000...| 21000| 82000000000|                  0x|     1599895039|           null|                    null|               0|      1.722E15|        14|\n",
      "|0xe0f801597d99ada...|    2|0x86cc0a7b0132e5f...|      406678|                0|0x00f928a6adc7c34...|0xe4ae305ebe1abe6...|43000000000000000000| 86374| 25000000000|0xaad3ec960000000...|     1599891814|           null|                    null|               0|    2.15935E15|        14|\n",
      "|0xa2468736b516e4c...|    8|0x189ebe814d22aea...|      402279|                0|0x0103a4966daba5a...|0x082e27ae683a4ba...|                   0|286396| 20000000000|          0x174f57af|     1599878617|           null|                    null|               0|    5.72792E15|        13|\n",
      "|0xdf3862efe119fdc...|    0|0x2d60a9afc990a39...|      429260|                1|0x013c0f5d846f6ca...|0x75ca8f6c82df5fd...|15300000000000000000|957862| 20000000000|0x7ff36ab50000000...|     1599959560|           null|                    null|               0|   1.915724E16|        14|\n",
      "|0x9786e17409773cf...|    0|0xf0912e7cdade34b...|      312132|                1|0x0149c5dbd25732b...|0xf7a9072cacbc153...| 9550000000000000000| 45000| 20000000000|                  0x|     1599608176|           null|                    null|               0|        9.0E14|        10|\n",
      "|0xa7542f4a80d2a45...|    8|0x119c7acf3a184e0...|      409699|                2|0x016550b47d76b10...|0xae9269f27437f0f...|                   0| 66006| 20000000000|0x095ea7b30000000...|     1599900877|           null|                    null|               0|    1.32012E15|        14|\n",
      "|0x821ee314b9f3098...|    1|0xbde5a4368e9efd0...|      401119|                0|0x0204478625ab8ce...|0xe9e7cea3dedca59...|                   0| 66213| 20000000000|0x095ea7b30000000...|     1599875137|           null|                    null|               0|    1.32426E15|        13|\n",
      "|0x5bd8498d50c2db3...|    4|0x2756e055586280c...|      413609|                1|0x0225610b230e068...|0x2664dc3b972ca38...|                   0|152910| 20000000000|0x0121b93f0000000...|     1599912607|           null|                    null|               0|     3.0582E15|        14|\n",
      "|0x7f284995a5631db...|   72|0x0b4ac09bc0089f0...|      418700|                0|0x0230385654b1173...|0xa04071f26a64608...|                   0|152910| 20000000000|0x0121b93f0000000...|     1599927880|           null|                    null|               0|     3.0582E15|        14|\n",
      "|0xc4cc3a8c6d010b1...|   26|0x8a9a72840680f4c...|      416599|                3|0x02722849eac77a6...|0x88fc0f1d54b468c...|                   0|152926| 20000000000|0x0121b93f0000000...|     1599921577|           null|                    null|               0|    3.05852E15|        14|\n",
      "|0xc236294178abf99...|   22|0xdd375399e8d2528...|      404598|                0|0x02fbadf4f658788...|0x30263388599a844...|                   0|152910| 20000000000|0x0121b93f0000000...|     1599885574|           null|                    null|               0|     3.0582E15|        14|\n",
      "+--------------------+-----+--------------------+------------+-----------------+--------------------+--------------------+--------------------+------+------------+--------------------+---------------+---------------+------------------------+----------------+--------------+----------+\n",
      "only showing top 20 rows"
     ]
    }
   ],
   "source": [
    "activate_time=90\n",
    "blockperday_set=28800\n",
    "data_df = data_df.withColumn('block_date', ((col('block_number') - block_min - activate_time) / blockperday_set).cast('int'))\n",
    "data_df.show()"
   ]
  },
  {
   "cell_type": "code",
   "execution_count": 35,
   "id": "4d2924b1",
   "metadata": {
    "scrolled": false
   },
   "outputs": [
    {
     "data": {
      "application/vnd.jupyter.widget-view+json": {
       "model_id": "",
       "version_major": 2,
       "version_minor": 0
      },
      "text/plain": [
       "FloatProgress(value=0.0, bar_style='info', description='Progress:', layout=Layout(height='25px', width='50%'),…"
      ]
     },
     "metadata": {},
     "output_type": "display_data"
    },
    {
     "name": "stdout",
     "output_type": "stream",
     "text": [
      "+--------------------+-----+--------------------+------------+-----------------+--------------------+--------------------+--------------------+------+------------+--------------------+---------------+---------------+------------------------+----------------+--------------+----------+------------------+\n",
      "|                hash|nonce|          block_hash|block_number|transaction_index|        from_address|          to_address|               value|   gas|   gas_price|               input|block_timestamp|max_fee_per_gas|max_priority_fee_per_gas|transaction_type|gas_used (bnb)|block_date|        age_weight|\n",
      "+--------------------+-----+--------------------+------------+-----------------+--------------------+--------------------+--------------------+------+------------+--------------------+---------------+---------------+------------------------+----------------+--------------+----------+------------------+\n",
      "|0xfc5827f6567c2b4...|   14|0x4e2dde1c55a7235...|      402026|                0|0x000000004fa9e63...|0x8f76c99c3e96371...|  100000000000000000| 21000| 91000000000|                  0x|     1599877858|           null|                    null|               0|      1.911E15|        13|0.5506073655352404|\n",
      "|0x99399ac6bd86065...|    8|0x22bc89e163fb538...|      402822|                1|0x000819e432ac8eb...|0xae9269f27437f0f...|                   0| 66006| 20000000000|0x095ea7b30000000...|     1599880246|           null|                    null|               0|    1.32012E15|        13|0.5506073655352404|\n",
      "|0xf33e1bee622a651...|   59|0x2cf6b4f449e28bb...|      415290|                0|0x00197a17c8ec9e0...|0x0d76db4e067be7f...|                   0|152910| 20000000000|0x0121b93f0000000...|     1599917650|           null|                    null|               0|     3.0582E15|        14|0.5544704649604273|\n",
      "|0x5c904644e3a5e95...|   70|0xb3ac8f4f08c81d5...|      420302|                0|0x00197a17c8ec9e0...|0x2170ed0880ac9a7...|                   0| 76708|103000000000|0xa9059cbb0000000...|     1599932686|           null|                    null|               0|   7.900924E15|        14|0.5544704649604273|\n",
      "|0x8900f7db2dd1581...|   22|0x4444c59378b5c68...|      399545|                0|0x00197a17c8ec9e0...|0x89da130d26b6dba...|                   0|152926| 20000000000|0x0121b93f0000000...|     1599870415|           null|                    null|               0|    3.05852E15|        13|0.5506073655352404|\n",
      "|0x51a28044502bd4a...|   74|0x5d627c10e85fb65...|      420903|                0|0x00197a17c8ec9e0...|0x8da632adeb2bf5b...|                   0|312643| 20000000000|          0x174f57af|     1599934489|           null|                    null|               0|    6.25286E15|        14|0.5544704649604273|\n",
      "|0xe3e664c057efe85...|    0|0xbd37dd2f2f61fd9...|      406810|                1|0x00486534de65988...|0x631fc1ea2270e98...|13290108735130779...|207128| 20000000000|                  0x|     1599892210|           null|                    null|               0|    4.14256E15|        14|0.5544704649604273|\n",
      "|0x7dda967fb6a9c78...|   11|0xa7f669fd89fe946...|      401678|                1|0x0064dd1840a0e52...|0x844ef68ab8881b9...|                   0|152910| 20000000000|0x0121b93f0000000...|     1599876814|           null|                    null|               0|     3.0582E15|        13|0.5506073655352404|\n",
      "|0xb17786a94f1b8e6...|   29|0x2d627433b7299b9...|      417232|                0|0x0064dd1840a0e52...|0xaebdfd8bcedbf5b...|                   0|152910| 20000000000|0x0121b93f0000000...|     1599923476|           null|                    null|               0|     3.0582E15|        14|0.5544704649604273|\n",
      "|0x70e14fed5786ff7...|    2|0x9f9dccdaa96eddf...|      407753|                0|0x00bc4a645056114...|0x24df3ff7d6b0089...|18898679802000000...| 21000| 82000000000|                  0x|     1599895039|           null|                    null|               0|      1.722E15|        14|0.5544704649604273|\n",
      "|0xe0f801597d99ada...|    2|0x86cc0a7b0132e5f...|      406678|                0|0x00f928a6adc7c34...|0xe4ae305ebe1abe6...|43000000000000000000| 86374| 25000000000|0xaad3ec960000000...|     1599891814|           null|                    null|               0|    2.15935E15|        14|0.5544704649604273|\n",
      "|0xa2468736b516e4c...|    8|0x189ebe814d22aea...|      402279|                0|0x0103a4966daba5a...|0x082e27ae683a4ba...|                   0|286396| 20000000000|          0x174f57af|     1599878617|           null|                    null|               0|    5.72792E15|        13|0.5506073655352404|\n",
      "|0xdf3862efe119fdc...|    0|0x2d60a9afc990a39...|      429260|                1|0x013c0f5d846f6ca...|0x75ca8f6c82df5fd...|15300000000000000000|957862| 20000000000|0x7ff36ab50000000...|     1599959560|           null|                    null|               0|   1.915724E16|        14|0.5544704649604273|\n",
      "|0x9786e17409773cf...|    0|0xf0912e7cdade34b...|      312132|                1|0x0149c5dbd25732b...|0xf7a9072cacbc153...| 9550000000000000000| 45000| 20000000000|                  0x|     1599608176|           null|                    null|               0|        9.0E14|        10|0.5389832206876841|\n",
      "|0xa7542f4a80d2a45...|    8|0x119c7acf3a184e0...|      409699|                2|0x016550b47d76b10...|0xae9269f27437f0f...|                   0| 66006| 20000000000|0x095ea7b30000000...|     1599900877|           null|                    null|               0|    1.32012E15|        14|0.5544704649604273|\n",
      "|0x821ee314b9f3098...|    1|0xbde5a4368e9efd0...|      401119|                0|0x0204478625ab8ce...|0xe9e7cea3dedca59...|                   0| 66213| 20000000000|0x095ea7b30000000...|     1599875137|           null|                    null|               0|    1.32426E15|        13|0.5506073655352404|\n",
      "|0x5bd8498d50c2db3...|    4|0x2756e055586280c...|      413609|                1|0x0225610b230e068...|0x2664dc3b972ca38...|                   0|152910| 20000000000|0x0121b93f0000000...|     1599912607|           null|                    null|               0|     3.0582E15|        14|0.5544704649604273|\n",
      "|0x7f284995a5631db...|   72|0x0b4ac09bc0089f0...|      418700|                0|0x0230385654b1173...|0xa04071f26a64608...|                   0|152910| 20000000000|0x0121b93f0000000...|     1599927880|           null|                    null|               0|     3.0582E15|        14|0.5544704649604273|\n",
      "|0xc4cc3a8c6d010b1...|   26|0x8a9a72840680f4c...|      416599|                3|0x02722849eac77a6...|0x88fc0f1d54b468c...|                   0|152926| 20000000000|0x0121b93f0000000...|     1599921577|           null|                    null|               0|    3.05852E15|        14|0.5544704649604273|\n",
      "|0xc236294178abf99...|   22|0xdd375399e8d2528...|      404598|                0|0x02fbadf4f658788...|0x30263388599a844...|                   0|152910| 20000000000|0x0121b93f0000000...|     1599885574|           null|                    null|               0|     3.0582E15|        14|0.5544704649604273|\n",
      "+--------------------+-----+--------------------+------------+-----------------+--------------------+--------------------+--------------------+------+------------+--------------------+---------------+---------------+------------------------+----------------+--------------+----------+------------------+\n",
      "only showing top 20 rows"
     ]
    }
   ],
   "source": [
    "a = 1\n",
    "b = 1/64\n",
    "data_df = data_df.withColumn('age_weight', a / (1.0 + exp(-b * data_df['block_date'])))\n",
    "data_df.show()"
   ]
  },
  {
   "cell_type": "markdown",
   "id": "9b090a91",
   "metadata": {},
   "source": [
    "### Get weight for edge"
   ]
  },
  {
   "cell_type": "code",
   "execution_count": 36,
   "id": "0dd988f6",
   "metadata": {},
   "outputs": [
    {
     "data": {
      "application/vnd.jupyter.widget-view+json": {
       "model_id": "",
       "version_major": 2,
       "version_minor": 0
      },
      "text/plain": [
       "FloatProgress(value=0.0, bar_style='info', description='Progress:', layout=Layout(height='25px', width='50%'),…"
      ]
     },
     "metadata": {},
     "output_type": "display_data"
    }
   ],
   "source": [
    "to_weights_df = data_df.select(['to_address', 'age_weight'])\n",
    "node_age_weights = to_weights_df.groupBy('to_address').agg(_sum('age_weight').alias('age_weight'))\n",
    "s_weights = node_age_weights.agg(_sum('age_weight')).collect()[0][0] # result is a list of row so need [0][0]\n",
    "personalized_weights = {row['to_address']: row['age_weight']/s_weights for row in node_age_weights.collect()}"
   ]
  },
  {
   "cell_type": "code",
   "execution_count": 37,
   "id": "7cb642f9",
   "metadata": {
    "scrolled": false
   },
   "outputs": [
    {
     "data": {
      "application/vnd.jupyter.widget-view+json": {
       "model_id": "",
       "version_major": 2,
       "version_minor": 0
      },
      "text/plain": [
       "FloatProgress(value=0.0, bar_style='info', description='Progress:', layout=Layout(height='25px', width='50%'),…"
      ]
     },
     "metadata": {},
     "output_type": "display_data"
    },
    {
     "name": "stdout",
     "output_type": "stream",
     "text": [
      "+------------------------------------------------------------------+-----+------------------------------------------------------------------+------------+-----------------+------------------------------------------+------------------------------------------+----------------------+------+------------+--------------------------------------------------------------------------------------------------------------------------------------------------------------------------------------------------------------------------------------------------------------------------------------------------------------------------------------------------------------------------------------------------------------------------------------------------------------------------+---------------+---------------+------------------------+----------------+--------------+----------+------------------+\n",
      "|hash                                                              |nonce|block_hash                                                        |block_number|transaction_index|from_address                              |to_address                                |value                 |gas   |gas_price   |input                                                                                                                                                                                                                                                                                                                                                                                                                                                                     |block_timestamp|max_fee_per_gas|max_priority_fee_per_gas|transaction_type|gas_used (bnb)|block_date|age_weight        |\n",
      "+------------------------------------------------------------------+-----+------------------------------------------------------------------+------------+-----------------+------------------------------------------+------------------------------------------+----------------------+------+------------+--------------------------------------------------------------------------------------------------------------------------------------------------------------------------------------------------------------------------------------------------------------------------------------------------------------------------------------------------------------------------------------------------------------------------------------------------------------------------+---------------+---------------+------------------------+----------------+--------------+----------+------------------+\n",
      "|0xfc5827f6567c2b40af98706cc8db02314364361bcec14b79c72f4a915e6a29b7|14   |0x4e2dde1c55a7235bb6323be703d33f178183028a1035ec126d51758c4cb7dd97|402026      |0                |0x000000004fa9e635dbe91c83aee357d01494936d|0x8f76c99c3e96371edeffe35657137a5236646512|100000000000000000    |21000 |91000000000 |0x                                                                                                                                                                                                                                                                                                                                                                                                                                                                        |1599877858     |null           |null                    |0               |1.911E15      |13        |0.5506073655352404|\n",
      "|0x99399ac6bd86065cd43f8f05ade40ea6f774678991d534480400b7d631e43f28|8    |0x22bc89e163fb53891448f989a6a9528292f622b2a2e5587c79d24be5fa167182|402822      |1                |0x000819e432ac8eb584f521de5752ed11c22dcc1b|0xae9269f27437f0fcbc232d39ec814844a51d6b8f|0                     |66006 |20000000000 |0x095ea7b300000000000000000000000075ca8f6c82df5fdfd09049f46ad5d072b0a53bf6000000000000000000000000000000000000000c9ed9e4fd69ace1175c000000                                                                                                                                                                                                                                                                                                                                |1599880246     |null           |null                    |0               |1.32012E15    |13        |0.5506073655352404|\n",
      "|0xf33e1bee622a65142ff08a46eaae7c65770f9e9f3ace737cb898be0e47934dda|59   |0x2cf6b4f449e28bb546bc84008e706258a8658d8f4c11396ab73235833604e813|415290      |0                |0x00197a17c8ec9e02c852be37c127dcc004ea4eca|0x0d76db4e067be7f4466b29cae96828e556af2533|0                     |152910|20000000000 |0x0121b93f0000000000000000000000000000000000000000000000000000000000000001                                                                                                                                                                                                                                                                                                                                                                                                |1599917650     |null           |null                    |0               |3.0582E15     |14        |0.5544704649604273|\n",
      "|0x5c904644e3a5e95b9b74cdb9658bfdfd1eeef45616a47dd5a9d5d2290d4bdb4d|70   |0xb3ac8f4f08c81d584f880e2c36ec38614af2579980ad66aa10f983c597611936|420302      |0                |0x00197a17c8ec9e02c852be37c127dcc004ea4eca|0x2170ed0880ac9a755fd29b2688956bd959f933f8|0                     |76708 |103000000000|0xa9059cbb0000000000000000000000001fc2099bdd4c6b441accc40b1170d4a320b2365d0000000000000000000000000000000000000000000000018b06a0e18e33b237                                                                                                                                                                                                                                                                                                                                |1599932686     |null           |null                    |0               |7.900924E15   |14        |0.5544704649604273|\n",
      "|0x8900f7db2dd158159a1100ea9e67214389a5dcc488fecfb869bb66f66949c56d|22   |0x4444c59378b5c6848c9ed4421f25055a847d82fca99b2ff86dc14d8384d3cfc6|399545      |0                |0x00197a17c8ec9e02c852be37c127dcc004ea4eca|0x89da130d26b6dbaed2dda79e2a445fed54a38360|0                     |152926|20000000000 |0x0121b93f0000000000000000000000000000000000000000000000000000000000000002                                                                                                                                                                                                                                                                                                                                                                                                |1599870415     |null           |null                    |0               |3.05852E15    |13        |0.5506073655352404|\n",
      "|0x51a28044502bd4a327c21f76e12c07ff4a9dd263ac79ab61425ca0b8099854b7|74   |0x5d627c10e85fb6572ee4131e70a032d8f0c2d078da6ae8f718ae98e326ec91e4|420903      |0                |0x00197a17c8ec9e02c852be37c127dcc004ea4eca|0x8da632adeb2bf5b6445fde8d7e32ad607653c0c4|0                     |312643|20000000000 |0x174f57af                                                                                                                                                                                                                                                                                                                                                                                                                                                                |1599934489     |null           |null                    |0               |6.25286E15    |14        |0.5544704649604273|\n",
      "|0xe3e664c057efe85c72223b2006744200e1cd9dd6261deaf72b87ef4c02321161|0    |0xbd37dd2f2f61fd9750944581abf158e9cbe785690ec43dc43f70adfbb401368b|406810      |1                |0x00486534de65988f46cd435f629c748014dd2aa1|0x631fc1ea2270e98fbd9d92658ece0f5a269aa161|1329010873513077974818|207128|20000000000 |0x                                                                                                                                                                                                                                                                                                                                                                                                                                                                        |1599892210     |null           |null                    |0               |4.14256E15    |14        |0.5544704649604273|\n",
      "|0x7dda967fb6a9c781a25325dbb624dc5e171558bd6ec5b30fcd0ec74b36e725a8|11   |0xa7f669fd89fe946ecf959af487b1d116e89248b0f66e65fea7f4ac4447b1e105|401678      |1                |0x0064dd1840a0e5284280244f2da76aef484c6cd3|0x844ef68ab8881b9a5f9afc7ea2baaa2040b55a89|0                     |152910|20000000000 |0x0121b93f0000000000000000000000000000000000000000000000000000000000000001                                                                                                                                                                                                                                                                                                                                                                                                |1599876814     |null           |null                    |0               |3.0582E15     |13        |0.5506073655352404|\n",
      "|0xb17786a94f1b8e6e51e97b474d8f0614b372035e9079cf6b4418062dc519d829|29   |0x2d627433b7299b98b05134609681252688a1a0bdfaa98523c90ff77b14466fdb|417232      |0                |0x0064dd1840a0e5284280244f2da76aef484c6cd3|0xaebdfd8bcedbf5bcdd7a6a5289b12a1882562b89|0                     |152910|20000000000 |0x0121b93f0000000000000000000000000000000000000000000000000000000000000001                                                                                                                                                                                                                                                                                                                                                                                                |1599923476     |null           |null                    |0               |3.0582E15     |14        |0.5544704649604273|\n",
      "|0x70e14fed5786ff7cf3a7b64aa4fc7a97c7d6d8e1143f5b68d970a8eaf855482e|2    |0x9f9dccdaa96eddff5e2f295b4b2fa51952e7e66305c78709b3bb54dce79f95be|407753      |0                |0x00bc4a645056114a4358036315403c4bc80739d9|0x24df3ff7d6b00891399988899529c331a057f6e7|188986798020000000000 |21000 |82000000000 |0x                                                                                                                                                                                                                                                                                                                                                                                                                                                                        |1599895039     |null           |null                    |0               |1.722E15      |14        |0.5544704649604273|\n",
      "|0xe0f801597d99adae4d982af78fbc36f39a9620571f36119a917c6da7a072f123|2    |0x86cc0a7b0132e5f9ea37a773815b0f4edf6c29d795246b4bf628bb6bb44dbb91|406678      |0                |0x00f928a6adc7c345ef919fe5a8be2458580ef9f6|0xe4ae305ebe1abe663f261bc00534067c80ad677c|43000000000000000000  |86374 |25000000000 |0xaad3ec96000000000000000000000000000000000000000000000000000000000000000000000000000000000000000000000000000000000000000254beb02d1dcc0000                                                                                                                                                                                                                                                                                                                                |1599891814     |null           |null                    |0               |2.15935E15    |14        |0.5544704649604273|\n",
      "|0xa2468736b516e4c6c6726b3c6a2678b29a3376a65b6c9776cf38ed5bb1e99acf|8    |0x189ebe814d22aeac18a900c829b888613c2e5324c0dbf4012979918f980d1532|402279      |0                |0x0103a4966daba5a947df52b0b892d8b3fdef5a4f|0x082e27ae683a4ba2e3ba5ecb0eeb030d4ccd5e84|0                     |286396|20000000000 |0x174f57af                                                                                                                                                                                                                                                                                                                                                                                                                                                                |1599878617     |null           |null                    |0               |5.72792E15    |13        |0.5506073655352404|\n",
      "|0xdf3862efe119fdc5ca840ab2fcdbb950575c6c3b8d627114e6dc4171f52ca397|0    |0x2d60a9afc990a39250a96f2d1ca0742e0eace426e835697eb207f907e2f8ecf5|429260      |1                |0x013c0f5d846f6cad7bf10244cc5603fdb9b45368|0x75ca8f6c82df5fdfd09049f46ad5d072b0a53bf6|15300000000000000000  |957862|20000000000 |0x7ff36ab500000000000000000000000000000000000000000000000ec64b54b980d6d9000000000000000000000000000000000000000000000000000000000000000080000000000000000000000000013c0f5d846f6cad7bf10244cc5603fdb9b45368000000000000000000000000000000000000000000000000000000005f5d75850000000000000000000000000000000000000000000000000000000000000002000000000000000000000000bb4cdb9cbd36b01bd1cbaebf2de08d9173bc095c000000000000000000000000ae9269f27437f0fcbc232d39ec814844a51d6b8f|1599959560     |null           |null                    |0               |1.915724E16   |14        |0.5544704649604273|\n",
      "|0x9786e17409773cf308591c2883df1ef05039a256a3137d5d5fc20588de428294|0    |0xf0912e7cdade34bfd337ee148f72d5aa6e36fd5eabcb24c3cc1ff270e645e0e4|312132      |1                |0x0149c5dbd25732bf7330ff07db303a9255690722|0xf7a9072cacbc1538922f0efb1c0e8fdf1474525f|9550000000000000000   |45000 |20000000000 |0x                                                                                                                                                                                                                                                                                                                                                                                                                                                                        |1599608176     |null           |null                    |0               |9.0E14        |10        |0.5389832206876841|\n",
      "|0xa7542f4a80d2a45992ebbb83057991da7dfc097ff3b7d79813229f485a5d0de8|8    |0x119c7acf3a184e09eeb078ec30f53353410d08810caaf17b0a20eaee2609d06f|409699      |2                |0x016550b47d76b10738c7adbfd463671df077f108|0xae9269f27437f0fcbc232d39ec814844a51d6b8f|0                     |66006 |20000000000 |0x095ea7b300000000000000000000000075ca8f6c82df5fdfd09049f46ad5d072b0a53bf6000000000000000000000000000000000000000c9ed9e4fd69ace1175c000000                                                                                                                                                                                                                                                                                                                                |1599900877     |null           |null                    |0               |1.32012E15    |14        |0.5544704649604273|\n",
      "|0x821ee314b9f30983d51c4632bf50e3b03019dc9c2e60430168fd1b3f266c4ac6|1    |0xbde5a4368e9efd0322924fc420a8d479ac55d8df19efb3ac0990aa6e9e70aaae|401119      |0                |0x0204478625ab8ce5dd256b73e0dda2beef1a2384|0xe9e7cea3dedca5984780bafc599bd69add087d56|0                     |66213 |20000000000 |0x095ea7b300000000000000000000000075ca8f6c82df5fdfd09049f46ad5d072b0a53bf6000000000000000000000000000000000000000c9ed9e4fd69ace1175c000000                                                                                                                                                                                                                                                                                                                                |1599875137     |null           |null                    |0               |1.32426E15    |13        |0.5506073655352404|\n",
      "|0x5bd8498d50c2db3ec144d726be5252ecd3128e51ab9821d99b3d37f105d2bd87|4    |0x2756e055586280cf54a0f0308db57e6e3e87f89ed47980898b504212485fdceb|413609      |1                |0x0225610b230e068e9490416f9f16c43893961a18|0x2664dc3b972ca386deebaad9d8bc21de45d52fc7|0                     |152910|20000000000 |0x0121b93f0000000000000000000000000000000000000000000000000000000000000001                                                                                                                                                                                                                                                                                                                                                                                                |1599912607     |null           |null                    |0               |3.0582E15     |14        |0.5544704649604273|\n",
      "|0x7f284995a5631db03efad7cfdd3769f3fb53773d49af5d391683133bb00bcda9|72   |0x0b4ac09bc0089f07815663fc876537eb6111cc8155ffde2dc6bbb3ed56675313|418700      |0                |0x0230385654b11733811039fddd4d05f4537d59bf|0xa04071f26a646082c108b3afcce959a33d592863|0                     |152910|20000000000 |0x0121b93f0000000000000000000000000000000000000000000000000000000000000001                                                                                                                                                                                                                                                                                                                                                                                                |1599927880     |null           |null                    |0               |3.0582E15     |14        |0.5544704649604273|\n",
      "|0xc4cc3a8c6d010b18fff2e93e4d077e182cc9a6447e5372e238f908c57179d21b|26   |0x8a9a72840680f4c926577d05c61208159dd056385e70551cbc1ef4ac17bf30da|416599      |3                |0x02722849eac77a68efc2703d5111980a5fb82334|0x88fc0f1d54b468c4a3706f0a317574901d5ecad8|0                     |152926|20000000000 |0x0121b93f0000000000000000000000000000000000000000000000000000000000000002                                                                                                                                                                                                                                                                                                                                                                                                |1599921577     |null           |null                    |0               |3.05852E15    |14        |0.5544704649604273|\n",
      "|0xc236294178abf995fc85faff6e3c3d2c7eb1ff10ab98b2c3e56894626e637865|22   |0xdd375399e8d252808f72c1bfb7b36c4c1270bfe7303cb24d6c35fbc8c6dc6a23|404598      |0                |0x02fbadf4f6587885c7db75c65d13cf5fed2d246e|0x30263388599a8448aad2802cd669b2adcc97bc2e|0                     |152910|20000000000 |0x0121b93f0000000000000000000000000000000000000000000000000000000000000001                                                                                                                                                                                                                                                                                                                                                                                                |1599885574     |null           |null                    |0               |3.0582E15     |14        |0.5544704649604273|\n",
      "+------------------------------------------------------------------+-----+------------------------------------------------------------------+------------+-----------------+------------------------------------------+------------------------------------------+----------------------+------+------------+--------------------------------------------------------------------------------------------------------------------------------------------------------------------------------------------------------------------------------------------------------------------------------------------------------------------------------------------------------------------------------------------------------------------------------------------------------------------------+---------------+---------------+------------------------+----------------+--------------+----------+------------------+\n",
      "only showing top 20 rows"
     ]
    }
   ],
   "source": [
    "data_df.show(truncate=False)"
   ]
  },
  {
   "cell_type": "markdown",
   "id": "3b6f0e96",
   "metadata": {},
   "source": [
    "### Get weight for node(vertices)"
   ]
  },
  {
   "cell_type": "code",
   "execution_count": 38,
   "id": "7e2e8398",
   "metadata": {
    "scrolled": false
   },
   "outputs": [
    {
     "data": {
      "application/vnd.jupyter.widget-view+json": {
       "model_id": "",
       "version_major": 2,
       "version_minor": 0
      },
      "text/plain": [
       "FloatProgress(value=0.0, bar_style='info', description='Progress:', layout=Layout(height='25px', width='50%'),…"
      ]
     },
     "metadata": {},
     "output_type": "display_data"
    },
    {
     "name": "stdout",
     "output_type": "stream",
     "text": [
      "+------------------------------------------+\n",
      "|id                                        |\n",
      "+------------------------------------------+\n",
      "|0x4f129fbd6fe4c632c04998adfb392d93da412ce1|\n",
      "|0x5558bf3dc2f5b0c658bbbefe0b2d8d3507efeb69|\n",
      "|0x56e5272a583d3b490062f69e183d4a510d007ef8|\n",
      "|0x58932ae7796b4861790d49199c992f1fca3d5609|\n",
      "|0xc8b9bbba82cbe9f56ea20344cd5dc84066f994ed|\n",
      "|0xd576b5994865c94a0a6449687c2a08e47fd77bb4|\n",
      "|0x1c537fcf80c1069716ea7a151100edbd55b99a4c|\n",
      "|0x4e8f1cf9a9ddcadee3340dada2cba5508d340b4e|\n",
      "|0x54b4e4a37808b8d71a07f494ec20cfab80e2827d|\n",
      "|0x555a56c3f71d8d1c411bd3b10434385c411547fe|\n",
      "|0x67909f0fd4d76342b85108412d5c97ed5b33c49f|\n",
      "|0x70ddb0f995d235e150e50800b751dfd4379bd5cd|\n",
      "|0x83003d1b9d4e47296ee1ca6667af26c8e8e3d4da|\n",
      "|0xc0d9ae4426209cde6b3488edc0b63f6cdae525d6|\n",
      "|0xd0e1b043cb7423ce3d419f50d6c554eba0f4ca13|\n",
      "|0xe8af1475e115859259ae5347029c70a017957d71|\n",
      "|0xecb0a819c0d991405f2bb4f97a3ef7b3b77dd2ab|\n",
      "|0xf764cc532f61789b0cf56dab37348f02afc70887|\n",
      "|0xfa97c22a03d8522988c709c24283c0918a59c795|\n",
      "|0x0cae1e6c5e8b4109097e9e900e9f9554cc26b66c|\n",
      "+------------------------------------------+\n",
      "only showing top 20 rows"
     ]
    }
   ],
   "source": [
    "vertices_df = data_df.select(col(\"from_address\").alias(\"id\")).union(data_df.select(col(\"to_address\").alias(\"id\")))\n",
    "vertices_df = vertices_df.distinct()\n",
    "vertices_df.show(truncate=False)"
   ]
  },
  {
   "cell_type": "code",
   "execution_count": 39,
   "id": "3c7267a5",
   "metadata": {},
   "outputs": [
    {
     "data": {
      "application/vnd.jupyter.widget-view+json": {
       "model_id": "",
       "version_major": 2,
       "version_minor": 0
      },
      "text/plain": [
       "FloatProgress(value=0.0, bar_style='info', description='Progress:', layout=Layout(height='25px', width='50%'),…"
      ]
     },
     "metadata": {},
     "output_type": "display_data"
    },
    {
     "name": "stdout",
     "output_type": "stream",
     "text": [
      "+------------------------------------------+---------------------+\n",
      "|id                                        |personalized weight  |\n",
      "+------------------------------------------+---------------------+\n",
      "|0xae9269f27437f0fcbc232d39ec814844a51d6b8f|0.0819356513237302   |\n",
      "|0x56e5272a583d3b490062f69e183d4a510d007ef8|5.201713004851768E-5 |\n",
      "|0x555a56c3f71d8d1c411bd3b10434385c411547fe|1.0439921588543996E-4|\n",
      "|0x9e2f1fdcf8ec30d3d4fc83534f1244d6e1bc9e15|5.238208583692229E-5 |\n",
      "|0x1558c9987bceaec8b2868f9b5e7bade7c4ac0dee|4.8711786094065975E-5|\n",
      "|0x1c537fcf80c1069716ea7a151100edbd55b99a4c|1.0476417167384458E-4|\n",
      "|0xe8af1475e115859259ae5347029c70a017957d71|5.0184557612870767E-5|\n",
      "|0xf764cc532f61789b0cf56dab37348f02afc70887|5.238208583692229E-5 |\n",
      "|0xfb3b893159fd02e6300a37ae0e8789163a635160|5.238208583692229E-5 |\n",
      "|0xf89dda78a4e5e17d28fb14d7075955af6229150d|4.9816791220551864E-5|\n",
      "|0xfa97c22a03d8522988c709c24283c0918a59c795|5.238208583692229E-5 |\n",
      "|0x0cae1e6c5e8b4109097e9e900e9f9554cc26b66c|5.238208583692229E-5 |\n",
      "|0x15222740c04c23a356244b10d20e94d8ca6b63d5|5.238208583692229E-5 |\n",
      "|0x64598aab661f730396db2e3f430b5a20904a196a|5.238208583692229E-5 |\n",
      "|0x659edb0d5eb7eb437a80077eaef5d1c989841b18|5.238208583692229E-5 |\n",
      "|0x6daa86ef323e5a87776df943665f6e602c0c5005|5.201713004851768E-5 |\n",
      "|0xd88b391062a2aa73dcbed9acb714ad7cde943fed|5.238208583692229E-5 |\n",
      "|0xe4dfeff99f266338c7bb58dadb48f75b35d6a34a|5.238208583692229E-5 |\n",
      "|0xe6fd996486a92f00ac59d05c8e39a253ad9b9415|5.238208583692229E-5 |\n",
      "|0x923687ddd21b22aca8cd6f227fcde603737ffbe5|1.5714625751076688E-4|\n",
      "+------------------------------------------+---------------------+\n",
      "only showing top 20 rows"
     ]
    }
   ],
   "source": [
    "weight_df = spark.createDataFrame(\n",
    "    personalized_weights.items(),\n",
    "    [\"id\", \"weight\"]\n",
    ")\n",
    "result_df = vertices_df.join(weight_df, \"id\", \"left\").select(\"id\", \"weight\")\n",
    "vertices_df_with_personalized_weight = result_df.withColumnRenamed(\"weight\", \"personalized weight\")\n",
    "vertices_df_with_personalized_weight=vertices_df_with_personalized_weight.fillna(0)\n",
    "vertices_df_with_personalized_weight.show(truncate=False)"
   ]
  },
  {
   "cell_type": "code",
   "execution_count": 40,
   "id": "bddf5d04",
   "metadata": {},
   "outputs": [
    {
     "data": {
      "application/vnd.jupyter.widget-view+json": {
       "model_id": "",
       "version_major": 2,
       "version_minor": 0
      },
      "text/plain": [
       "FloatProgress(value=0.0, bar_style='info', description='Progress:', layout=Layout(height='25px', width='50%'),…"
      ]
     },
     "metadata": {},
     "output_type": "display_data"
    }
   ],
   "source": [
    "edges_df = data_df.select(col(\"from_address\").alias(\"src\"), col(\"to_address\").alias(\"dst\"), col(\"age_weight\").alias(\"weight\"))"
   ]
  },
  {
   "cell_type": "code",
   "execution_count": 41,
   "id": "fbb6c2de",
   "metadata": {
    "scrolled": false
   },
   "outputs": [
    {
     "data": {
      "application/vnd.jupyter.widget-view+json": {
       "model_id": "",
       "version_major": 2,
       "version_minor": 0
      },
      "text/plain": [
       "FloatProgress(value=0.0, bar_style='info', description='Progress:', layout=Layout(height='25px', width='50%'),…"
      ]
     },
     "metadata": {},
     "output_type": "display_data"
    },
    {
     "name": "stdout",
     "output_type": "stream",
     "text": [
      "4924 19154"
     ]
    }
   ],
   "source": [
    "print(vertices_df.count(),edges_df.count())"
   ]
  },
  {
   "cell_type": "markdown",
   "id": "a2aef89b",
   "metadata": {},
   "source": [
    "### Get transaction, degree and gas information"
   ]
  },
  {
   "cell_type": "code",
   "execution_count": 42,
   "id": "95a8d09a",
   "metadata": {},
   "outputs": [
    {
     "data": {
      "application/vnd.jupyter.widget-view+json": {
       "model_id": "",
       "version_major": 2,
       "version_minor": 0
      },
      "text/plain": [
       "FloatProgress(value=0.0, bar_style='info', description='Progress:', layout=Layout(height='25px', width='50%'),…"
      ]
     },
     "metadata": {},
     "output_type": "display_data"
    }
   ],
   "source": [
    "# calcualte totall gas, total transfer, total receive\n",
    "\n",
    "total_gas_used_df = data_df.groupBy('from_address').agg(_sum('gas_used (bnb)').alias('Total gas'))\n",
    "total_gas_used_df=total_gas_used_df.withColumnRenamed('from_address', 'Address')\n",
    "\n",
    "total_transfer_df = data_df.groupBy('from_address').count().withColumnRenamed('count', 'Total Transfers')\n",
    "total_transfer_df=total_transfer_df.withColumnRenamed('from_address', 'Address')\n",
    "\n",
    "total_receive_df = data_df.groupBy('to_address').count().withColumnRenamed('count', 'Total Receives')\n",
    "total_receive_df=total_receive_df.withColumnRenamed('to_address', 'Address')\n"
   ]
  },
  {
   "cell_type": "markdown",
   "id": "a6aca556",
   "metadata": {},
   "source": [
    "### Intiate the Graph"
   ]
  },
  {
   "cell_type": "markdown",
   "id": "8e82b6ed",
   "metadata": {},
   "source": [
    "Currently using graphframe, which will **not** support age weight and node weight"
   ]
  },
  {
   "cell_type": "code",
   "execution_count": 43,
   "id": "2e0ba020",
   "metadata": {},
   "outputs": [
    {
     "data": {
      "application/vnd.jupyter.widget-view+json": {
       "model_id": "",
       "version_major": 2,
       "version_minor": 0
      },
      "text/plain": [
       "FloatProgress(value=0.0, bar_style='info', description='Progress:', layout=Layout(height='25px', width='50%'),…"
      ]
     },
     "metadata": {},
     "output_type": "display_data"
    }
   ],
   "source": [
    "graph = GraphFrame(vertices_df, edges_df)\n"
   ]
  },
  {
   "cell_type": "code",
   "execution_count": 44,
   "id": "3a92f910",
   "metadata": {
    "scrolled": true
   },
   "outputs": [
    {
     "data": {
      "application/vnd.jupyter.widget-view+json": {
       "model_id": "",
       "version_major": 2,
       "version_minor": 0
      },
      "text/plain": [
       "FloatProgress(value=0.0, bar_style='info', description='Progress:', layout=Layout(height='25px', width='50%'),…"
      ]
     },
     "metadata": {},
     "output_type": "display_data"
    },
    {
     "name": "stdout",
     "output_type": "stream",
     "text": [
      "Number of nodes: 4924\n",
      "Number of edges: 19154"
     ]
    }
   ],
   "source": [
    "# count nodes and edges\n",
    "num_vertices = graph.vertices.count()\n",
    "num_edges = graph.edges.count()\n",
    "\n",
    "print(\"Number of nodes:\", num_vertices)\n",
    "print(\"Number of edges:\", num_edges)"
   ]
  },
  {
   "cell_type": "code",
   "execution_count": 45,
   "id": "128e15ec",
   "metadata": {},
   "outputs": [
    {
     "data": {
      "application/vnd.jupyter.widget-view+json": {
       "model_id": "",
       "version_major": 2,
       "version_minor": 0
      },
      "text/plain": [
       "FloatProgress(value=0.0, bar_style='info', description='Progress:', layout=Layout(height='25px', width='50%'),…"
      ]
     },
     "metadata": {},
     "output_type": "display_data"
    }
   ],
   "source": [
    "# calculate in , out degree\n",
    "in_degrees = graph.inDegrees\n",
    "in_degrees = in_degrees.withColumnRenamed('id', 'Address')\n",
    "out_degrees = graph.outDegrees\n",
    "out_degrees = out_degrees.withColumnRenamed('id', 'Address')"
   ]
  },
  {
   "cell_type": "markdown",
   "id": "dffa5e61",
   "metadata": {},
   "source": [
    "### Page Rank Calculation"
   ]
  },
  {
   "cell_type": "code",
   "execution_count": 46,
   "id": "5281d13c",
   "metadata": {},
   "outputs": [
    {
     "data": {
      "application/vnd.jupyter.widget-view+json": {
       "model_id": "",
       "version_major": 2,
       "version_minor": 0
      },
      "text/plain": [
       "FloatProgress(value=0.0, bar_style='info', description='Progress:', layout=Layout(height='25px', width='50%'),…"
      ]
     },
     "metadata": {},
     "output_type": "display_data"
    }
   ],
   "source": [
    "results = graph.pageRank(resetProbability=0.15, tol=0.01)\n",
    "#results = graph.pageRank(resetProbability=0.5, maxIter= 10)"
   ]
  },
  {
   "cell_type": "code",
   "execution_count": 47,
   "id": "46d46f45",
   "metadata": {
    "scrolled": false
   },
   "outputs": [
    {
     "data": {
      "application/vnd.jupyter.widget-view+json": {
       "model_id": "",
       "version_major": 2,
       "version_minor": 0
      },
      "text/plain": [
       "FloatProgress(value=0.0, bar_style='info', description='Progress:', layout=Layout(height='25px', width='50%'),…"
      ]
     },
     "metadata": {},
     "output_type": "display_data"
    },
    {
     "name": "stdout",
     "output_type": "stream",
     "text": [
      "+------------------------------------------+------------------+\n",
      "|Address                                   |Reputation Score  |\n",
      "+------------------------------------------+------------------+\n",
      "|0xae9269f27437f0fcbc232d39ec814844a51d6b8f|171.10100331631136|\n",
      "|0x56e5272a583d3b490062f69e183d4a510d007ef8|0.6083179071295058|\n",
      "|0x555a56c3f71d8d1c411bd3b10434385c411547fe|1.2765580580132707|\n",
      "|0x9e2f1fdcf8ec30d3d4fc83534f1244d6e1bc9e15|0.7251332310642303|\n",
      "|0x1558c9987bceaec8b2868f9b5e7bade7c4ac0dee|0.671171661408802 |\n",
      "|0x1c537fcf80c1069716ea7a151100edbd55b99a4c|0.647421047266197 |\n",
      "|0xe8af1475e115859259ae5347029c70a017957d71|0.6083179071295058|\n",
      "|0xf764cc532f61789b0cf56dab37348f02afc70887|0.6083179071295058|\n",
      "|0xfb3b893159fd02e6300a37ae0e8789163a635160|0.6083179071295058|\n",
      "|0xf89dda78a4e5e17d28fb14d7075955af6229150d|0.6343580843183398|\n",
      "|0xfa97c22a03d8522988c709c24283c0918a59c795|0.8522184365084768|\n",
      "|0x15222740c04c23a356244b10d20e94d8ca6b63d5|0.6083179071295058|\n",
      "|0x64598aab661f730396db2e3f430b5a20904a196a|0.6083179071295058|\n",
      "|0x659edb0d5eb7eb437a80077eaef5d1c989841b18|0.6083179071295058|\n",
      "|0x6daa86ef323e5a87776df943665f6e602c0c5005|0.6083179071295058|\n",
      "|0xd88b391062a2aa73dcbed9acb714ad7cde943fed|0.6083179071295058|\n",
      "|0xe4dfeff99f266338c7bb58dadb48f75b35d6a34a|0.6083179071295058|\n",
      "|0xe6fd996486a92f00ac59d05c8e39a253ad9b9415|0.6083179071295058|\n",
      "|0x923687ddd21b22aca8cd6f227fcde603737ffbe5|0.8691631305677096|\n",
      "|0x03cb88b3208f55a37967bb64e8b14f06e5ff02dc|0.6524828552852694|\n",
      "+------------------------------------------+------------------+\n",
      "only showing top 20 rows"
     ]
    }
   ],
   "source": [
    "result_df=results.vertices.select(\"id\", \"pagerank\").toDF(\"Address\", \"Reputation Score\")\n",
    "result_df.show(truncate=False)"
   ]
  },
  {
   "cell_type": "code",
   "execution_count": 48,
   "id": "5facc6ab",
   "metadata": {},
   "outputs": [
    {
     "data": {
      "application/vnd.jupyter.widget-view+json": {
       "model_id": "",
       "version_major": 2,
       "version_minor": 0
      },
      "text/plain": [
       "FloatProgress(value=0.0, bar_style='info', description='Progress:', layout=Layout(height='25px', width='50%'),…"
      ]
     },
     "metadata": {},
     "output_type": "display_data"
    }
   ],
   "source": [
    "# calculate in , out degree\n",
    "in_degrees = graph.inDegrees\n",
    "in_degrees = in_degrees.withColumnRenamed('id', 'Address')\n",
    "out_degrees = graph.outDegrees\n",
    "out_degrees = out_degrees.withColumnRenamed('id', 'Address')"
   ]
  },
  {
   "cell_type": "markdown",
   "id": "005f46ae",
   "metadata": {},
   "source": [
    "#### Merging txn , gas, and degree information to the page rank result"
   ]
  },
  {
   "cell_type": "code",
   "execution_count": 49,
   "id": "9edd8e3c",
   "metadata": {},
   "outputs": [
    {
     "data": {
      "application/vnd.jupyter.widget-view+json": {
       "model_id": "",
       "version_major": 2,
       "version_minor": 0
      },
      "text/plain": [
       "FloatProgress(value=0.0, bar_style='info', description='Progress:', layout=Layout(height='25px', width='50%'),…"
      ]
     },
     "metadata": {},
     "output_type": "display_data"
    },
    {
     "name": "stdout",
     "output_type": "stream",
     "text": [
      "+------------------------------------------+------------------+-------------+---------------+--------------+--------+---------+------------+\n",
      "|Address                                   |Reputation Score  |Total gas    |Total Transfers|Total Receives|inDegree|outDegree|total_degree|\n",
      "+------------------------------------------+------------------+-------------+---------------+--------------+--------+---------+------------+\n",
      "|0x56e5272a583d3b490062f69e183d4a510d007ef8|0.6083179071295058|3.76712664E16|8              |1             |1       |8        |9           |\n",
      "|0xb0dd17567933fc80810d7fd6b39409eb03dd23a6|1.6754423377397183|7.543875E15  |2              |2             |2       |2        |4           |\n",
      "|0xc8b9bbba82cbe9f56ea20344cd5dc84066f994ed|0.6083179071295058|3.435702E16  |7              |1             |1       |7        |8           |\n",
      "|0xd576b5994865c94a0a6449687c2a08e47fd77bb4|0.6083179071295058|2.28181252E17|38             |1             |1       |38       |39          |\n",
      "|0xae9269f27437f0fcbc232d39ec814844a51d6b8f|171.10100331631136|0.0          |0              |1567          |1567    |0        |0           |\n",
      "|0x4d6dfc8870fed5aea8bb48d53c6225244e64f6ba|0.6083179071295058|0.0          |0              |1             |1       |0        |0           |\n",
      "|0x5558bf3dc2f5b0c658bbbefe0b2d8d3507efeb69|0.6083179071295058|3.26899E16   |5              |1             |1       |5        |6           |\n",
      "|0x96adc9b48983b020775cc0cc699e394b4015782f|0.6083179071295058|6.0E15       |1              |1             |1       |1        |2           |\n",
      "|0xd2f93484f2d319194cba95c5171b18c1d8cfd6c4|0.635617589479439 |1.54196E15   |1              |1             |1       |1        |2           |\n",
      "|0x4f129fbd6fe4c632c04998adfb392d93da412ce1|0.6083179071295058|6.9843015E16 |2              |1             |1       |2        |3           |\n",
      "|0x58932ae7796b4861790d49199c992f1fca3d5609|0.6083179071295058|1.261436E16  |2              |1             |1       |2        |3           |\n",
      "|0x2484002d87ee82d241fa3fcbba4ed664dce8afa6|0.6192288931940247|0.0          |0              |1             |1       |0        |0           |\n",
      "|0xd7fa928ab3ce5ec2f24733a199098e5244d712d9|0.6139336763005145|0.0          |0              |1             |1       |0        |0           |\n",
      "|0xef677b24c31b95eb765a2c8cf72eef2f077f411a|0.6488821077976824|0.0          |0              |1             |1       |0        |0           |\n",
      "|0x9c4127b5fe75b6def9aeaf5103058791883c229b|1.1063888473969699|0.0          |0              |1             |1       |0        |0           |\n",
      "|0x0e630dc7ba2de34887ac7173f9d480070c810526|0.6083179071295058|1.760958E16  |2              |1             |1       |2        |3           |\n",
      "|0x1c537fcf80c1069716ea7a151100edbd55b99a4c|0.647421047266197 |2.652032E16  |8              |2             |2       |8        |10          |\n",
      "|0x4e8f1cf9a9ddcadee3340dada2cba5508d340b4e|0.6083179071295058|2.430206E16  |5              |1             |1       |5        |6           |\n",
      "|0x555a56c3f71d8d1c411bd3b10434385c411547fe|1.2765580580132707|1.693492E16  |5              |2             |2       |5        |7           |\n",
      "|0x67909f0fd4d76342b85108412d5c97ed5b33c49f|0.6083179071295058|1.0856254E17 |33             |1             |1       |33       |34          |\n",
      "+------------------------------------------+------------------+-------------+---------------+--------------+--------+---------+------------+\n",
      "only showing top 20 rows"
     ]
    }
   ],
   "source": [
    "merged_df = result_df.join(total_gas_used_df, 'Address', 'left')\n",
    "merged_df = merged_df.join(total_transfer_df, 'Address', 'left')\n",
    "merged_df = merged_df.join(total_receive_df, 'Address', 'left')\n",
    "merged_df = merged_df.join(in_degrees, on='Address', how='left').join(out_degrees, on='Address', how='left')\n",
    "merged_df = merged_df.withColumn('total_degree', merged_df['inDegree'] + merged_df['outDegree'])\n",
    "merged_df = merged_df.fillna(0)\n",
    "merged_df = merged_df.replace(float('-inf'), 0)\n",
    "merged_df.show(truncate=False)"
   ]
  },
  {
   "cell_type": "code",
   "execution_count": null,
   "id": "7f0189e5",
   "metadata": {},
   "outputs": [],
   "source": []
  }
 ],
 "metadata": {
  "kernelspec": {
   "display_name": "PySpark",
   "language": "python",
   "name": "pysparkkernel"
  },
  "language_info": {
   "codemirror_mode": {
    "name": "python",
    "version": 3
   },
   "file_extension": ".py",
   "mimetype": "text/x-python",
   "name": "pyspark",
   "pygments_lexer": "python3"
  }
 },
 "nbformat": 4,
 "nbformat_minor": 5
}
