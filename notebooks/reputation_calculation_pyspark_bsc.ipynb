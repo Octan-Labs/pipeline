{
 "cells": [
  {
   "cell_type": "code",
   "execution_count": 1,
   "id": "ff3a25c0",
   "metadata": {},
   "outputs": [
    {
     "data": {
      "text/html": [
       "<style>\n",
       "div.output_area pre {\n",
       "    white-space: pre;\n",
       "}\n",
       "</style>\n",
       "# To horizontal scroll dataframe table\n"
      ],
      "text/plain": [
       "<IPython.core.display.HTML object>"
      ]
     },
     "metadata": {},
     "output_type": "display_data"
    }
   ],
   "source": [
    "%%html\n",
    "<style>\n",
    "div.output_area pre {\n",
    "    white-space: pre;\n",
    "}\n",
    "</style>\n",
    "# To horizontal scroll dataframe table"
   ]
  },
  {
   "cell_type": "code",
   "execution_count": 152,
   "id": "caf6f4f1",
   "metadata": {
    "scrolled": true
   },
   "outputs": [
    {
     "data": {
      "application/vnd.jupyter.widget-view+json": {
       "model_id": "",
       "version_major": 2,
       "version_minor": 0
      },
      "text/plain": [
       "FloatProgress(value=0.0, bar_style='info', description='Progress:', layout=Layout(height='25px', width='50%'),…"
      ]
     },
     "metadata": {},
     "output_type": "display_data"
    }
   ],
   "source": [
    "import graphframes\n",
    "from pyspark.sql import SparkSession\n",
    "import os\n",
    "\n",
    "# for pre-processing\n",
    "from pyspark.sql.functions import col\n",
    "from pyspark.sql.functions import exp\n",
    "from pyspark.sql.functions import row_number\n",
    "from pyspark.sql.window import Window\n",
    "from pyspark.sql.functions import min, max\n",
    "\n",
    "# for scaling\n",
    "from pyspark.ml.feature import MinMaxScaler\n",
    "from pyspark.ml.feature import VectorAssembler # transform to vector format before scaling\n",
    "from pyspark.sql.functions import udf #\n",
    "from pyspark.sql.types import DoubleType\n",
    "\n",
    "# for reputation score calculation\n",
    "from graphframes import GraphFrame\n",
    "\n",
    "# for post procesing\n",
    "from pyspark.sql.functions import sum as _sum # avoid same name with sum from python\n"
   ]
  },
  {
   "cell_type": "code",
   "execution_count": 3,
   "id": "cd891589",
   "metadata": {},
   "outputs": [
    {
     "data": {
      "application/vnd.jupyter.widget-view+json": {
       "model_id": "",
       "version_major": 2,
       "version_minor": 0
      },
      "text/plain": [
       "FloatProgress(value=0.0, bar_style='info', description='Progress:', layout=Layout(height='25px', width='50%'),…"
      ]
     },
     "metadata": {},
     "output_type": "display_data"
    }
   ],
   "source": [
    "# Function to calculating weight of the edge(txn) by the age of the txn\n",
    "def logistic(x,\n",
    "             a=2,\n",
    "             b=1 / 64):\n",
    "    return a / (1.0 + np.exp(-b * x))\n",
    "def normalize(df):\n",
    "    normalized_df=(df-df.min())/(df.max()-df.min())\n",
    "    return normalized_df"
   ]
  },
  {
   "cell_type": "code",
   "execution_count": 4,
   "id": "a32d2001",
   "metadata": {
    "scrolled": true
   },
   "outputs": [
    {
     "data": {
      "application/vnd.jupyter.widget-view+json": {
       "model_id": "",
       "version_major": 2,
       "version_minor": 0
      },
      "text/plain": [
       "FloatProgress(value=0.0, bar_style='info', description='Progress:', layout=Layout(height='25px', width='50%'),…"
      ]
     },
     "metadata": {},
     "output_type": "display_data"
    }
   ],
   "source": [
    "spark = SparkSession \\\n",
    "    .builder \\\n",
    "    .config(\"fs.s3a.access.key\", \"***\") \\\n",
    "    .config(\"fs.s3a.secret.key\", \"***\") \\\n",
    "    .appName(\"Test\") \\\n",
    "    .getOrCreate()"
   ]
  },
  {
   "cell_type": "markdown",
   "id": "dc313b41",
   "metadata": {},
   "source": [
    "## 1. Data Preprocessing"
   ]
  },
  {
   "cell_type": "code",
   "execution_count": 50,
   "id": "32623fc1",
   "metadata": {},
   "outputs": [
    {
     "data": {
      "application/vnd.jupyter.widget-view+json": {
       "model_id": "",
       "version_major": 2,
       "version_minor": 0
      },
      "text/plain": [
       "FloatProgress(value=0.0, bar_style='info', description='Progress:', layout=Layout(height='25px', width='50%'),…"
      ]
     },
     "metadata": {},
     "output_type": "display_data"
    },
    {
     "name": "stdout",
     "output_type": "stream",
     "text": [
      "' test one file\\n\\nbucket=\"s3a://octan-labs-bsc/\"\\npath=\"/transactions/start_block=0000420000/\"\\ndata_df=spark.read.format(\"csv\")     .option(\"header\", True)     .load(bucket+path+\\'*/*.csv\\')\\n\\n#'"
     ]
    }
   ],
   "source": [
    "#''' # get all file\n",
    "\n",
    "bucket=\"s3a://octan-labs-bsc/\"\n",
    "path=\"/transactions/\"\n",
    "data_df=spark.read.format(\"csv\") \\\n",
    "    .option(\"header\", True) \\\n",
    "    .load(bucket+path+'*/*/*.csv')\n",
    "\n",
    "''' test one file\n",
    "\n",
    "bucket=\"s3a://octan-labs-bsc/\"\n",
    "path=\"/transactions/start_block=0000420000/\"\n",
    "data_df=spark.read.format(\"csv\") \\\n",
    "    .option(\"header\", True) \\\n",
    "    .load(bucket+path+'*/*.csv')\n",
    "    \n",
    "#'''"
   ]
  },
  {
   "cell_type": "code",
   "execution_count": 51,
   "id": "a1d17d25",
   "metadata": {
    "scrolled": false
   },
   "outputs": [
    {
     "data": {
      "application/vnd.jupyter.widget-view+json": {
       "model_id": "",
       "version_major": 2,
       "version_minor": 0
      },
      "text/plain": [
       "FloatProgress(value=0.0, bar_style='info', description='Progress:', layout=Layout(height='25px', width='50%'),…"
      ]
     },
     "metadata": {},
     "output_type": "display_data"
    },
    {
     "name": "stdout",
     "output_type": "stream",
     "text": [
      "+------------+--------------------+--------------------+-------------------+-----------+\n",
      "|block_number|        from_address|          to_address|                gas|  gas_price|\n",
      "+------------+--------------------+--------------------+-------------------+-----------+\n",
      "|      400200|0xcc55aa8fa576a02...|0x2170ed0880ac9a7...|              54190|91000000000|\n",
      "|      400200|0x2ecce7198df1180...|0x75ca8f6c82df5fd...|             992980|20000000000|\n",
      "|      400200|0x2f7be8361c80a4c...|0x000000000000000...|9223372036854775807|          0|\n",
      "|      400200|0x2f7be8361c80a4c...|0x000000000000000...|9223372036854775807|          0|\n",
      "|      400201|0xb005741528b86f5...|0x000000000000000...|            4700000|20000000000|\n",
      "|      400201|0xb005741528b86f5...|0x000000000000000...|            4700000|20000000000|\n",
      "|      400201|0xb730d3908b9b83a...|0xae9269f27437f0f...|              66006|20000000000|\n",
      "|      400201|0x35e7a025f4da968...|0x000000000000000...|9223372036854775807|          0|\n",
      "|      400201|0x35e7a025f4da968...|0x000000000000000...|9223372036854775807|          0|\n",
      "|      400202|0x8f33e56448bdde6...|0x8c2f43743f7fe3c...|              21000|85000000000|\n",
      "|      400202|0x964a5d34f88fade...|0xe9e7cea3dedca59...|              64142|20000000000|\n",
      "|      400202|0x371de0c6314052f...|0x61024541ec234ae...|             152910|20000000000|\n",
      "|      400202|0x335f3f3bd1384b5...|0x75ca8f6c82df5fd...|             691816|20000000000|\n",
      "|      400202|0x4430b3230294d12...|0x000000000000000...|9223372036854775807|          0|\n",
      "|      400202|0x4430b3230294d12...|0x000000000000000...|9223372036854775807|          0|\n",
      "|      400203|0x79de790a1aca5ff...|0x479a6f568082947...|             361365|20000000000|\n",
      "|      400203|0x6488aa4d1955ee3...|0x000000000000000...|9223372036854775807|          0|\n",
      "|      400203|0x6488aa4d1955ee3...|0x000000000000000...|9223372036854775807|          0|\n",
      "|      400204|0xfe9cbd057464f17...|0x75ca8f6c82df5fd...|           28500000|20000000000|\n",
      "|      400204|0x5d0d8aa6ee5d444...|0x75ca8f6c82df5fd...|            1016904|20000000000|\n",
      "+------------+--------------------+--------------------+-------------------+-----------+\n",
      "only showing top 20 rows"
     ]
    }
   ],
   "source": [
    "data_df = data_df.select(col('block_number'),col('from_address'),col('to_address'),col('gas'),col('gas_price'))\n",
    "data_df.show()#truncate=False)"
   ]
  },
  {
   "cell_type": "markdown",
   "id": "9d75b6ff",
   "metadata": {},
   "source": [
    "#### Summary before processing"
   ]
  },
  {
   "cell_type": "code",
   "execution_count": 52,
   "id": "abf9a05a",
   "metadata": {},
   "outputs": [
    {
     "data": {
      "application/vnd.jupyter.widget-view+json": {
       "model_id": "",
       "version_major": 2,
       "version_minor": 0
      },
      "text/plain": [
       "FloatProgress(value=0.0, bar_style='info', description='Progress:', layout=Layout(height='25px', width='50%'),…"
      ]
     },
     "metadata": {},
     "output_type": "display_data"
    },
    {
     "name": "stdout",
     "output_type": "stream",
     "text": [
      "Total:  234853\n",
      "first block: 1 last block: 99879"
     ]
    }
   ],
   "source": [
    "print('Total: ',data_df.count())\n",
    "block_min = data_df.select(min('block_number')).first()[0]\n",
    "block_max = data_df.select(max('block_number')).first()[0]\n",
    "print('first block:',block_min,'last block:',block_max)"
   ]
  },
  {
   "cell_type": "markdown",
   "id": "e47c7db1",
   "metadata": {},
   "source": [
    "#### Get the Used gas"
   ]
  },
  {
   "cell_type": "code",
   "execution_count": 53,
   "id": "ce026b6b",
   "metadata": {},
   "outputs": [
    {
     "data": {
      "application/vnd.jupyter.widget-view+json": {
       "model_id": "",
       "version_major": 2,
       "version_minor": 0
      },
      "text/plain": [
       "FloatProgress(value=0.0, bar_style='info', description='Progress:', layout=Layout(height='25px', width='50%'),…"
      ]
     },
     "metadata": {},
     "output_type": "display_data"
    }
   ],
   "source": [
    "data_df = data_df.withColumn('gas_used (bnb)', col('gas') * col('gas_price'))"
   ]
  },
  {
   "cell_type": "code",
   "execution_count": 54,
   "id": "5910c5d1",
   "metadata": {
    "scrolled": false
   },
   "outputs": [
    {
     "data": {
      "application/vnd.jupyter.widget-view+json": {
       "model_id": "",
       "version_major": 2,
       "version_minor": 0
      },
      "text/plain": [
       "FloatProgress(value=0.0, bar_style='info', description='Progress:', layout=Layout(height='25px', width='50%'),…"
      ]
     },
     "metadata": {},
     "output_type": "display_data"
    },
    {
     "name": "stdout",
     "output_type": "stream",
     "text": [
      "+------------+--------------------+--------------------+-------------------+-----------+--------------+\n",
      "|block_number|        from_address|          to_address|                gas|  gas_price|gas_used (bnb)|\n",
      "+------------+--------------------+--------------------+-------------------+-----------+--------------+\n",
      "|      400200|0xcc55aa8fa576a02...|0x2170ed0880ac9a7...|              54190|91000000000|    4.93129E15|\n",
      "|      400200|0x2ecce7198df1180...|0x75ca8f6c82df5fd...|             992980|20000000000|    1.98596E16|\n",
      "|      400200|0x2f7be8361c80a4c...|0x000000000000000...|9223372036854775807|          0|           0.0|\n",
      "|      400200|0x2f7be8361c80a4c...|0x000000000000000...|9223372036854775807|          0|           0.0|\n",
      "|      400201|0xb005741528b86f5...|0x000000000000000...|            4700000|20000000000|        9.4E16|\n",
      "|      400201|0xb005741528b86f5...|0x000000000000000...|            4700000|20000000000|        9.4E16|\n",
      "|      400201|0xb730d3908b9b83a...|0xae9269f27437f0f...|              66006|20000000000|    1.32012E15|\n",
      "|      400201|0x35e7a025f4da968...|0x000000000000000...|9223372036854775807|          0|           0.0|\n",
      "|      400201|0x35e7a025f4da968...|0x000000000000000...|9223372036854775807|          0|           0.0|\n",
      "|      400202|0x8f33e56448bdde6...|0x8c2f43743f7fe3c...|              21000|85000000000|      1.785E15|\n",
      "|      400202|0x964a5d34f88fade...|0xe9e7cea3dedca59...|              64142|20000000000|    1.28284E15|\n",
      "|      400202|0x371de0c6314052f...|0x61024541ec234ae...|             152910|20000000000|     3.0582E15|\n",
      "|      400202|0x335f3f3bd1384b5...|0x75ca8f6c82df5fd...|             691816|20000000000|   1.383632E16|\n",
      "|      400202|0x4430b3230294d12...|0x000000000000000...|9223372036854775807|          0|           0.0|\n",
      "|      400202|0x4430b3230294d12...|0x000000000000000...|9223372036854775807|          0|           0.0|\n",
      "|      400203|0x79de790a1aca5ff...|0x479a6f568082947...|             361365|20000000000|     7.2273E15|\n",
      "|      400203|0x6488aa4d1955ee3...|0x000000000000000...|9223372036854775807|          0|           0.0|\n",
      "|      400203|0x6488aa4d1955ee3...|0x000000000000000...|9223372036854775807|          0|           0.0|\n",
      "|      400204|0xfe9cbd057464f17...|0x75ca8f6c82df5fd...|           28500000|20000000000|        5.7E17|\n",
      "|      400204|0x5d0d8aa6ee5d444...|0x75ca8f6c82df5fd...|            1016904|20000000000|   2.033808E16|\n",
      "+------------+--------------------+--------------------+-------------------+-----------+--------------+\n",
      "only showing top 20 rows"
     ]
    }
   ],
   "source": [
    "data_df.show()"
   ]
  },
  {
   "cell_type": "markdown",
   "id": "857204cb",
   "metadata": {},
   "source": [
    "### remove loop, keep last txn, remove nan and null address"
   ]
  },
  {
   "cell_type": "code",
   "execution_count": 55,
   "id": "1ebbc39f",
   "metadata": {},
   "outputs": [
    {
     "data": {
      "application/vnd.jupyter.widget-view+json": {
       "model_id": "",
       "version_major": 2,
       "version_minor": 0
      },
      "text/plain": [
       "FloatProgress(value=0.0, bar_style='info', description='Progress:', layout=Layout(height='25px', width='50%'),…"
      ]
     },
     "metadata": {},
     "output_type": "display_data"
    }
   ],
   "source": [
    " # remove loop\n",
    "data_df = data_df.filter(col('from_address') != col('to_address'))\n",
    " # keep last txn\n",
    "window_spec = Window.partitionBy(['from_address', 'to_address']).orderBy(col('block_number').desc())\n",
    "data_df = data_df.withColumn('row_num', row_number().over(window_spec)).filter(col('row_num') == 1).drop('row_num')\n",
    "# remove nan\n",
    "data_df = data_df.dropna(subset=['from_address'])\n",
    "data_df = data_df.dropna(subset=['to_address'])\n",
    "# remove null address (address for burning)\n",
    "data_df = data_df.filter(col('from_address') != '0x0000000000000000000000000000000000000000') \n",
    "data_df = data_df.filter(col('from_address') != '0x000000000000000000000000000000000000dEaD') \n"
   ]
  },
  {
   "cell_type": "markdown",
   "id": "a24030c5",
   "metadata": {},
   "source": [
    "Example:\n",
    "Before pre-processing\n",
    "\n",
    "| block_num | from_address | to_address |\n",
    "| --- | --- | --- |\n",
    "| 1 | a | b |\n",
    "| 1 | a | b |\n",
    "| 2 | a | b |\n",
    "| 2 | a | null |\n",
    "| 3 | a |  |\n",
    "| 3 | a | a |\n",
    "\n",
    "After pre-processing\n",
    "\n",
    "| block_num | from_address | to_address |\n",
    "| --- | --- | --- |\n",
    "| 2 | a | b |\n"
   ]
  },
  {
   "cell_type": "markdown",
   "id": "7fb3f231",
   "metadata": {},
   "source": [
    "#### Summary after pre-processing"
   ]
  },
  {
   "cell_type": "code",
   "execution_count": 56,
   "id": "53b4c502",
   "metadata": {},
   "outputs": [
    {
     "data": {
      "application/vnd.jupyter.widget-view+json": {
       "model_id": "",
       "version_major": 2,
       "version_minor": 0
      },
      "text/plain": [
       "FloatProgress(value=0.0, bar_style='info', description='Progress:', layout=Layout(height='25px', width='50%'),…"
      ]
     },
     "metadata": {},
     "output_type": "display_data"
    },
    {
     "name": "stdout",
     "output_type": "stream",
     "text": [
      "Total: 19154 txns\n",
      "first block: 1 last block: 99879"
     ]
    }
   ],
   "source": [
    "print('Total:', data_df.count(), 'txns')\n",
    "block_min = data_df.select(min('block_number')).first()[0]\n",
    "block_max = data_df.select(max('block_number')).first()[0]\n",
    "print('first block:',block_min,'last block:',block_max)"
   ]
  },
  {
   "cell_type": "markdown",
   "id": "f2c455f3",
   "metadata": {},
   "source": [
    "## 2. Calculting weight for node and edge"
   ]
  },
  {
   "cell_type": "markdown",
   "id": "da33cc15",
   "metadata": {},
   "source": [
    "In this verion, graphframe will be used to calculate page rank. However, due to limitation of this package, it cannot assign weight to edges and node. </br>\n",
    "Therefore, graphframe part will be used as a place holder for better package. </br>\n",
    "Weight for node and edge are still calculated but will not be used."
   ]
  },
  {
   "cell_type": "code",
   "execution_count": 57,
   "id": "021e4631",
   "metadata": {},
   "outputs": [
    {
     "data": {
      "application/vnd.jupyter.widget-view+json": {
       "model_id": "",
       "version_major": 2,
       "version_minor": 0
      },
      "text/plain": [
       "FloatProgress(value=0.0, bar_style='info', description='Progress:', layout=Layout(height='25px', width='50%'),…"
      ]
     },
     "metadata": {},
     "output_type": "display_data"
    },
    {
     "name": "stdout",
     "output_type": "stream",
     "text": [
      "+------------+--------------------+--------------------+------+------------+--------------+----------+\n",
      "|block_number|        from_address|          to_address|   gas|   gas_price|gas_used (bnb)|block_date|\n",
      "+------------+--------------------+--------------------+------+------------+--------------+----------+\n",
      "|      402026|0x000000004fa9e63...|0x8f76c99c3e96371...| 21000| 91000000000|      1.911E15|        13|\n",
      "|      402822|0x000819e432ac8eb...|0xae9269f27437f0f...| 66006| 20000000000|    1.32012E15|        13|\n",
      "|      402702|0x000819e432ac8eb...|0xe9e7cea3dedca59...| 66213| 20000000000|    1.32426E15|        13|\n",
      "|      415290|0x00197a17c8ec9e0...|0x0d76db4e067be7f...|152910| 20000000000|     3.0582E15|        14|\n",
      "|      420302|0x00197a17c8ec9e0...|0x2170ed0880ac9a7...| 76708|103000000000|   7.900924E15|        14|\n",
      "|      394931|0x00197a17c8ec9e0...|0x87d22a430356e8d...|152926| 20000000000|    3.05852E15|        13|\n",
      "|      399545|0x00197a17c8ec9e0...|0x89da130d26b6dba...|152926| 20000000000|    3.05852E15|        13|\n",
      "|      420903|0x00197a17c8ec9e0...|0x8da632adeb2bf5b...|312643| 20000000000|    6.25286E15|        14|\n",
      "|      403409|0x00197a17c8ec9e0...|0xae9269f27437f0f...| 66006| 20000000000|    1.32012E15|        14|\n",
      "|      407719|0x0020272f773c311...|0x0a218ad4fee2179...| 21000| 74000000000|      1.554E15|        14|\n",
      "|      415717|0x0020272f773c311...|0x55d398326f99059...| 43641| 20000000000|     8.7282E14|        14|\n",
      "|      428130|0x003796e74b53eaa...|0xc3477ad3755dcd8...|110351| 20000000000|    2.20702E15|        14|\n",
      "|      310589|0x0039f22efb07a64...|0x437fd519356a046...| 21000| 20000000000|        4.2E14|        10|\n",
      "|      311012|0x0039f22efb07a64...|0x5cd5bb3ec13ce31...|144391| 20000000000|    2.88782E15|        10|\n",
      "|      404064|0x004307cf2a8e395...|0xae9269f27437f0f...| 66006| 20000000000|    1.32012E15|        14|\n",
      "|      420318|0x00437ecdcf322be...|0x082e27ae683a4ba...|338865| 20000000000|     6.7773E15|        14|\n",
      "|      406810|0x00486534de65988...|0x631fc1ea2270e98...|207128| 20000000000|    4.14256E15|        14|\n",
      "|      401309|0x0064dd1840a0e52...|0x61024541ec234ae...|152910| 20000000000|     3.0582E15|        13|\n",
      "|      404669|0x0064dd1840a0e52...|0x75967132020b3de...|152910| 20000000000|     3.0582E15|        14|\n",
      "|      406748|0x0064dd1840a0e52...|0x76df893d381a338...|152910| 20000000000|     3.0582E15|        14|\n",
      "+------------+--------------------+--------------------+------+------------+--------------+----------+\n",
      "only showing top 20 rows"
     ]
    }
   ],
   "source": [
    "activate_time=90\n",
    "blockperday_set=28800\n",
    "data_df = data_df.withColumn('block_date', ((col('block_number') - block_min - activate_time) / blockperday_set).cast('int'))\n",
    "data_df.show()"
   ]
  },
  {
   "cell_type": "code",
   "execution_count": 58,
   "id": "4d2924b1",
   "metadata": {
    "scrolled": false
   },
   "outputs": [
    {
     "data": {
      "application/vnd.jupyter.widget-view+json": {
       "model_id": "",
       "version_major": 2,
       "version_minor": 0
      },
      "text/plain": [
       "FloatProgress(value=0.0, bar_style='info', description='Progress:', layout=Layout(height='25px', width='50%'),…"
      ]
     },
     "metadata": {},
     "output_type": "display_data"
    },
    {
     "name": "stdout",
     "output_type": "stream",
     "text": [
      "+------------+--------------------+--------------------+------+------------+--------------+----------+------------------+\n",
      "|block_number|        from_address|          to_address|   gas|   gas_price|gas_used (bnb)|block_date|        age_weight|\n",
      "+------------+--------------------+--------------------+------+------------+--------------+----------+------------------+\n",
      "|      402026|0x000000004fa9e63...|0x8f76c99c3e96371...| 21000| 91000000000|      1.911E15|        13|0.5506073655352404|\n",
      "|      402822|0x000819e432ac8eb...|0xae9269f27437f0f...| 66006| 20000000000|    1.32012E15|        13|0.5506073655352404|\n",
      "|      402702|0x000819e432ac8eb...|0xe9e7cea3dedca59...| 66213| 20000000000|    1.32426E15|        13|0.5506073655352404|\n",
      "|      415290|0x00197a17c8ec9e0...|0x0d76db4e067be7f...|152910| 20000000000|     3.0582E15|        14|0.5544704649604273|\n",
      "|      420302|0x00197a17c8ec9e0...|0x2170ed0880ac9a7...| 76708|103000000000|   7.900924E15|        14|0.5544704649604273|\n",
      "|      394931|0x00197a17c8ec9e0...|0x87d22a430356e8d...|152926| 20000000000|    3.05852E15|        13|0.5506073655352404|\n",
      "|      399545|0x00197a17c8ec9e0...|0x89da130d26b6dba...|152926| 20000000000|    3.05852E15|        13|0.5506073655352404|\n",
      "|      420903|0x00197a17c8ec9e0...|0x8da632adeb2bf5b...|312643| 20000000000|    6.25286E15|        14|0.5544704649604273|\n",
      "|      403409|0x00197a17c8ec9e0...|0xae9269f27437f0f...| 66006| 20000000000|    1.32012E15|        14|0.5544704649604273|\n",
      "|      407719|0x0020272f773c311...|0x0a218ad4fee2179...| 21000| 74000000000|      1.554E15|        14|0.5544704649604273|\n",
      "|      415717|0x0020272f773c311...|0x55d398326f99059...| 43641| 20000000000|     8.7282E14|        14|0.5544704649604273|\n",
      "|      428130|0x003796e74b53eaa...|0xc3477ad3755dcd8...|110351| 20000000000|    2.20702E15|        14|0.5544704649604273|\n",
      "|      310589|0x0039f22efb07a64...|0x437fd519356a046...| 21000| 20000000000|        4.2E14|        10|0.5389832206876841|\n",
      "|      311012|0x0039f22efb07a64...|0x5cd5bb3ec13ce31...|144391| 20000000000|    2.88782E15|        10|0.5389832206876841|\n",
      "|      404064|0x004307cf2a8e395...|0xae9269f27437f0f...| 66006| 20000000000|    1.32012E15|        14|0.5544704649604273|\n",
      "|      420318|0x00437ecdcf322be...|0x082e27ae683a4ba...|338865| 20000000000|     6.7773E15|        14|0.5544704649604273|\n",
      "|      406810|0x00486534de65988...|0x631fc1ea2270e98...|207128| 20000000000|    4.14256E15|        14|0.5544704649604273|\n",
      "|      401309|0x0064dd1840a0e52...|0x61024541ec234ae...|152910| 20000000000|     3.0582E15|        13|0.5506073655352404|\n",
      "|      404669|0x0064dd1840a0e52...|0x75967132020b3de...|152910| 20000000000|     3.0582E15|        14|0.5544704649604273|\n",
      "|      406748|0x0064dd1840a0e52...|0x76df893d381a338...|152910| 20000000000|     3.0582E15|        14|0.5544704649604273|\n",
      "+------------+--------------------+--------------------+------+------------+--------------+----------+------------------+\n",
      "only showing top 20 rows"
     ]
    }
   ],
   "source": [
    "a = 1\n",
    "b = 1/64\n",
    "data_df = data_df.withColumn('age_weight', a / (1.0 + exp(-b * data_df['block_date'])))\n",
    "data_df.show()"
   ]
  },
  {
   "cell_type": "markdown",
   "id": "9b090a91",
   "metadata": {},
   "source": [
    "### Get weight for edge"
   ]
  },
  {
   "cell_type": "code",
   "execution_count": 59,
   "id": "0dd988f6",
   "metadata": {},
   "outputs": [
    {
     "data": {
      "application/vnd.jupyter.widget-view+json": {
       "model_id": "",
       "version_major": 2,
       "version_minor": 0
      },
      "text/plain": [
       "FloatProgress(value=0.0, bar_style='info', description='Progress:', layout=Layout(height='25px', width='50%'),…"
      ]
     },
     "metadata": {},
     "output_type": "display_data"
    }
   ],
   "source": [
    "to_weights_df = data_df.select(['to_address', 'age_weight'])\n",
    "node_age_weights = to_weights_df.groupBy('to_address').agg(_sum('age_weight').alias('age_weight'))\n",
    "s_weights = node_age_weights.agg(_sum('age_weight')).collect()[0][0] # result is a list of row so need [0][0]\n",
    "personalized_weights = {row['to_address']: row['age_weight']/s_weights for row in node_age_weights.collect()}"
   ]
  },
  {
   "cell_type": "code",
   "execution_count": 60,
   "id": "7cb642f9",
   "metadata": {
    "scrolled": false
   },
   "outputs": [
    {
     "data": {
      "application/vnd.jupyter.widget-view+json": {
       "model_id": "",
       "version_major": 2,
       "version_minor": 0
      },
      "text/plain": [
       "FloatProgress(value=0.0, bar_style='info', description='Progress:', layout=Layout(height='25px', width='50%'),…"
      ]
     },
     "metadata": {},
     "output_type": "display_data"
    },
    {
     "name": "stdout",
     "output_type": "stream",
     "text": [
      "+------------+--------------------+--------------------+------+------------+--------------+----------+------------------+\n",
      "|block_number|        from_address|          to_address|   gas|   gas_price|gas_used (bnb)|block_date|        age_weight|\n",
      "+------------+--------------------+--------------------+------+------------+--------------+----------+------------------+\n",
      "|      402026|0x000000004fa9e63...|0x8f76c99c3e96371...| 21000| 91000000000|      1.911E15|        13|0.5506073655352404|\n",
      "|      402822|0x000819e432ac8eb...|0xae9269f27437f0f...| 66006| 20000000000|    1.32012E15|        13|0.5506073655352404|\n",
      "|      402702|0x000819e432ac8eb...|0xe9e7cea3dedca59...| 66213| 20000000000|    1.32426E15|        13|0.5506073655352404|\n",
      "|      415290|0x00197a17c8ec9e0...|0x0d76db4e067be7f...|152910| 20000000000|     3.0582E15|        14|0.5544704649604273|\n",
      "|      420302|0x00197a17c8ec9e0...|0x2170ed0880ac9a7...| 76708|103000000000|   7.900924E15|        14|0.5544704649604273|\n",
      "|      394931|0x00197a17c8ec9e0...|0x87d22a430356e8d...|152926| 20000000000|    3.05852E15|        13|0.5506073655352404|\n",
      "|      399545|0x00197a17c8ec9e0...|0x89da130d26b6dba...|152926| 20000000000|    3.05852E15|        13|0.5506073655352404|\n",
      "|      420903|0x00197a17c8ec9e0...|0x8da632adeb2bf5b...|312643| 20000000000|    6.25286E15|        14|0.5544704649604273|\n",
      "|      403409|0x00197a17c8ec9e0...|0xae9269f27437f0f...| 66006| 20000000000|    1.32012E15|        14|0.5544704649604273|\n",
      "|      407719|0x0020272f773c311...|0x0a218ad4fee2179...| 21000| 74000000000|      1.554E15|        14|0.5544704649604273|\n",
      "|      415717|0x0020272f773c311...|0x55d398326f99059...| 43641| 20000000000|     8.7282E14|        14|0.5544704649604273|\n",
      "|      428130|0x003796e74b53eaa...|0xc3477ad3755dcd8...|110351| 20000000000|    2.20702E15|        14|0.5544704649604273|\n",
      "|      310589|0x0039f22efb07a64...|0x437fd519356a046...| 21000| 20000000000|        4.2E14|        10|0.5389832206876841|\n",
      "|      311012|0x0039f22efb07a64...|0x5cd5bb3ec13ce31...|144391| 20000000000|    2.88782E15|        10|0.5389832206876841|\n",
      "|      404064|0x004307cf2a8e395...|0xae9269f27437f0f...| 66006| 20000000000|    1.32012E15|        14|0.5544704649604273|\n",
      "|      420318|0x00437ecdcf322be...|0x082e27ae683a4ba...|338865| 20000000000|     6.7773E15|        14|0.5544704649604273|\n",
      "|      406810|0x00486534de65988...|0x631fc1ea2270e98...|207128| 20000000000|    4.14256E15|        14|0.5544704649604273|\n",
      "|      401309|0x0064dd1840a0e52...|0x61024541ec234ae...|152910| 20000000000|     3.0582E15|        13|0.5506073655352404|\n",
      "|      404669|0x0064dd1840a0e52...|0x75967132020b3de...|152910| 20000000000|     3.0582E15|        14|0.5544704649604273|\n",
      "|      406748|0x0064dd1840a0e52...|0x76df893d381a338...|152910| 20000000000|     3.0582E15|        14|0.5544704649604273|\n",
      "+------------+--------------------+--------------------+------+------------+--------------+----------+------------------+\n",
      "only showing top 20 rows"
     ]
    }
   ],
   "source": [
    "data_df.show()#truncate=False)"
   ]
  },
  {
   "cell_type": "markdown",
   "id": "3b6f0e96",
   "metadata": {},
   "source": [
    "### Get weight for node(vertices)"
   ]
  },
  {
   "cell_type": "code",
   "execution_count": 61,
   "id": "7e2e8398",
   "metadata": {
    "scrolled": false
   },
   "outputs": [
    {
     "data": {
      "application/vnd.jupyter.widget-view+json": {
       "model_id": "",
       "version_major": 2,
       "version_minor": 0
      },
      "text/plain": [
       "FloatProgress(value=0.0, bar_style='info', description='Progress:', layout=Layout(height='25px', width='50%'),…"
      ]
     },
     "metadata": {},
     "output_type": "display_data"
    },
    {
     "name": "stdout",
     "output_type": "stream",
     "text": [
      "+--------------------+\n",
      "|                  id|\n",
      "+--------------------+\n",
      "|0x5558bf3dc2f5b0c...|\n",
      "|0x56e5272a583d3b4...|\n",
      "|0x96adc9b48983b02...|\n",
      "|0xb0dd17567933fc8...|\n",
      "|0xc8b9bbba82cbe9f...|\n",
      "|0xd2f93484f2d3191...|\n",
      "|0xd576b5994865c94...|\n",
      "|0x0e630dc7ba2de34...|\n",
      "|0x1c537fcf80c1069...|\n",
      "|0x4e8f1cf9a9ddcad...|\n",
      "|0x54b4e4a37808b8d...|\n",
      "|0x555a56c3f71d8d1...|\n",
      "|0x67909f0fd4d7634...|\n",
      "|0x70ddb0f995d235e...|\n",
      "|0x83003d1b9d4e472...|\n",
      "|0x9e8b8a310be07b8...|\n",
      "|0xecb0a819c0d9914...|\n",
      "|0xf764cc532f61789...|\n",
      "|0x0cae1e6c5e8b410...|\n",
      "|0x15222740c04c23a...|\n",
      "+--------------------+\n",
      "only showing top 20 rows"
     ]
    }
   ],
   "source": [
    "vertices_df = data_df.select(col(\"from_address\").alias(\"id\")).union(data_df.select(col(\"to_address\").alias(\"id\")))\n",
    "vertices_df = vertices_df.distinct()\n",
    "vertices_df.show()#truncate=False)"
   ]
  },
  {
   "cell_type": "code",
   "execution_count": 62,
   "id": "3c7267a5",
   "metadata": {},
   "outputs": [
    {
     "data": {
      "application/vnd.jupyter.widget-view+json": {
       "model_id": "",
       "version_major": 2,
       "version_minor": 0
      },
      "text/plain": [
       "FloatProgress(value=0.0, bar_style='info', description='Progress:', layout=Layout(height='25px', width='50%'),…"
      ]
     },
     "metadata": {},
     "output_type": "display_data"
    },
    {
     "name": "stdout",
     "output_type": "stream",
     "text": [
      "+------------------------------------------+---------------------+\n",
      "|id                                        |personalized weight  |\n",
      "+------------------------------------------+---------------------+\n",
      "|0x56e5272a583d3b490062f69e183d4a510d007ef8|5.2017130048517535E-5|\n",
      "|0xb0dd17567933fc80810d7fd6b39409eb03dd23a6|1.0476417167384429E-4|\n",
      "|0xc8b9bbba82cbe9f56ea20344cd5dc84066f994ed|5.2017130048517535E-5|\n",
      "|0xd576b5994865c94a0a6449687c2a08e47fd77bb4|5.2017130048517535E-5|\n",
      "|0x0e630dc7ba2de34887ac7173f9d480070c810526|5.2382085836922145E-5|\n",
      "|0x1c537fcf80c1069716ea7a151100edbd55b99a4c|1.0476417167384429E-4|\n",
      "|0x4e8f1cf9a9ddcadee3340dada2cba5508d340b4e|5.2017130048517535E-5|\n",
      "|0x555a56c3f71d8d1c411bd3b10434385c411547fe|1.0439921588543968E-4|\n",
      "|0x67909f0fd4d76342b85108412d5c97ed5b33c49f|5.2382085836922145E-5|\n",
      "|0xf764cc532f61789b0cf56dab37348f02afc70887|5.2382085836922145E-5|\n",
      "|0xfa97c22a03d8522988c709c24283c0918a59c795|5.2382085836922145E-5|\n",
      "|0x0cae1e6c5e8b4109097e9e900e9f9554cc26b66c|5.2382085836922145E-5|\n",
      "|0x2d356e9593fb9eb3c3a4a7ee047ae46d8f759d3f|5.2382085836922145E-5|\n",
      "|0x322148a874461a5bd697802604e5a08018a8f087|5.2382085836922145E-5|\n",
      "|0x45909c92c0c02f546b5dfefcf789e2cb30d62c5e|0.0                  |\n",
      "|0x6daa86ef323e5a87776df943665f6e602c0c5005|5.2017130048517535E-5|\n",
      "|0x87882d214e91b2fb8f76d60f37f02c9ac3b7d019|1.0183392126906926E-4|\n",
      "|0x88540f24dfa644028b1c50a9c8cc385b4eff0469|5.2382085836922145E-5|\n",
      "|0x0225610b230e068e9490416f9f16c43893961a18|5.2382085836922145E-5|\n",
      "|0x142ba743cf9317eb54ba10c157870af3cbb66bd3|5.2017130048517535E-5|\n",
      "+------------------------------------------+---------------------+\n",
      "only showing top 20 rows"
     ]
    }
   ],
   "source": [
    "weight_df = spark.createDataFrame(\n",
    "    personalized_weights.items(),\n",
    "    [\"id\", \"weight\"]\n",
    ")\n",
    "result_df = vertices_df.join(weight_df, \"id\", \"left\").select(\"id\", \"weight\")\n",
    "vertices_df_with_personalized_weight = result_df.withColumnRenamed(\"weight\", \"personalized weight\")\n",
    "vertices_df_with_personalized_weight=vertices_df_with_personalized_weight.fillna(0)\n",
    "vertices_df_with_personalized_weight.show(truncate=False)"
   ]
  },
  {
   "cell_type": "code",
   "execution_count": 63,
   "id": "bddf5d04",
   "metadata": {},
   "outputs": [
    {
     "data": {
      "application/vnd.jupyter.widget-view+json": {
       "model_id": "",
       "version_major": 2,
       "version_minor": 0
      },
      "text/plain": [
       "FloatProgress(value=0.0, bar_style='info', description='Progress:', layout=Layout(height='25px', width='50%'),…"
      ]
     },
     "metadata": {},
     "output_type": "display_data"
    }
   ],
   "source": [
    "edges_df = data_df.select(col(\"from_address\").alias(\"src\"), col(\"to_address\").alias(\"dst\"), col(\"age_weight\").alias(\"weight\"))"
   ]
  },
  {
   "cell_type": "code",
   "execution_count": 64,
   "id": "fbb6c2de",
   "metadata": {
    "scrolled": false
   },
   "outputs": [
    {
     "data": {
      "application/vnd.jupyter.widget-view+json": {
       "model_id": "",
       "version_major": 2,
       "version_minor": 0
      },
      "text/plain": [
       "FloatProgress(value=0.0, bar_style='info', description='Progress:', layout=Layout(height='25px', width='50%'),…"
      ]
     },
     "metadata": {},
     "output_type": "display_data"
    },
    {
     "name": "stdout",
     "output_type": "stream",
     "text": [
      "4924 19154"
     ]
    }
   ],
   "source": [
    "print(vertices_df.count(),edges_df.count())"
   ]
  },
  {
   "cell_type": "markdown",
   "id": "a2aef89b",
   "metadata": {},
   "source": [
    "### Get transaction, degree and gas information"
   ]
  },
  {
   "cell_type": "code",
   "execution_count": 65,
   "id": "95a8d09a",
   "metadata": {},
   "outputs": [
    {
     "data": {
      "application/vnd.jupyter.widget-view+json": {
       "model_id": "",
       "version_major": 2,
       "version_minor": 0
      },
      "text/plain": [
       "FloatProgress(value=0.0, bar_style='info', description='Progress:', layout=Layout(height='25px', width='50%'),…"
      ]
     },
     "metadata": {},
     "output_type": "display_data"
    }
   ],
   "source": [
    "# calcualte totall gas, total transfer, total receive\n",
    "\n",
    "total_gas_used_df = data_df.groupBy('from_address').agg(_sum('gas_used (bnb)').alias('Total gas'))\n",
    "total_gas_used_df=total_gas_used_df.withColumnRenamed('from_address', 'Address')\n",
    "\n",
    "total_transfer_df = data_df.groupBy('from_address').count().withColumnRenamed('count', 'Total Transfers')\n",
    "total_transfer_df=total_transfer_df.withColumnRenamed('from_address', 'Address')\n",
    "\n",
    "total_receive_df = data_df.groupBy('to_address').count().withColumnRenamed('count', 'Total Receives')\n",
    "total_receive_df=total_receive_df.withColumnRenamed('to_address', 'Address')\n"
   ]
  },
  {
   "cell_type": "markdown",
   "id": "a6aca556",
   "metadata": {},
   "source": [
    "### Intiate the Graph"
   ]
  },
  {
   "cell_type": "markdown",
   "id": "8e82b6ed",
   "metadata": {},
   "source": [
    "Currently using graphframe, which will **not** support age weight and node weight"
   ]
  },
  {
   "cell_type": "code",
   "execution_count": 66,
   "id": "2e0ba020",
   "metadata": {},
   "outputs": [
    {
     "data": {
      "application/vnd.jupyter.widget-view+json": {
       "model_id": "",
       "version_major": 2,
       "version_minor": 0
      },
      "text/plain": [
       "FloatProgress(value=0.0, bar_style='info', description='Progress:', layout=Layout(height='25px', width='50%'),…"
      ]
     },
     "metadata": {},
     "output_type": "display_data"
    }
   ],
   "source": [
    "graph = GraphFrame(vertices_df, edges_df)\n"
   ]
  },
  {
   "cell_type": "code",
   "execution_count": 67,
   "id": "3a92f910",
   "metadata": {
    "scrolled": true
   },
   "outputs": [
    {
     "data": {
      "application/vnd.jupyter.widget-view+json": {
       "model_id": "",
       "version_major": 2,
       "version_minor": 0
      },
      "text/plain": [
       "FloatProgress(value=0.0, bar_style='info', description='Progress:', layout=Layout(height='25px', width='50%'),…"
      ]
     },
     "metadata": {},
     "output_type": "display_data"
    },
    {
     "name": "stdout",
     "output_type": "stream",
     "text": [
      "Number of nodes: 4924\n",
      "Number of edges: 19154"
     ]
    }
   ],
   "source": [
    "# count nodes and edges\n",
    "num_vertices = graph.vertices.count()\n",
    "num_edges = graph.edges.count()\n",
    "\n",
    "print(\"Number of nodes:\", num_vertices)\n",
    "print(\"Number of edges:\", num_edges)"
   ]
  },
  {
   "cell_type": "code",
   "execution_count": 68,
   "id": "128e15ec",
   "metadata": {},
   "outputs": [
    {
     "data": {
      "application/vnd.jupyter.widget-view+json": {
       "model_id": "",
       "version_major": 2,
       "version_minor": 0
      },
      "text/plain": [
       "FloatProgress(value=0.0, bar_style='info', description='Progress:', layout=Layout(height='25px', width='50%'),…"
      ]
     },
     "metadata": {},
     "output_type": "display_data"
    }
   ],
   "source": [
    "# calculate in , out degree\n",
    "in_degrees = graph.inDegrees\n",
    "in_degrees = in_degrees.withColumnRenamed('id', 'Address')\n",
    "out_degrees = graph.outDegrees\n",
    "out_degrees = out_degrees.withColumnRenamed('id', 'Address')"
   ]
  },
  {
   "cell_type": "markdown",
   "id": "dffa5e61",
   "metadata": {},
   "source": [
    "### Page Rank Calculation\n",
    "Graph frame doesn't have sum of all pagerank equal to 1, so need to normalize after calculating"
   ]
  },
  {
   "cell_type": "code",
   "execution_count": 229,
   "id": "5281d13c",
   "metadata": {},
   "outputs": [
    {
     "data": {
      "application/vnd.jupyter.widget-view+json": {
       "model_id": "",
       "version_major": 2,
       "version_minor": 0
      },
      "text/plain": [
       "FloatProgress(value=0.0, bar_style='info', description='Progress:', layout=Layout(height='25px', width='50%'),…"
      ]
     },
     "metadata": {},
     "output_type": "display_data"
    }
   ],
   "source": [
    "results = graph.pageRank(resetProbability=0.15, tol=0.01)\n",
    "#results = graph.pageRank(resetProbability=0.5, maxIter= 10)"
   ]
  },
  {
   "cell_type": "code",
   "execution_count": 237,
   "id": "46d46f45",
   "metadata": {
    "scrolled": false
   },
   "outputs": [
    {
     "data": {
      "application/vnd.jupyter.widget-view+json": {
       "model_id": "",
       "version_major": 2,
       "version_minor": 0
      },
      "text/plain": [
       "FloatProgress(value=0.0, bar_style='info', description='Progress:', layout=Layout(height='25px', width='50%'),…"
      ]
     },
     "metadata": {},
     "output_type": "display_data"
    },
    {
     "name": "stdout",
     "output_type": "stream",
     "text": [
      "+--------------------+------------------+\n",
      "|             Address|  Reputation Score|\n",
      "+--------------------+------------------+\n",
      "|0x4f129fbd6fe4c63...|0.6083179071295053|\n",
      "|0x5558bf3dc2f5b0c...|0.6083179071295053|\n",
      "|0x56e5272a583d3b4...|0.6083179071295053|\n",
      "|0x58932ae7796b486...|0.6083179071295053|\n",
      "|0xc8b9bbba82cbe9f...|0.6083179071295053|\n",
      "|0xd576b5994865c94...|0.6083179071295053|\n",
      "|0x0e630dc7ba2de34...|0.6083179071295053|\n",
      "|0x1c537fcf80c1069...|0.6474210472661964|\n",
      "|0x4e8f1cf9a9ddcad...|0.6083179071295053|\n",
      "|0x54b4e4a37808b8d...|0.6083179071295053|\n",
      "|0x555a56c3f71d8d1...|1.2765580580132696|\n",
      "|0x67909f0fd4d7634...|0.6083179071295053|\n",
      "|0x70ddb0f995d235e...|0.6083179071295053|\n",
      "|0x83003d1b9d4e472...|0.6083179071295053|\n",
      "|0xc0d9ae4426209cd...|0.6083179071295053|\n",
      "|0xd0e1b043cb7423c...|0.6083179071295053|\n",
      "|0xe8af1475e115859...|0.6083179071295053|\n",
      "|0xecb0a819c0d9914...|0.6083179071295053|\n",
      "|0xf764cc532f61789...|0.6083179071295053|\n",
      "|0xfa97c22a03d8522...|0.8522184365084761|\n",
      "+--------------------+------------------+\n",
      "only showing top 20 rows"
     ]
    }
   ],
   "source": [
    "result_df=results.vertices.select(\"id\", \"pagerank\").toDF(\"Address\", \"Reputation Score\")\n",
    "#result_df=result_df.drop(col('Reputation Score'))\n",
    "result_df.show()#truncate=False)|"
   ]
  },
  {
   "cell_type": "code",
   "execution_count": 238,
   "id": "ee1693df",
   "metadata": {},
   "outputs": [
    {
     "data": {
      "application/vnd.jupyter.widget-view+json": {
       "model_id": "",
       "version_major": 2,
       "version_minor": 0
      },
      "text/plain": [
       "FloatProgress(value=0.0, bar_style='info', description='Progress:', layout=Layout(height='25px', width='50%'),…"
      ]
     },
     "metadata": {},
     "output_type": "display_data"
    },
    {
     "name": "stdout",
     "output_type": "stream",
     "text": [
      "4924.000000000195"
     ]
    }
   ],
   "source": [
    "total_score=result_df.agg(_sum(\"Reputation Score\")).collect()[0][0] # test total score \n",
    "total_score"
   ]
  },
  {
   "cell_type": "markdown",
   "id": "0462a8d5",
   "metadata": {},
   "source": [
    "#### normalize the score "
   ]
  },
  {
   "cell_type": "code",
   "execution_count": 239,
   "id": "d6f6d9dc",
   "metadata": {},
   "outputs": [
    {
     "data": {
      "application/vnd.jupyter.widget-view+json": {
       "model_id": "",
       "version_major": 2,
       "version_minor": 0
      },
      "text/plain": [
       "FloatProgress(value=0.0, bar_style='info', description='Progress:', layout=Layout(height='25px', width='50%'),…"
      ]
     },
     "metadata": {},
     "output_type": "display_data"
    },
    {
     "name": "stdout",
     "output_type": "stream",
     "text": [
      "+--------------------+------------------+-----------------------+\n",
      "|             Address|  Reputation Score|Reputation Score Scaled|\n",
      "+--------------------+------------------+-----------------------+\n",
      "|0xae9269f27437f0f...| 171.1010033163112|    0.03474837597812844|\n",
      "|0x56e5272a583d3b4...|0.6083179071295053|   1.235414108711375...|\n",
      "|0x555a56c3f71d8d1...|1.2765580580132696|   2.592522457378593E-4|\n",
      "|0x9e2f1fdcf8ec30d...|0.7251332310642297|   1.472650753582861...|\n",
      "|0x1558c9987bceaec...|0.6711716614088015|   1.363061863137235...|\n",
      "|0x1c537fcf80c1069...|0.6474210472661964|   1.314827472108389...|\n",
      "|0xe8af1475e115859...|0.6083179071295053|   1.235414108711375...|\n",
      "|0xf764cc532f61789...|0.6083179071295053|   1.235414108711375...|\n",
      "|0xfb3b893159fd02e...|0.6083179071295053|   1.235414108711375...|\n",
      "|0xf89dda78a4e5e17...|0.6343580843183393|   1.288298302839793...|\n",
      "|0xfa97c22a03d8522...|0.8522184365084761|   1.730744184623156...|\n",
      "|0x15222740c04c23a...|0.6083179071295053|   1.235414108711375...|\n",
      "|0x659edb0d5eb7eb4...|0.6083179071295053|   1.235414108711375...|\n",
      "|0x6daa86ef323e5a8...|0.6083179071295053|   1.235414108711375...|\n",
      "|0xd88b391062a2aa7...|0.6083179071295053|   1.235414108711375...|\n",
      "|0xe4dfeff99f26633...|0.6083179071295053|   1.235414108711375...|\n",
      "|0xe6fd996486a92f0...|0.6083179071295053|   1.235414108711375...|\n",
      "|0x923687ddd21b22a...|0.8691631305677088|   1.765156642095195...|\n",
      "|0x03cb88b3208f55a...|0.6524828552852688|   1.325107342171492...|\n",
      "|0x3691b6a88a36800...|0.6083179071295053|   1.235414108711375...|\n",
      "+--------------------+------------------+-----------------------+\n",
      "only showing top 20 rows"
     ]
    }
   ],
   "source": [
    "result_df=result_df.withColumn('Reputation Score Scaled',col('Reputation Score')/total_score)\n",
    "result_df.show()"
   ]
  },
  {
   "cell_type": "code",
   "execution_count": 240,
   "id": "ee1b4cd5",
   "metadata": {
    "scrolled": true
   },
   "outputs": [
    {
     "data": {
      "application/vnd.jupyter.widget-view+json": {
       "model_id": "",
       "version_major": 2,
       "version_minor": 0
      },
      "text/plain": [
       "FloatProgress(value=0.0, bar_style='info', description='Progress:', layout=Layout(height='25px', width='50%'),…"
      ]
     },
     "metadata": {},
     "output_type": "display_data"
    },
    {
     "name": "stdout",
     "output_type": "stream",
     "text": [
      "0.9999999999999521"
     ]
    }
   ],
   "source": [
    "result_df.agg(_sum(\"Reputation Score Scaled\")).collect()[0][0] # test total score "
   ]
  },
  {
   "cell_type": "markdown",
   "id": "9ffca819",
   "metadata": {},
   "source": [
    "#### scale the score to 10xe6"
   ]
  },
  {
   "cell_type": "code",
   "execution_count": 241,
   "id": "25774929",
   "metadata": {},
   "outputs": [
    {
     "data": {
      "application/vnd.jupyter.widget-view+json": {
       "model_id": "",
       "version_major": 2,
       "version_minor": 0
      },
      "text/plain": [
       "FloatProgress(value=0.0, bar_style='info', description='Progress:', layout=Layout(height='25px', width='50%'),…"
      ]
     },
     "metadata": {},
     "output_type": "display_data"
    },
    {
     "name": "stdout",
     "output_type": "stream",
     "text": [
      "+--------------------+------------------+\n",
      "|             Address|Reputation (x10e6)|\n",
      "+--------------------+------------------+\n",
      "|0x56e5272a583d3b4...|123.54141087113753|\n",
      "|0xb0dd17567933fc8...| 340.2604260234871|\n",
      "|0xc8b9bbba82cbe9f...|123.54141087113753|\n",
      "|0xd576b5994865c94...|123.54141087113753|\n",
      "|0x1c537fcf80c1069...|131.48274721083894|\n",
      "|0x4e8f1cf9a9ddcad...|123.54141087113753|\n",
      "|0x54b4e4a37808b8d...|123.54141087113753|\n",
      "|0x555a56c3f71d8d1...|259.25224573785925|\n",
      "|0x67909f0fd4d7634...|123.54141087113753|\n",
      "|0xf764cc532f61789...|123.54141087113753|\n",
      "|0x0cae1e6c5e8b410...|123.54141087113753|\n",
      "|0x2d356e9593fb9eb...|123.54141087113753|\n",
      "|0x322148a874461a5...|123.54141087113753|\n",
      "|0x45909c92c0c02f5...| 121.4557322542566|\n",
      "|0x6daa86ef323e5a8...|123.54141087113753|\n",
      "|0x87882d214e91b2f...|226.77878328725558|\n",
      "|0x88540f24dfa6440...|123.54141087113753|\n",
      "|0x0225610b230e068...|123.54141087113753|\n",
      "|0x142ba743cf9317e...|123.54141087113753|\n",
      "|0x3ce7bcec03a4af9...|123.54141087113753|\n",
      "+--------------------+------------------+\n",
      "only showing top 20 rows"
     ]
    }
   ],
   "source": [
    "result_df=result_df.withColumn('Reputation (x10e6)',col('Reputation Score Scaled')*1000000.0)\n",
    "result_df=result_df.select('Address','Reputation (x10e6)')\n",
    "result_df.show()"
   ]
  },
  {
   "cell_type": "markdown",
   "id": "d26a4f7d",
   "metadata": {},
   "source": [
    "#### calculate in , out degree"
   ]
  },
  {
   "cell_type": "code",
   "execution_count": 242,
   "id": "5facc6ab",
   "metadata": {},
   "outputs": [
    {
     "data": {
      "application/vnd.jupyter.widget-view+json": {
       "model_id": "",
       "version_major": 2,
       "version_minor": 0
      },
      "text/plain": [
       "FloatProgress(value=0.0, bar_style='info', description='Progress:', layout=Layout(height='25px', width='50%'),…"
      ]
     },
     "metadata": {},
     "output_type": "display_data"
    }
   ],
   "source": [
    "in_degrees = graph.inDegrees\n",
    "in_degrees = in_degrees.withColumnRenamed('id', 'Address')\n",
    "out_degrees = graph.outDegrees\n",
    "out_degrees = out_degrees.withColumnRenamed('id', 'Address')"
   ]
  },
  {
   "cell_type": "markdown",
   "id": "005f46ae",
   "metadata": {},
   "source": [
    "#### Merging txn , gas, and degree information to the page rank result and sorting"
   ]
  },
  {
   "cell_type": "code",
   "execution_count": 244,
   "id": "9edd8e3c",
   "metadata": {},
   "outputs": [
    {
     "data": {
      "application/vnd.jupyter.widget-view+json": {
       "model_id": "",
       "version_major": 2,
       "version_minor": 0
      },
      "text/plain": [
       "FloatProgress(value=0.0, bar_style='info', description='Progress:', layout=Layout(height='25px', width='50%'),…"
      ]
     },
     "metadata": {},
     "output_type": "display_data"
    },
    {
     "name": "stdout",
     "output_type": "stream",
     "text": [
      "+--------------------+------------------+------------+---------------+--------------+--------+---------+------------+\n",
      "|             Address|Reputation (x10e6)|   Total gas|Total Transfers|Total Receives|inDegree|outDegree|total_degree|\n",
      "+--------------------+------------------+------------+---------------+--------------+--------+---------+------------+\n",
      "|0x75ca8f6c82df5fd...| 53313.22845002258|         0.0|              0|          1942|    1942|        0|           0|\n",
      "|0xe4ae305ebe1abe6...| 43681.98293329425|         0.0|              0|           790|     790|        0|           0|\n",
      "|0xae9269f27437f0f...| 34748.37597812844|         0.0|              0|          1567|    1567|        0|           0|\n",
      "|0x55d398326f99059...|26884.650063964473|         0.0|              0|          1137|    1137|        0|           0|\n",
      "|0xe9e7cea3dedca59...|15530.089348511083|         0.0|              0|           698|     698|        0|           0|\n",
      "|0x007ea5c0ea75a8d...|12983.963025906942|         0.0|              0|           263|     263|        0|           0|\n",
      "|0xcd7c5025753a49f...|12634.689168976656|         0.0|              0|           251|     251|        0|           0|\n",
      "|0x66eee567831a0c2...|10807.634881426367|         0.0|              0|           105|     105|        0|           0|\n",
      "|0x082e27ae683a4ba...|10118.002839054378|         0.0|              0|           578|     578|        0|           0|\n",
      "|0x479a6f568082947...| 8061.739254900576|         0.0|              0|           497|     497|        0|           0|\n",
      "|0x631fc1ea2270e98...|6895.0081334533215|1.2971484E18|           2810|            66|      66|     2810|        2876|\n",
      "|0x9154c2684aef8d1...|  6221.96613692477|         0.0|              0|           470|     470|        0|           0|\n",
      "|0x87aab9baf624aa1...|5962.8743067248215|         0.0|              0|           376|     376|        0|           0|\n",
      "|0x000000000000000...| 5440.880164211681|         0.0|              0|           104|     104|        0|           0|\n",
      "|0xd23b064910a11c1...| 5343.923111404032|         0.0|              0|           269|     269|        0|           0|\n",
      "|0x2170ed0880ac9a7...| 4568.717466678904|         0.0|              0|           202|     202|        0|           0|\n",
      "|0xbb4cdb9cbd36b01...| 3200.155704610937|         0.0|              0|           157|     157|        0|           0|\n",
      "|0x0974202095999e5...|3153.9039572813567|         0.0|              0|           156|     156|        0|           0|\n",
      "|0x589de0f0ccf9054...| 2956.309043761359|         0.0|              0|            77|      77|        0|           0|\n",
      "|0x1ffe17b99b439be...|  2883.91184843899|         0.0|              0|            67|      67|        0|           0|\n",
      "+--------------------+------------------+------------+---------------+--------------+--------+---------+------------+\n",
      "only showing top 20 rows"
     ]
    }
   ],
   "source": [
    "merged_df = result_df.join(total_gas_used_df, 'Address', 'left')\n",
    "merged_df = merged_df.join(total_transfer_df, 'Address', 'left')\n",
    "merged_df = merged_df.join(total_receive_df, 'Address', 'left')\n",
    "merged_df = merged_df.join(in_degrees, on='Address', how='left').join(out_degrees, on='Address', how='left')\n",
    "merged_df = merged_df.withColumn('total_degree', merged_df['inDegree'] + merged_df['outDegree'])\n",
    "merged_df = merged_df.fillna(0)\n",
    "merged_df = merged_df.replace(float('-inf'), 0)\n",
    "merged_df=merged_df.sort(col(\"Reputation (x10e6)\"),ascending=False)\n",
    "merged_df.show()#truncate=False)"
   ]
  },
  {
   "cell_type": "code",
   "execution_count": null,
   "id": "7f0189e5",
   "metadata": {},
   "outputs": [],
   "source": []
  },
  {
   "cell_type": "code",
   "execution_count": null,
   "id": "b8456a11",
   "metadata": {},
   "outputs": [],
   "source": []
  },
  {
   "cell_type": "code",
   "execution_count": null,
   "id": "9c9236de",
   "metadata": {},
   "outputs": [],
   "source": []
  },
  {
   "cell_type": "code",
   "execution_count": null,
   "id": "212de1d7",
   "metadata": {},
   "outputs": [],
   "source": []
  }
 ],
 "metadata": {
  "kernelspec": {
   "display_name": "PySpark",
   "language": "python",
   "name": "pysparkkernel"
  },
  "language_info": {
   "codemirror_mode": {
    "name": "python",
    "version": 3
   },
   "file_extension": ".py",
   "mimetype": "text/x-python",
   "name": "pyspark",
   "pygments_lexer": "python3"
  }
 },
 "nbformat": 4,
 "nbformat_minor": 5
}
