{
 "cells": [
  {
   "cell_type": "code",
   "execution_count": 1,
   "id": "72cb47dd",
   "metadata": {},
   "outputs": [
    {
     "data": {
      "text/plain": [
       "Intitializing Scala interpreter ..."
      ]
     },
     "metadata": {},
     "output_type": "display_data"
    },
    {
     "data": {
      "text/plain": [
       "Spark Web UI available at http://afd93b5c3cd4:4041\n",
       "SparkContext available as 'sc' (version = 3.3.2, master = local[*], app id = local-1681114238034)\n",
       "SparkSession available as 'spark'\n"
      ]
     },
     "metadata": {},
     "output_type": "display_data"
    },
    {
     "name": "stdout",
     "output_type": "stream",
     "text": [
      "23/04/10 08:10:43 WARN SparkSession: Using an existing Spark session; only runtime SQL configurations will take effect.\n"
     ]
    },
    {
     "data": {
      "text/plain": [
       "import org.apache.spark.sql.SparkSession\n",
       "spark: org.apache.spark.sql.SparkSession = org.apache.spark.sql.SparkSession@ffaab28\n"
      ]
     },
     "execution_count": 1,
     "metadata": {},
     "output_type": "execute_result"
    }
   ],
   "source": [
    "import org.apache.spark.sql.SparkSession\n",
    "\n",
    "val spark = SparkSession\n",
    "  .builder()\n",
    "  .appName(\"Jupyter\")\n",
    "  .getOrCreate()"
   ]
  },
  {
   "cell_type": "code",
   "execution_count": 28,
   "id": "b9914a26",
   "metadata": {},
   "outputs": [
    {
     "name": "stdout",
     "output_type": "stream",
     "text": [
      "+--------------------+\n",
      "|    contract_address|\n",
      "+--------------------+\n",
      "|0x000000000000000...|\n",
      "|0x000000000000000...|\n",
      "|0x000000000000000...|\n",
      "|0x000000000000000...|\n",
      "|0x000000000000000...|\n",
      "|0x000000000000000...|\n",
      "|0x000000000000000...|\n",
      "+--------------------+\n",
      "\n"
     ]
    },
    {
     "data": {
      "text/plain": [
       "import org.apache.spark.sql\n",
       "receiptSchema: org.apache.spark.sql.types.StructType = StructType(StructField(transaction_hash,StringType,true),StructField(transaction_index,LongType,true),StructField(block_hash,StringType,true),StructField(block_number,StringType,true),StructField(cumulative_gas_used,LongType,true),StructField(gas_used,LongType,true),StructField(contract_address,StringType,true),StructField(root,StringType,true),StructField(status,LongType,true),StructField(effective_gas_price,LongType,true))\n",
       "logSchema: org.apache.spark.sql.types.StructType = StructType(StructField(log_index,LongType,true),StructField(transaction_hash,StringType,true),StructField(transaction_index,LongType,true),StructField(block_hash,StringType,true),StructField(block_number,LongType,true),StructField(add...\n"
      ]
     },
     "execution_count": 28,
     "metadata": {},
     "output_type": "execute_result"
    }
   ],
   "source": [
    "import org.apache.spark.sql\n",
    "\n",
    "val receiptSchema = new sql.types.StructType()\n",
    "    .add(\"transaction_hash\",sql.types.StringType,true)\n",
    "    .add(\"transaction_index\",sql.types.LongType,true)\n",
    "    .add(\"block_hash\",sql.types.StringType,true)\n",
    "    .add(\"block_number\",sql.types.StringType,true)\n",
    "    .add(\"cumulative_gas_used\",sql.types.LongType,true)\n",
    "    .add(\"gas_used\",sql.types.LongType,true)\n",
    "    .add(\"contract_address\",sql.types.StringType,true)\n",
    "    .add(\"root\",sql.types.StringType,true)\n",
    "    .add(\"status\",sql.types.LongType,true)\n",
    "    .add(\"effective_gas_price\",sql.types.LongType,true)\n",
    "\n",
    "val logSchema = new sql.types.StructType()\n",
    "    .add(\"log_index\",sql.types.LongType,true)\n",
    "    .add(\"transaction_hash\",sql.types.StringType,true)\n",
    "    .add(\"transaction_index\",sql.types.LongType,true)\n",
    "    .add(\"block_hash\",sql.types.StringType,true)\n",
    "    .add(\"block_number\",sql.types.LongType,true)\n",
    "    .add(\"address\",sql.types.StringType,true)\n",
    "    .add(\"data\",sql.types.StringType,true)\n",
    "    .add(\"topics\",sql.types.StringType,true)\n",
    "\n",
    "val startBlock = \"00000000\"\n",
    "val endBlock = \"00005999\"\n",
    "\n",
    "val receiptDf = spark.read.format(\"csv\")\n",
    "      .option(\"header\", \"true\")\n",
    "      .schema(receiptSchema)\n",
    "      .load(\"/home/iceberg/warehouse/receipts/start_block=\" + startBlock + \n",
    "            \"/end_block=\" + endBlock + \n",
    "            \"/receipts_\" + startBlock + \"_\" + endBlock+ \".csv\")\n",
    "\n",
    "val logDf = spark.read.format(\"csv\")\n",
    "      .option(\"header\", \"true\")\n",
    "      .schema(logSchema)\n",
    "      .load(\"/home/iceberg/warehouse/logs/start_block=\" + startBlock + \n",
    "            \"/end_block=\" + endBlock + \n",
    "            \"/logs_\" + startBlock + \"_\" + endBlock+ \".csv\")\n",
    "\n",
    "val mergeDf = receiptDf.select(\"contract_address\").distinct().union(\n",
    "    logDf.select(col(\"address\").alias(\"contract_address\")).distinct()\n",
    ")\n",
    "mergeDf.filter(mergeDf(\"contract_address\").isNotNull).show()\n",
    "\n",
    "\n",
    "mergeDf.write.option(\"header\", true)\n",
    " .csv(\"/home/iceberg/warehouse/contracts/start_block=\" + startBlock + \n",
    "            \"_end_block=\" + endBlock)"
   ]
  },
  {
   "cell_type": "code",
   "execution_count": null,
   "id": "e8e44ec1",
   "metadata": {},
   "outputs": [],
   "source": []
  }
 ],
 "metadata": {
  "kernelspec": {
   "display_name": "spylon-kernel",
   "language": "scala",
   "name": "spylon-kernel"
  },
  "language_info": {
   "codemirror_mode": "text/x-scala",
   "file_extension": ".scala",
   "help_links": [
    {
     "text": "MetaKernel Magics",
     "url": "https://metakernel.readthedocs.io/en/latest/source/README.html"
    }
   ],
   "mimetype": "text/x-scala",
   "name": "scala",
   "pygments_lexer": "scala",
   "version": "0.4.1"
  }
 },
 "nbformat": 4,
 "nbformat_minor": 5
}
