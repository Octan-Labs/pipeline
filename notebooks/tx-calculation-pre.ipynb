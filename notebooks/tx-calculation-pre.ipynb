{
 "cells": [
  {
   "cell_type": "code",
   "execution_count": 1,
   "id": "f73f4f88",
   "metadata": {},
   "outputs": [],
   "source": [
    "from pyspark.sql.types import StructType, StructField, StringType, LongType, DecimalType, DoubleType\n",
    "from pyspark.sql import SparkSession"
   ]
  },
  {
   "cell_type": "code",
   "execution_count": 2,
   "id": "253ee044",
   "metadata": {},
   "outputs": [],
   "source": [
    "spark = SparkSession \\\n",
    "    .builder \\\n",
    "    .config(\"fs.s3a.access.key\", \"Q3AM3UQ867SPQQA43P2F\") \\\n",
    "    .config(\"fs.s3a.secret.key\", \"zuf+tfteSlswRu7BJ86wekitnifILbZam1KYY3TG\") \\\n",
    "    .config(\"fs.s3a.endpoint\", \"https://play.min.io:9000\") \\\n",
    "    .appName(\"VolumeCalculation\") \\\n",
    "    .getOrCreate()\n",
    "\n",
    "sc = spark.sparkContext\n",
    "\n",
    "sc._jsc.hadoopConfiguration().set(\"fs.s3a.connection.ssl.enabled\", \"true\")\n",
    "sc._jsc.hadoopConfiguration().set(\"fs.s3a.path.style.access\", \"true\")\n",
    "sc._jsc.hadoopConfiguration().set(\"fs.s3a.attempts.maximum\", \"1\")\n",
    "sc._jsc.hadoopConfiguration().set(\"fs.s3a.connection.establish.timeout\", \"5000\")\n",
    "sc._jsc.hadoopConfiguration().set(\"fs.s3a.connection.timeout\", \"10000\")"
   ]
  },
  {
   "cell_type": "code",
   "execution_count": null,
   "id": "69e3b5f3",
   "metadata": {},
   "outputs": [],
   "source": []
  },
  {
   "cell_type": "code",
   "execution_count": 4,
   "id": "cdf9f396",
   "metadata": {},
   "outputs": [],
   "source": [
    "token_transfers_schema = StructType([ \\\n",
    "    StructField(\"token_address\", StringType(), True), \\\n",
    "    StructField(\"from_address\", StringType(), True), \\\n",
    "    StructField(\"to_address\", StringType(), True), \\\n",
    "    StructField(\"value\", DecimalType(38, 0), True), \\\n",
    "    StructField(\"transaction_hash\", StringType(), True), \\\n",
    "    StructField(\"log_index\", LongType(), True), \\\n",
    "    StructField(\"block_number\", LongType(), True) \\\n",
    "  ])"
   ]
  },
  {
   "cell_type": "code",
   "execution_count": 5,
   "id": "2dd5366f",
   "metadata": {},
   "outputs": [],
   "source": [
    "transactions_schema = StructType([ \\\n",
    "    StructField(\"hash\", StringType(), True), \\\n",
    "    StructField(\"nonce\", LongType(), True), \\\n",
    "    StructField(\"block_hash\", StringType(), True), \\\n",
    "    StructField(\"block_number\", LongType(), True), \\\n",
    "    StructField(\"transaction_index\", LongType(), True), \\\n",
    "    StructField(\"from_address\", StringType(), True), \\\n",
    "    StructField(\"to_address\", StringType(), True), \\\n",
    "    StructField(\"value\", DecimalType(38, 0), True), \\\n",
    "    StructField(\"gas\", LongType(), True), \\\n",
    "    StructField(\"gas_price\", LongType(), True), \\\n",
    "    StructField(\"input\", StringType(), True), \\\n",
    "    StructField(\"block_timestamp\", LongType(), True), \\\n",
    "    StructField(\"max_fee_per_gas\", LongType(), True), \\\n",
    "    StructField(\"max_priority_fee_per_gas\", LongType(), True), \\\n",
    "    StructField(\"transaction_type\", LongType(), True) \\\n",
    "  ])"
   ]
  },
  {
   "cell_type": "code",
   "execution_count": 6,
   "id": "85ee5d4f",
   "metadata": {},
   "outputs": [],
   "source": [
    "receipts_schema = StructType([ \\\n",
    "    StructField(\"transaction_hash\", StringType(), True), \\\n",
    "    StructField(\"transaction_index\", LongType(), True), \\\n",
    "    StructField(\"block_hash\", StringType(), True), \\\n",
    "    StructField(\"block_number\", LongType(), True), \\\n",
    "    StructField(\"cumulative_gas_used\", LongType(), True), \\\n",
    "    StructField(\"gas_used\", LongType(), True), \\\n",
    "    StructField(\"contract_address\", StringType(), True), \\\n",
    "    StructField(\"root\", StringType(), True), \\\n",
    "    StructField(\"status\", LongType(), True), \\\n",
    "    StructField(\"effective_gas_price\", LongType(), True) \\\n",
    "  ])"
   ]
  },
  {
   "cell_type": "code",
   "execution_count": 7,
   "id": "a45e45fd",
   "metadata": {},
   "outputs": [],
   "source": [
    "tokens_schema = StructType([ \\\n",
    "    StructField(\"address\", StringType(), True), \\\n",
    "    StructField(\"symbol\", StringType(), True), \\\n",
    "    StructField(\"name\", StringType(), True), \\\n",
    "    StructField(\"decimals\", LongType(), True), \\\n",
    "    StructField(\"total_supply\", LongType(), True), \\\n",
    "    StructField(\"block_number\", LongType(), True), \\\n",
    "  ])"
   ]
  },
  {
   "cell_type": "code",
   "execution_count": 8,
   "id": "609aa203",
   "metadata": {},
   "outputs": [],
   "source": [
    "cmc_historical_schema = StructType([ \\\n",
    "    StructField(\"id\", LongType(), True), \\\n",
    "    StructField(\"rank\", LongType(), True), \\\n",
    "    StructField(\"name\", StringType(), True), \\\n",
    "    StructField(\"symbol\", StringType(), True), \\\n",
    "    StructField(\"open\", DoubleType(), True), \\\n",
    "    StructField(\"high\", DoubleType(), True), \\\n",
    "    StructField(\"low\", DoubleType(), True), \\\n",
    "    StructField(\"close\", DoubleType(), True), \\\n",
    "    StructField(\"volume\", DoubleType(), True), \\\n",
    "    StructField(\"marketCap\", DoubleType(), True), \\\n",
    "    StructField(\"timestamp\", LongType(), True), \\\n",
    "    StructField(\"address\", StringType(), True), \\\n",
    "  ])"
   ]
  },
  {
   "cell_type": "code",
   "execution_count": 9,
   "id": "480b181a",
   "metadata": {},
   "outputs": [],
   "source": [
    "cmc_address_schema = StructType([ \\\n",
    "    StructField(\"rank\", LongType(), True), \\\n",
    "    StructField(\"bsc\", StringType(), True), \\\n",
    "    StructField(\"eth\", StringType(), True), \\\n",
    "    StructField(\"polygon\", StringType(), True), \\\n",
    "  ])"
   ]
  },
  {
   "cell_type": "code",
   "execution_count": null,
   "id": "7e65627d",
   "metadata": {},
   "outputs": [],
   "source": []
  },
  {
   "cell_type": "code",
   "execution_count": 9,
   "id": "1f39c5dc",
   "metadata": {},
   "outputs": [
    {
     "data": {
      "application/vnd.jupyter.widget-view+json": {
       "model_id": "",
       "version_major": 2,
       "version_minor": 0
      },
      "text/plain": [
       "FloatProgress(value=0.0, bar_style='info', description='Progress:', layout=Layout(height='25px', width='50%'),…"
      ]
     },
     "metadata": {},
     "output_type": "display_data"
    }
   ],
   "source": [
    "base_path = \"s3a:///bsc-spark-test\""
   ]
  },
  {
   "cell_type": "code",
   "execution_count": 10,
   "id": "bc765d02",
   "metadata": {},
   "outputs": [],
   "source": []
  },
  {
   "cell_type": "code",
   "execution_count": 11,
   "id": "57442cfe",
   "metadata": {},
   "outputs": [],
   "source": [
    "token_transfers_df = spark.read.format(\"csv\") \\\n",
    "    .option(\"header\", True) \\\n",
    "    .schema(token_transfers_schema) \\\n",
    "    .load(base_path + \"/token_transfers/*/*/*.csv\")"
   ]
  },
  {
   "cell_type": "code",
   "execution_count": 12,
   "id": "a9d94c23",
   "metadata": {},
   "outputs": [],
   "source": [
    "transactions_df = spark.read.format(\"csv\") \\\n",
    "    .option(\"header\", True) \\\n",
    "    .schema(transactions_schema) \\\n",
    "    .load(base_path + \"/transactions/*/*/*.csv\")"
   ]
  },
  {
   "cell_type": "code",
   "execution_count": 13,
   "id": "c115889e",
   "metadata": {},
   "outputs": [],
   "source": [
    "receipts_df = spark.read.format(\"csv\") \\\n",
    "    .option(\"header\", True) \\\n",
    "    .schema(receipts_schema) \\\n",
    "    .load(base_path + \"/receipts/*/*/*.csv\")"
   ]
  },
  {
   "cell_type": "code",
   "execution_count": 14,
   "id": "2e8e6de5",
   "metadata": {},
   "outputs": [],
   "source": [
    "tokens_df = spark.read.format(\"csv\") \\\n",
    "    .option(\"header\", True) \\\n",
    "    .schema(tokens_schema) \\\n",
    "    .load(base_path + \"/tokens/*.csv\")"
   ]
  },
  {
   "cell_type": "code",
   "execution_count": 15,
   "id": "3bc6f03d",
   "metadata": {},
   "outputs": [],
   "source": [
    "cmc_historicals_df = spark.read.format(\"csv\") \\\n",
    "    .option(\"header\", True) \\\n",
    "    .schema(cmc_historical_schema) \\\n",
    "    .load(base_path + \"/cmc_historicals/*.csv\")"
   ]
  },
  {
   "cell_type": "code",
   "execution_count": 16,
   "id": "1daf2b91",
   "metadata": {},
   "outputs": [],
   "source": [
    "cmc_addresses_df = spark.read.format(\"csv\") \\\n",
    "    .option(\"header\", True) \\\n",
    "    .schema(cmc_address_schema) \\\n",
    "    .load(base_path + \"/cmc_addresses/*.csv\")"
   ]
  },
  {
   "cell_type": "code",
   "execution_count": null,
   "id": "7749c252",
   "metadata": {},
   "outputs": [],
   "source": []
  },
  {
   "cell_type": "code",
   "execution_count": 17,
   "id": "33d2e14e",
   "metadata": {},
   "outputs": [],
   "source": [
    "from pyspark.sql.functions import col"
   ]
  },
  {
   "cell_type": "code",
   "execution_count": 18,
   "id": "44c8925e",
   "metadata": {},
   "outputs": [],
   "source": [
    "transactions_df = transactions_df.drop(col(\"input\"))"
   ]
  },
  {
   "cell_type": "code",
   "execution_count": null,
   "id": "b73eadf0",
   "metadata": {},
   "outputs": [],
   "source": []
  },
  {
   "cell_type": "code",
   "execution_count": 19,
   "id": "0d454e12",
   "metadata": {},
   "outputs": [],
   "source": [
    "token_transfers_df.createOrReplaceTempView(\"token_transfers\")\n",
    "transactions_df.createOrReplaceTempView(\"transactions\")\n",
    "receipts_df.createOrReplaceTempView(\"receipts\")\n",
    "tokens_df.createOrReplaceTempView(\"tokens\")\n",
    "cmc_historicals_df.createOrReplaceTempView(\"cmc_historicals\")\n",
    "cmc_addresses_df.createOrReplaceTempView(\"cmc_addresses\")"
   ]
  },
  {
   "cell_type": "code",
   "execution_count": null,
   "id": "7fe87a8b",
   "metadata": {},
   "outputs": [],
   "source": []
  },
  {
   "cell_type": "code",
   "execution_count": 53,
   "id": "be4971ed",
   "metadata": {},
   "outputs": [
    {
     "data": {
      "text/plain": [
       "0.06949162483215332"
      ]
     },
     "execution_count": 53,
     "metadata": {},
     "output_type": "execute_result"
    }
   ],
   "source": [
    "# change ETH, eth if other networks\n",
    "\n",
    "import time\n",
    "\n",
    "start_time = time.time()\n",
    "\n",
    "result_df = spark.sql(\"\"\"\n",
    "SELECT \n",
    "    nt.block_number,\n",
    "    nt.from_address,\n",
    "    nt.to_address,\n",
    "    nt.value,\n",
    "    null as token_transfer,\n",
    "    null as token_contract,\n",
    "    ((nt.value / POWER(10, 18)) * cmc_h.open) AS volume,\n",
    "    (r.gas_used * nt.gas_price) / POWER(10,18) as gas_spent,\n",
    "    ((r.gas_used * nt.gas_price) / POWER(10,18)) * cmc_h.open as gas_spent_usd\n",
    "FROM (\n",
    "    SELECT tx.block_number,\n",
    "          tx.from_address,\n",
    "          tx.to_address,\n",
    "          tx.gas,\n",
    "          tx.gas_price,\n",
    "          tx.value,\n",
    "          tx.hash,\n",
    "          tx.block_timestamp\n",
    "    FROM transactions tx\n",
    "    WHERE tx.value > 0\n",
    ") nt\n",
    "LEFT JOIN receipts r ON nt.hash = r.transaction_hash\n",
    "CROSS JOIN cmc_addresses cmc_addr\n",
    "LEFT JOIN cmc_historicals cmc_h ON cmc_addr.rank = cmc_h.rank\n",
    "WHERE nt.block_timestamp < cmc_h.timestamp AND nt.block_timestamp >  cmc_h.timestamp - 86400 \n",
    "    AND cmc_h.symbol = 'ETH'\n",
    "UNION ALL\n",
    "SELECT \n",
    "    tt.block_number,\n",
    "    tt.from_address,\n",
    "    tt.to_address,\n",
    "    null as value,\n",
    "    tt.value as token_transfer,\n",
    "    tt.token_address,\n",
    "    ((tt.value / POWER(10, t.decimals)) * cmc_h.open) AS volume,\n",
    "    (r.gas_used * t.gas_price) / POWER(10,18) as gas_spent,\n",
    "    ((r.gas_used * t.gas_price) / POWER(10,18)) * native_cmc_h.open as gas_spent_usd\n",
    "FROM token_transfers tt\n",
    "    LEFT JOIN transactions t ON tt.transaction_hash = t.hash\n",
    "    LEFT JOIN receipts r ON tt.transaction_hash = r.transaction_hash\n",
    "    LEFT JOIN tokens t ON LOWER(tt.token_address) = LOWER(t.address)\n",
    "    LEFT JOIN (SELECT eth, rank FROM cmc_addresses GROUP BY eth, rank LIMIT 1) cmc_addr \n",
    "        ON tt.token_address = cmc_addr.eth\n",
    "    LEFT JOIN cmc_historicals cmc_h \n",
    "        ON (\n",
    "            cmc_addr.rank = cmc_h.rank AND \n",
    "            t.block_timestamp < cmc_h.timestamp AND \n",
    "            t.block_timestamp >  cmc_h.timestamp - 8640\n",
    "        )\n",
    "    LEFT JOIN (\n",
    "        SELECT * FROM cmc_addresses\n",
    "        LEFT JOIN cmc_historicals ON cmc_addresses.rank = cmc_historicals.rank\n",
    "        ) native_cmc_h \n",
    "            ON native_cmc_h.symbol = 'ETH'\n",
    "                AND t.block_timestamp < native_cmc_h.timestamp \n",
    "                AND t.block_timestamp >  native_cmc_h.timestamp - 86400\n",
    "\"\"\").withColumn('volume', col('volume').cast(DecimalType(38, 10))) \\\n",
    "    .withColumn('gas_spent', col('gas_spent').cast(DecimalType(38, 10))) \\\n",
    "    .withColumn('gas_spent_usd', col('gas_spent_usd').cast(DecimalType(38, 10))) \n",
    "\n",
    "\n",
    "time.time() - start_time"
   ]
  },
  {
   "cell_type": "code",
   "execution_count": null,
   "id": "4e951e49",
   "metadata": {},
   "outputs": [],
   "source": []
  },
  {
   "cell_type": "code",
   "execution_count": 54,
   "id": "e3b43776",
   "metadata": {},
   "outputs": [
    {
     "name": "stdout",
     "output_type": "stream",
     "text": [
      "+------------+------------------------------------------+------------------------------------------+-------------------+--------------+--------------+---------------+------------+-------------+\n",
      "|block_number|from_address                              |to_address                                |value              |token_transfer|token_contract|volume         |gas_spent   |gas_spent_usd|\n",
      "+------------+------------------------------------------+------------------------------------------+-------------------+--------------+--------------+---------------+------------+-------------+\n",
      "|28600000    |0xdccf3b77da55107280bd850ea519df3705d1a75a|0x56b438417b7ee788ae65abd5e87245194531017d|109500000000000000 |null          |null          |200.5053026593 |0.0001260000|0.2307184305 |\n",
      "|28600000    |0xa180fe01b906a1be37be6c534a3300785b20d947|0x96e7bc5f932bd407196e7a97f28e7f6a9fde772e|172370250000000000 |null          |null          |315.6269328375 |0.0001260000|0.2307184305 |\n",
      "|28600000    |0xa95b83af96d0b8a90bd507f2bd82ad8f3dbb86bc|0x7271e410712bd60d78bc56453e8065f99cf430df|4500000000000000   |null          |null          |8.2399439449   |0.0001050000|0.1922653587 |\n",
      "|28600000    |0xa95b83af96d0b8a90bd507f2bd82ad8f3dbb86bc|0x7425cdea16736602a911f6b09ed6c939d6a3a304|4500000000000000   |null          |null          |8.2399439449   |0.0001050000|0.1922653587 |\n",
      "|28600000    |0x753756776420d182336417142958bf0a26367fd3|0xae095ea9ed5e2ee7d0d72c7e982a5c75bdcc2019|3000000000000000   |null          |null          |5.4932959633   |0.0001050000|0.1922653587 |\n",
      "|28600000    |0xe3d89cded7cff330d5dbc2ddc9595fcc4735d3f3|0x18b2a687610328590bc8f2e5fedde3b582a49cda|3200000000000000000|null          |null          |5859.5156941530|0.0004657200|0.8527792653 |\n",
      "|28600000    |0xa95b83af96d0b8a90bd507f2bd82ad8f3dbb86bc|0xaef933864a6a43c24683fdffba60dec72c7ba77b|4500000000000000   |null          |null          |8.2399439449   |0.0001050000|0.1922653587 |\n",
      "|28600000    |0xa95b83af96d0b8a90bd507f2bd82ad8f3dbb86bc|0xf0fdffb96556df5bb4e82dc1cb18f8b340bcd3f6|4500000000000000   |null          |null          |8.2399439449   |0.0001050000|0.1922653587 |\n",
      "|28600000    |0xa95b83af96d0b8a90bd507f2bd82ad8f3dbb86bc|0x97fe9eb222aa7dd24be0eaf4726251e2f79b3bc3|4500000000000000   |null          |null          |8.2399439449   |0.0001050000|0.1922653587 |\n",
      "|28600000    |0xa95b83af96d0b8a90bd507f2bd82ad8f3dbb86bc|0x313ccba2a13be180b167fa8f2c702e9a0e99a9d7|4500000000000000   |null          |null          |8.2399439449   |0.0001050000|0.1922653587 |\n",
      "+------------+------------------------------------------+------------------------------------------+-------------------+--------------+--------------+---------------+------------+-------------+\n",
      "only showing top 10 rows\n",
      "\n"
     ]
    }
   ],
   "source": [
    "result_df.show(10, False)"
   ]
  },
  {
   "cell_type": "code",
   "execution_count": 55,
   "id": "28ed4b20",
   "metadata": {},
   "outputs": [
    {
     "name": "stderr",
     "output_type": "stream",
     "text": [
      "                                                                                \r"
     ]
    },
    {
     "data": {
      "text/plain": [
       "241877"
      ]
     },
     "execution_count": 55,
     "metadata": {},
     "output_type": "execute_result"
    }
   ],
   "source": [
    "result_df.count()"
   ]
  },
  {
   "cell_type": "code",
   "execution_count": null,
   "id": "953654f7",
   "metadata": {},
   "outputs": [],
   "source": []
  },
  {
   "cell_type": "code",
   "execution_count": 22,
   "id": "564d4223",
   "metadata": {},
   "outputs": [
    {
     "data": {
      "application/vnd.jupyter.widget-view+json": {
       "model_id": "",
       "version_major": 2,
       "version_minor": 0
      },
      "text/plain": [
       "FloatProgress(value=0.0, bar_style='info', description='Progress:', layout=Layout(height='25px', width='50%'),…"
      ]
     },
     "metadata": {},
     "output_type": "display_data"
    },
    {
     "name": "stdout",
     "output_type": "stream",
     "text": [
      "2691.6926729679108"
     ]
    }
   ],
   "source": [
    "import math\n",
    "\n",
    "start_time = time.time()\n",
    "\n",
    "result_df.repartition(1) \\\n",
    "    .write \\\n",
    "    .option(\"header\",True) \\\n",
    "    .csv(base_path + \"/pre_txns_\" + str(math.floor(start_time)))\n",
    "\n",
    "time.time() - start_time\n"
   ]
  }
 ],
 "metadata": {
  "kernelspec": {
   "display_name": "Python 3 (ipykernel)",
   "language": "python",
   "name": "python3"
  },
  "language_info": {
   "codemirror_mode": {
    "name": "ipython",
    "version": 3
   },
   "file_extension": ".py",
   "mimetype": "text/x-python",
   "name": "python",
   "nbconvert_exporter": "python",
   "pygments_lexer": "ipython3",
   "version": "3.9.16"
  }
 },
 "nbformat": 4,
 "nbformat_minor": 5
}
