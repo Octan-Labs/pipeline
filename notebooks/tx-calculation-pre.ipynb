{
 "cells": [
  {
   "cell_type": "code",
   "execution_count": 1,
   "id": "f73f4f88",
   "metadata": {},
   "outputs": [],
   "source": [
    "from pyspark.sql.types import StructType, StructField, StringType, LongType, DecimalType, DoubleType\n",
    "from pyspark.sql import SparkSession"
   ]
  },
  {
   "cell_type": "code",
   "execution_count": 2,
   "id": "253ee044",
   "metadata": {},
   "outputs": [
    {
     "name": "stdout",
     "output_type": "stream",
     "text": [
      "23/07/11 08:34:54 WARN SparkSession: Using an existing Spark session; only runtime SQL configurations will take effect.\n"
     ]
    }
   ],
   "source": [
    "spark = SparkSession \\\n",
    "    .builder \\\n",
    "    .appName(\"Preprocessdata\") \\\n",
    "    .getOrCreate()"
   ]
  },
  {
   "cell_type": "code",
   "execution_count": null,
   "id": "990cdacf",
   "metadata": {},
   "outputs": [],
   "source": []
  },
  {
   "cell_type": "code",
   "execution_count": 3,
   "id": "44a19283",
   "metadata": {},
   "outputs": [],
   "source": [
    "tokens_schema = StructType([ \\\n",
    "    StructField(\"address\", StringType(), True), \\\n",
    "    StructField(\"symbol\", StringType(), True), \\\n",
    "    StructField(\"name\", StringType(), True), \\\n",
    "    StructField(\"decimals\", LongType(), True), \\\n",
    "    StructField(\"total_supply\", LongType(), True), \\\n",
    "    StructField(\"block_number\", LongType(), True), \\\n",
    "  ])"
   ]
  },
  {
   "cell_type": "code",
   "execution_count": 4,
   "id": "7e65627d",
   "metadata": {},
   "outputs": [],
   "source": [
    "cmc_historical_schema = StructType([ \\\n",
    "    StructField(\"id\", LongType(), True), \\\n",
    "    StructField(\"rank\", LongType(), True), \\\n",
    "    StructField(\"name\", StringType(), True), \\\n",
    "    StructField(\"symbol\", StringType(), True), \\\n",
    "    StructField(\"open\", DoubleType(), True), \\\n",
    "    StructField(\"high\", DoubleType(), True), \\\n",
    "    StructField(\"low\", DoubleType(), True), \\\n",
    "    StructField(\"close\", DoubleType(), True), \\\n",
    "    StructField(\"volume\", DoubleType(), True), \\\n",
    "    StructField(\"marketCap\", DoubleType(), True), \\\n",
    "    StructField(\"timestamp\", LongType(), True), \\\n",
    "  ])"
   ]
  },
  {
   "cell_type": "code",
   "execution_count": 5,
   "id": "b173992b",
   "metadata": {},
   "outputs": [],
   "source": [
    "cmc_address_schema = StructType([ \\\n",
    "    StructField(\"rank\", LongType(), True), \\\n",
    "    StructField(\"bsc\", StringType(), True), \\\n",
    "    StructField(\"eth\", StringType(), True), \\\n",
    "    StructField(\"polygon\", StringType(), True), \\\n",
    "  ])"
   ]
  },
  {
   "cell_type": "code",
   "execution_count": null,
   "id": "53107dc9",
   "metadata": {},
   "outputs": [],
   "source": []
  },
  {
   "cell_type": "code",
   "execution_count": 6,
   "id": "1f39c5dc",
   "metadata": {},
   "outputs": [],
   "source": [
    "# base_path = \"s3a://octan-labs-bsc/export-by-date\""
   ]
  },
  {
   "cell_type": "code",
   "execution_count": 7,
   "id": "bc765d02",
   "metadata": {},
   "outputs": [],
   "source": [
    "base_path = \".\""
   ]
  },
  {
   "cell_type": "code",
   "execution_count": 8,
   "id": "b3932666",
   "metadata": {},
   "outputs": [],
   "source": [
    "date = \"2023-06-06\""
   ]
  },
  {
   "cell_type": "code",
   "execution_count": null,
   "id": "d2674c8b",
   "metadata": {},
   "outputs": [],
   "source": []
  },
  {
   "cell_type": "code",
   "execution_count": 9,
   "id": "57442cfe",
   "metadata": {},
   "outputs": [],
   "source": [
    "token_transfers_df = spark.read.format(\"parquet\") \\\n",
    "    .load(\"{base_path}/token_transfers/date={date}/*/*.parquet\".format(base_path = base_path, date = date))"
   ]
  },
  {
   "cell_type": "code",
   "execution_count": 10,
   "id": "a9d94c23",
   "metadata": {},
   "outputs": [],
   "source": [
    "transactions_df = spark.read.format(\"parquet\") \\\n",
    "    .load(\"{base_path}/transactions/date={date}/*/*.parquet\".format(base_path = base_path, date = date))"
   ]
  },
  {
   "cell_type": "code",
   "execution_count": 11,
   "id": "2e8e6de5",
   "metadata": {},
   "outputs": [],
   "source": [
    "tokens_df = spark.read.format(\"csv\") \\\n",
    "    .option(\"header\", True) \\\n",
    "    .schema(tokens_schema) \\\n",
    "    .load(\"{base_path}/tokens/*.csv\".format(base_path = base_path))"
   ]
  },
  {
   "cell_type": "code",
   "execution_count": 12,
   "id": "3bc6f03d",
   "metadata": {},
   "outputs": [],
   "source": [
    "# cmc_historicals_df = spark.read.format(\"csv\") \\\n",
    "#     .option(\"header\", True) \\\n",
    "#     .schema(cmc_historical_schema) \\\n",
    "#     .load(\"s3a://octan-labs-bsc/cmc_historicals/*.csv\")"
   ]
  },
  {
   "cell_type": "code",
   "execution_count": 13,
   "id": "1daf2b91",
   "metadata": {},
   "outputs": [],
   "source": [
    "# cmc_addresses_df = spark.read.format(\"csv\") \\\n",
    "#     .option(\"header\", True) \\\n",
    "#     .schema(cmc_address_schema) \\\n",
    "#     .load(\"s3a://octan-labs-bsc/cmc_addresses/*.csv\")"
   ]
  },
  {
   "cell_type": "code",
   "execution_count": null,
   "id": "5d12adb9",
   "metadata": {},
   "outputs": [],
   "source": []
  },
  {
   "cell_type": "code",
   "execution_count": null,
   "id": "4fec34cc",
   "metadata": {},
   "outputs": [],
   "source": []
  },
  {
   "cell_type": "code",
   "execution_count": 14,
   "id": "48b38297",
   "metadata": {},
   "outputs": [],
   "source": [
    "cmc_historicals_df = spark.read.format(\"csv\") \\\n",
    "    .schema(cmc_historical_schema) \\\n",
    "    .load(\"./cmc_historicals/*.csv\")\n",
    "cmc_addresses_df = spark.read.format(\"csv\") \\\n",
    "    .option(\"header\", True) \\\n",
    "    .schema(cmc_address_schema) \\\n",
    "    .load(\"./cmc_addresses/*.csv\")"
   ]
  },
  {
   "cell_type": "code",
   "execution_count": null,
   "id": "14d99517",
   "metadata": {},
   "outputs": [],
   "source": []
  },
  {
   "cell_type": "code",
   "execution_count": 25,
   "id": "33d2e14e",
   "metadata": {},
   "outputs": [],
   "source": [
    "from pyspark.sql.functions import col, format_number"
   ]
  },
  {
   "cell_type": "code",
   "execution_count": 17,
   "id": "44c8925e",
   "metadata": {},
   "outputs": [],
   "source": [
    "transactions_df = transactions_df.drop(col(\"input\"))"
   ]
  },
  {
   "cell_type": "code",
   "execution_count": null,
   "id": "b73eadf0",
   "metadata": {},
   "outputs": [],
   "source": []
  },
  {
   "cell_type": "code",
   "execution_count": 18,
   "id": "0d454e12",
   "metadata": {},
   "outputs": [],
   "source": [
    "token_transfers_df.createOrReplaceTempView(\"token_transfers\")\n",
    "transactions_df.createOrReplaceTempView(\"transactions\")\n",
    "tokens_df.createOrReplaceTempView(\"tokens\")\n",
    "cmc_historicals_df.createOrReplaceTempView(\"cmc_historicals\")\n",
    "cmc_addresses_df.createOrReplaceTempView(\"cmc_addresses\")"
   ]
  },
  {
   "cell_type": "code",
   "execution_count": null,
   "id": "320c0021",
   "metadata": {},
   "outputs": [],
   "source": [
    "# change name, symbol foreach networks\n",
    "\n",
    "name = \n",
    "\n",
    "import time\n",
    "from pyspark.sql import functions as F\n",
    "\n",
    "\n",
    "start_time = time.time()\n",
    "\n",
    "result_df = spark.sql(\"\"\"\n",
    "SELECT \n",
    "    tx.block_number,\n",
    "    tx.from_address,\n",
    "    tx.to_address,\n",
    "    tx.gas,\n",
    "    tx.receipt_gas_used as gas_used,\n",
    "    tx.gas_price,\n",
    "    tx.value,\n",
    "    null as token_transfer,\n",
    "    null as token_contract,\n",
    "    CAST(((tx.value / POWER(10, 18)) * cmc_h.open) AS volume AS varchar),\n",
    "    (tx.receipt_gas_used * tx.gas_price) / POWER(10,18) as gas_spent,\n",
    "    ((tx.receipt_gas_used * tx.gas_price) / POWER(10,18)) * cmc_h.open as gas_spent_usd\n",
    "FROM transactions tx\n",
    "CROSS JOIN cmc_addresses cmc_addr\n",
    "LEFT JOIN cmc_historicals cmc_h \n",
    "    ON (\n",
    "         cmc_addr.rank = cmc_h.rank AND\n",
    "         tx.block_timestamp < timestamp(cmc_h.timestamp) AND \n",
    "         tx.block_timestamp >  timestamp(cmc_h.timestamp - 86400)\n",
    "    )\n",
    "WHERE cmc_h.symbol = '{symbol}'\n",
    "UNION ALL\n",
    "SELECT \n",
    "    tt.block_number,\n",
    "    tt.from_address,\n",
    "    tt.to_address,\n",
    "    tx.gas,\n",
    "    tx.receipt_gas_used as gas_used,\n",
    "    tx.gas_price,\n",
    "    null as value,\n",
    "    tt.value as token_transfer,\n",
    "    tt.token_address,\n",
    "    CAST(((tt.value / POWER(10, t.decimals)) * cmc_h.open) AS volume,\n",
    "    (tx.receipt_gas_used * tx.gas_price) / POWER(10,18) as gas_spent,\n",
    "    ((tx.receipt_gas_used * tx.gas_price) / POWER(10,18)) * native_cmc_h.open as gas_spent_usd\n",
    "FROM token_transfers tt\n",
    "LEFT JOIN transactions tx ON tt.transaction_hash = tx.hash\n",
    "LEFT JOIN tokens t ON LOWER(tt.token_address) = LOWER(t.address)\n",
    "LEFT JOIN (SELECT {name}, rank FROM cmc_addresses GROUP BY {name}, rank LIMIT 1) cmc_addr \n",
    "    ON tt.token_address = cmc_addr.{name}\n",
    "LEFT JOIN cmc_historicals cmc_h \n",
    "    ON (\n",
    "        cmc_addr.rank = cmc_h.rank AND \n",
    "        tx.block_timestamp < timestamp(cmc_h.timestamp) AND \n",
    "        tx.block_timestamp >  timestamp(cmc_h.timestamp - 86400)\n",
    "    )\n",
    "LEFT JOIN cmc_historicals native_cmc_h \n",
    "    ON (\n",
    "         native_cmc_h.symbol = '{symbol}' AND \n",
    "         tx.block_timestamp < timestamp(native_cmc_h.timestamp) AND \n",
    "         tx.block_timestamp >  timestamp(native_cmc_h.timestamp - 86400)\n",
    "    )\n",
    "\"\"\".format(name = \"bsc\", symbol = \"BNB\")) \\\n",
    "    .withColumn('volume', format_number('volume', 10)) \\\n",
    "    .withColumn('gas_spent', format_number('gas_spent', 10)) \\\n",
    "    .withColumn('gas_spent_usd', format_number('gas_spent_usd', 10)) \\\n",
    "\n",
    "\n",
    "time.time() - start_time"
   ]
  },
  {
   "cell_type": "code",
   "execution_count": null,
   "id": "a0e3b6a8",
   "metadata": {},
   "outputs": [],
   "source": []
  },
  {
   "cell_type": "code",
   "execution_count": 23,
   "id": "564d4223",
   "metadata": {},
   "outputs": [
    {
     "name": "stderr",
     "output_type": "stream",
     "text": [
      "                                                                                \r"
     ]
    },
    {
     "data": {
      "text/plain": [
       "5.434847831726074"
      ]
     },
     "execution_count": 23,
     "metadata": {},
     "output_type": "execute_result"
    }
   ],
   "source": [
    "start_time = time.time()\n",
    "\n",
    "result_df.repartition(1) \\\n",
    "    .write \\\n",
    "    .option(\"header\",True) \\\n",
    "    .csv(\"{base_path}/pre-tx/date={date}/\".format(base_path = base_path, date = date))\n",
    "\n",
    "time.time() - start_time"
   ]
  },
  {
   "cell_type": "code",
   "execution_count": null,
   "id": "94cd6141",
   "metadata": {},
   "outputs": [],
   "source": []
  },
  {
   "cell_type": "code",
   "execution_count": 24,
   "id": "7503624f",
   "metadata": {},
   "outputs": [],
   "source": [
    "spark.stop()"
   ]
  },
  {
   "cell_type": "code",
   "execution_count": null,
   "id": "3c0a2e08",
   "metadata": {},
   "outputs": [],
   "source": []
  }
 ],
 "metadata": {
  "kernelspec": {
   "display_name": "Python 3 (ipykernel)",
   "language": "python",
   "name": "python3"
  },
  "language_info": {
   "codemirror_mode": {
    "name": "ipython",
    "version": 3
   },
   "file_extension": ".py",
   "mimetype": "text/x-python",
   "name": "python",
   "nbconvert_exporter": "python",
   "pygments_lexer": "ipython3",
   "version": "3.9.16"
  }
 },
 "nbformat": 4,
 "nbformat_minor": 5
}
