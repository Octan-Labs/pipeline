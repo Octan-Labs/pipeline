{
 "cells": [
  {
   "cell_type": "code",
   "execution_count": 1,
   "id": "588e4542",
   "metadata": {},
   "outputs": [],
   "source": [
    "# import argparse, sys\n",
    "\n",
    "# parser=argparse.ArgumentParser()\n",
    "\n",
    "# parser.add_argument(\"-b\", \"--base_path\", help=\"S3 bucket base path\", required=True)\n",
    "# parser.add_argument(\"-s\", \"--start\", help=\"Start date to calculate\", required=True)\n",
    "# parser.add_argument(\"-e\", \"--end\", help=\"End date to calculate\", required=True)\n",
    "\n",
    "# args=parser.parse_args()\n",
    "\n",
    "# base_path = args.base_path\n",
    "# start = args.start\n",
    "# end = args.end"
   ]
  },
  {
   "cell_type": "code",
   "execution_count": 2,
   "id": "36aa74a3",
   "metadata": {},
   "outputs": [],
   "source": [
    "base_path = \".\"\n",
    "start = \"2023-07-24\"\n",
    "end = \"2023-07-24\""
   ]
  },
  {
   "cell_type": "code",
   "execution_count": 3,
   "id": "653ae5c1",
   "metadata": {},
   "outputs": [],
   "source": [
    "from datetime import datetime, timedelta\n",
    "\n",
    "def get_dates_in_range(start, end):\n",
    "    # Convert start and end strings to datetime objects\n",
    "    start_date = datetime.strptime(start, \"%Y-%m-%d\")\n",
    "    end_date = datetime.strptime(end, \"%Y-%m-%d\")\n",
    "\n",
    "    # Create a list to store the dates within the range\n",
    "    dates_list = []\n",
    "\n",
    "    # Loop through the dates and append them to the list\n",
    "    current_date = start_date\n",
    "    while current_date <= end_date:\n",
    "        dates_list.append(current_date.strftime(\"%Y-%m-%d\"))\n",
    "        current_date += timedelta(days=1)\n",
    "\n",
    "    return dates_list"
   ]
  },
  {
   "cell_type": "code",
   "execution_count": 4,
   "id": "9f3a1a3c",
   "metadata": {},
   "outputs": [],
   "source": [
    "dates = get_dates_in_range(start, end)\n",
    "\n",
    "num_of_date = len(dates)\n",
    "time_range = \"\"\n",
    "\n",
    "if(num_of_date == 1):\n",
    "    time_range = \"date\"\n",
    "elif(num_of_date < 7 or num_of_date == 7):\n",
    "    time_range = \"week\"\n",
    "else:\n",
    "    time_range = \"month\""
   ]
  },
  {
   "cell_type": "code",
   "execution_count": null,
   "id": "486ad24b",
   "metadata": {},
   "outputs": [],
   "source": []
  },
  {
   "cell_type": "code",
   "execution_count": 5,
   "id": "b406151f",
   "metadata": {},
   "outputs": [],
   "source": [
    "from pyspark.sql.types import StructType, StructField, StringType, LongType, DecimalType, DoubleType, TimestampType\n",
    "from pyspark.sql import SparkSession"
   ]
  },
  {
   "cell_type": "code",
   "execution_count": null,
   "id": "400c4b5f",
   "metadata": {},
   "outputs": [],
   "source": []
  },
  {
   "cell_type": "code",
   "execution_count": 6,
   "id": "95184970",
   "metadata": {},
   "outputs": [],
   "source": [
    "spark = SparkSession \\\n",
    "    .builder \\\n",
    "    .appName(\"UAW_Calculation\") \\\n",
    "    .getOrCreate()"
   ]
  },
  {
   "cell_type": "code",
   "execution_count": null,
   "id": "4f18644e",
   "metadata": {},
   "outputs": [],
   "source": []
  },
  {
   "cell_type": "code",
   "execution_count": 7,
   "id": "f5535806",
   "metadata": {},
   "outputs": [],
   "source": [
    "contracts_schema = StructType([ \\\n",
    "    StructField(\"address\", StringType(), True), \\\n",
    "    StructField(\"bytecode\", StringType(), True), \\\n",
    "    StructField(\"function_sighashes\", StringType(), True), \\\n",
    "    StructField(\"is_erc20\", StringType(), True), \\\n",
    "    StructField(\"is_erc721\", StringType(), True), \\\n",
    "    StructField(\"block_number\", DecimalType(38, 0), True), \\\n",
    "    StructField(\"block_timestamp\", TimestampType(), True), \\\n",
    "    StructField(\"block_hash\", StringType(), True), \\\n",
    "  ])"
   ]
  },
  {
   "cell_type": "code",
   "execution_count": null,
   "id": "1458fb7b",
   "metadata": {},
   "outputs": [],
   "source": []
  },
  {
   "cell_type": "code",
   "execution_count": 8,
   "id": "06cb75b9",
   "metadata": {},
   "outputs": [],
   "source": [
    "spark.sql(\"set spark.sql.files.ignoreCorruptFiles=true\")"
   ]
  },
  {
   "cell_type": "code",
   "execution_count": 9,
   "id": "718fb5c4",
   "metadata": {},
   "outputs": [],
   "source": [
    "pre_tx_df = spark.read.format(\"csv\") \\\n",
    "    .option(\"header\", True) \\\n",
    "    .load(\n",
    "        \"{base_path}/pre_tx/{time_range}/start={start}_end={end}/\" \\\n",
    "            .format(\n",
    "                base_path = base_path, \\\n",
    "                time_range = time_range, \\\n",
    "                start = start, \\\n",
    "                end = end \\\n",
    "            ) \\\n",
    "    )"
   ]
  },
  {
   "cell_type": "code",
   "execution_count": 10,
   "id": "9cb10722",
   "metadata": {},
   "outputs": [],
   "source": [
    "contract_df = spark.read.format(\"parquet\") \\\n",
    "    .schema(contracts_schema) \\\n",
    "    .load(\"{base_path}/contracts/*/*.parquet\".format(base_path = base_path))"
   ]
  },
  {
   "cell_type": "code",
   "execution_count": null,
   "id": "208411ec",
   "metadata": {},
   "outputs": [],
   "source": []
  },
  {
   "cell_type": "code",
   "execution_count": 11,
   "id": "e67730f7",
   "metadata": {},
   "outputs": [],
   "source": [
    "from pyspark.sql.functions import lit, col\n",
    "import time\n",
    "\n",
    "# add \"True col to contract df\"\n",
    "contract_df = contract_df.withColumnRenamed('address', 'from_address') \\\n",
    "    .withColumn(\"check\", lit(True)) "
   ]
  },
  {
   "cell_type": "code",
   "execution_count": null,
   "id": "bde04b94",
   "metadata": {},
   "outputs": [],
   "source": []
  },
  {
   "cell_type": "code",
   "execution_count": 12,
   "id": "3e61c551",
   "metadata": {},
   "outputs": [],
   "source": [
    "start_time = time.time()\n",
    "\n",
    "uaw_result_df = pre_tx_df \\\n",
    "    .sort('to_address') \\\n",
    "    .select('from_address', 'to_address') \\\n",
    "    .filter(col(\"from_address\") != '0x0000000000000000000000000000000000000000') \\\n",
    "    .filter(col(\"from_address\") != '0x000000000000000000000000000000000000dead') \\\n",
    "    .filter(col(\"to_address\") != '0x0000000000000000000000000000000000000000') \\\n",
    "    .filter(col(\"to_address\") != '0x000000000000000000000000000000000000dead') \\\n",
    "    .distinct() \\\n",
    "    .join(contract_df,on='from_address',how='left') \\\n",
    "    .filter(\"check is null\") \\\n",
    "    .sort(\"to_address\") \\\n",
    "    .groupBy(\"to_address\") \\\n",
    "    .count() \\\n",
    "    .withColumnRenamed('to_address', 'Address') \\\n",
    "    .withColumnRenamed('count', 'UAW') \n",
    "\n",
    "time.time() - start_time"
   ]
  },
  {
   "cell_type": "code",
   "execution_count": null,
   "id": "91550af8",
   "metadata": {},
   "outputs": [],
   "source": []
  },
  {
   "cell_type": "code",
   "execution_count": 13,
   "id": "fcd12432",
   "metadata": {},
   "outputs": [],
   "source": [
    "# result_df.show(10, False)"
   ]
  },
  {
   "cell_type": "code",
   "execution_count": null,
   "id": "aa00c276",
   "metadata": {},
   "outputs": [],
   "source": []
  },
  {
   "cell_type": "code",
   "execution_count": 14,
   "id": "baef2820",
   "metadata": {},
   "outputs": [],
   "source": [
    "# start_time = time.time()\n",
    "\n",
    "# uw_result_df = pre_tx_df \\\n",
    "#     .sort('to_address') \\\n",
    "#     .select('from_address', 'to_address') \\\n",
    "#     .filter(col(\"from_address\") != '0x0000000000000000000000000000000000000000') \\\n",
    "#     .filter(col(\"from_address\") != '0x000000000000000000000000000000000000dead') \\\n",
    "#     .filter(col(\"to_address\") != '0x0000000000000000000000000000000000000000') \\\n",
    "#     .filter(col(\"to_address\") != '0x000000000000000000000000000000000000dead') \\\n",
    "#     .distinct() \\\n",
    "#     .join(contract_df,on='from_address',how='left') \\\n",
    "#     .filter(\"check is null\") \\\n",
    "#     .sort(\"to_address\") \\\n",
    "#     .groupBy(\"to_address\") \\\n",
    "#     .count() \\\n",
    "#     .withColumnRenamed('to_address', 'Address') \\\n",
    "#     .withColumnRenamed('count', 'UAW') \n",
    "\n",
    "# time.time() - start_time"
   ]
  },
  {
   "cell_type": "code",
   "execution_count": null,
   "id": "0141184c",
   "metadata": {},
   "outputs": [],
   "source": []
  },
  {
   "cell_type": "code",
   "execution_count": 15,
   "id": "5e9b3568",
   "metadata": {},
   "outputs": [],
   "source": [
    "# start_time = time.time()\n",
    "\n",
    "# from_addr_df = pre_tx_df \\\n",
    "#     .select('from_address') \\\n",
    "#     .distinct() \\\n",
    "#     .withColumnRenamed('from_address', 'Address')\n",
    "\n",
    "# to_addr_df = pre_tx_df \\\n",
    "#     .select('to_address') \\\n",
    "#     .distinct() \\\n",
    "#     .withColumnRenamed('to_address', 'Address')\n",
    "\n",
    "# contract_addr_df = pre_tx_df \\\n",
    "#     .select('token_contract') \\\n",
    "#     .distinct() \\\n",
    "#     .withColumnRenamed('token_contract', 'Address')\n",
    "\n",
    "# uw_df = from_addr_df \\\n",
    "#     .union(to_addr_df) \\\n",
    "#     .union(contract_addr_df) \\\n",
    "#     .distinct()\n",
    "\n",
    "# start_time = time.time()"
   ]
  },
  {
   "cell_type": "code",
   "execution_count": null,
   "id": "b16bb86e",
   "metadata": {},
   "outputs": [],
   "source": []
  },
  {
   "cell_type": "code",
   "execution_count": 16,
   "id": "db677fe4",
   "metadata": {},
   "outputs": [],
   "source": [
    "# uw_df.count()"
   ]
  },
  {
   "cell_type": "code",
   "execution_count": null,
   "id": "02252898",
   "metadata": {},
   "outputs": [],
   "source": []
  },
  {
   "cell_type": "code",
   "execution_count": 17,
   "id": "b3b14ac2",
   "metadata": {},
   "outputs": [],
   "source": [
    "start_time = time.time()\n",
    "\n",
    "uaw_result_df.repartition(1) \\\n",
    "    .write \\\n",
    "    .option(\"header\",True) \\\n",
    "    .csv(\n",
    "        \"{base_path}/uaw/{time_range}/start={start}_end={end}/\" \\\n",
    "            .format(\n",
    "                base_path = base_path, \\\n",
    "                time_range = time_range, \\\n",
    "                start = start, \\\n",
    "                end = end \\\n",
    "            ) \\\n",
    "    )\n",
    "\n",
    "time.time() - start_time"
   ]
  },
  {
   "cell_type": "code",
   "execution_count": null,
   "id": "6a028d6b",
   "metadata": {},
   "outputs": [],
   "source": []
  },
  {
   "cell_type": "code",
   "execution_count": 18,
   "id": "d1a68d77",
   "metadata": {},
   "outputs": [],
   "source": [
    "spark.stop()"
   ]
  },
  {
   "cell_type": "code",
   "execution_count": null,
   "id": "0eb0b747",
   "metadata": {},
   "outputs": [],
   "source": []
  }
 ],
 "metadata": {
  "kernelspec": {
   "display_name": "Python 3 (ipykernel)",
   "language": "python",
   "name": "python3"
  },
  "language_info": {
   "codemirror_mode": {
    "name": "ipython",
    "version": 3
   },
   "file_extension": ".py",
   "mimetype": "text/x-python",
   "name": "python",
   "nbconvert_exporter": "python",
   "pygments_lexer": "ipython3",
   "version": "3.9.16"
  }
 },
 "nbformat": 4,
 "nbformat_minor": 5
}
