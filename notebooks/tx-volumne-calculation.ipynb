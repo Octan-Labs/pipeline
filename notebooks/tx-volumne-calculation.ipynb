{
 "cells": [
  {
   "cell_type": "code",
   "execution_count": 1,
   "id": "ae5f050f",
   "metadata": {},
   "outputs": [],
   "source": [
    "from pyspark.sql.types import StructType, StructField, StringType, LongType, DecimalType, DoubleType\n",
    "from pyspark.sql import SparkSession"
   ]
  },
  {
   "cell_type": "code",
   "execution_count": 2,
   "id": "d5038e7a",
   "metadata": {},
   "outputs": [
    {
     "name": "stderr",
     "output_type": "stream",
     "text": [
      "Warning: Ignoring non-Spark config property: fs.s3a.endpoint\n",
      "Warning: Ignoring non-Spark config property: fs.s3a.access.key\n",
      "Warning: Ignoring non-Spark config property: fs.s3a.secret.key\n",
      "WARNING: An illegal reflective access operation has occurred\n",
      "WARNING: Illegal reflective access by org.apache.spark.unsafe.Platform (file:/usr/local/spark-3.1.2-bin-hadoop3.2/jars/spark-unsafe_2.12-3.1.2.jar) to constructor java.nio.DirectByteBuffer(long,int)\n",
      "WARNING: Please consider reporting this to the maintainers of org.apache.spark.unsafe.Platform\n",
      "WARNING: Use --illegal-access=warn to enable warnings of further illegal reflective access operations\n",
      "WARNING: All illegal access operations will be denied in a future release\n",
      "23/06/20 04:18:25 WARN NativeCodeLoader: Unable to load native-hadoop library for your platform... using builtin-java classes where applicable\n",
      "Using Spark's default log4j profile: org/apache/spark/log4j-defaults.properties\n",
      "Setting default log level to \"WARN\".\n",
      "To adjust logging level use sc.setLogLevel(newLevel). For SparkR, use setLogLevel(newLevel).\n"
     ]
    }
   ],
   "source": [
    "spark = SparkSession \\\n",
    "    .builder \\\n",
    "    .config(\"fs.s3a.access.key\", \"Q3AM3UQ867SPQQA43P2F\") \\\n",
    "    .config(\"fs.s3a.secret.key\", \"zuf+tfteSlswRu7BJ86wekitnifILbZam1KYY3TG\") \\\n",
    "    .config(\"fs.s3a.endpoint\", \"https://play.min.io:9000\") \\\n",
    "    .appName(\"VolumeCalculation\") \\\n",
    "    .getOrCreate()"
   ]
  },
  {
   "cell_type": "code",
   "execution_count": 5,
   "id": "ee7386a2-1673-4783-9cd3-02da8ffee356",
   "metadata": {},
   "outputs": [],
   "source": [
    "sc = spark.sparkContext\n",
    "\n",
    "sc._jsc.hadoopConfiguration().set(\"fs.s3a.connection.ssl.enabled\", \"true\")\n",
    "sc._jsc.hadoopConfiguration().set(\"fs.s3a.path.style.access\", \"true\")\n",
    "sc._jsc.hadoopConfiguration().set(\"fs.s3a.attempts.maximum\", \"1\")\n",
    "sc._jsc.hadoopConfiguration().set(\"fs.s3a.connection.establish.timeout\", \"5000\")\n",
    "sc._jsc.hadoopConfiguration().set(\"fs.s3a.connection.timeout\", \"10000\")"
   ]
  },
  {
   "cell_type": "code",
   "execution_count": 6,
   "id": "6818398e",
   "metadata": {},
   "outputs": [],
   "source": [
    "token_transfers_schema = StructType([ \\\n",
    "    StructField(\"token_address\", StringType(), True), \\\n",
    "    StructField(\"from_address\", StringType(), True), \\\n",
    "    StructField(\"to_address\", StringType(), True), \\\n",
    "    StructField(\"value\", DecimalType(38, 0), True), \\\n",
    "    StructField(\"transaction_hash\", StringType(), True), \\\n",
    "    StructField(\"log_index\", LongType(), True), \\\n",
    "    StructField(\"block_number\", LongType(), True), \\\n",
    "  ])"
   ]
  },
  {
   "cell_type": "code",
   "execution_count": 7,
   "id": "5cd289cc",
   "metadata": {},
   "outputs": [],
   "source": [
    "transactions_schema = StructType([ \\\n",
    "    StructField(\"hash\", StringType(), True), \\\n",
    "    StructField(\"nonce\", LongType(), True), \\\n",
    "    StructField(\"block_hash\", StringType(), True), \\\n",
    "    StructField(\"block_number\", LongType(), True), \\\n",
    "    StructField(\"transaction_index\", LongType(), True), \\\n",
    "    StructField(\"from_address\", StringType(), True), \\\n",
    "    StructField(\"to_address\", StringType(), True), \\\n",
    "    StructField(\"value\", DecimalType(38, 0), True), \\\n",
    "    StructField(\"gas\", LongType(), True), \\\n",
    "    StructField(\"gas_price\", LongType(), True), \\\n",
    "    StructField(\"input\", StringType(), True), \\\n",
    "    StructField(\"block_timestamp\", LongType(), True), \\\n",
    "    StructField(\"max_fee_per_gas\", LongType(), True), \\\n",
    "    StructField(\"max_priority_fee_per_gas\", LongType(), True), \\\n",
    "    StructField(\"transaction_type\", LongType(), True) \\\n",
    "  ])"
   ]
  },
  {
   "cell_type": "code",
   "execution_count": 8,
   "id": "878be1e6",
   "metadata": {},
   "outputs": [],
   "source": [
    "tokens_schema = StructType([ \\\n",
    "    StructField(\"address\", StringType(), True), \\\n",
    "    StructField(\"symbol\", StringType(), True), \\\n",
    "    StructField(\"name\", StringType(), True), \\\n",
    "    StructField(\"decimals\", LongType(), True), \\\n",
    "    StructField(\"total_supply\", LongType(), True), \\\n",
    "    StructField(\"block_number\", LongType(), True), \\\n",
    "  ])"
   ]
  },
  {
   "cell_type": "code",
   "execution_count": 9,
   "id": "7b718273",
   "metadata": {},
   "outputs": [],
   "source": [
    "cmc_historical_schema = StructType([ \\\n",
    "    StructField(\"id\", LongType(), True), \\\n",
    "    StructField(\"rank\", LongType(), True), \\\n",
    "    StructField(\"name\", StringType(), True), \\\n",
    "    StructField(\"symbol\", StringType(), True), \\\n",
    "    StructField(\"open\", DoubleType(), True), \\\n",
    "    StructField(\"high\", DoubleType(), True), \\\n",
    "    StructField(\"low\", DoubleType(), True), \\\n",
    "    StructField(\"close\", DoubleType(), True), \\\n",
    "    StructField(\"volume\", DoubleType(), True), \\\n",
    "    StructField(\"marketCap\", DoubleType(), True), \\\n",
    "    StructField(\"timestamp\", LongType(), True), \\\n",
    "    StructField(\"address\", StringType(), True), \\\n",
    "  ])"
   ]
  },
  {
   "cell_type": "code",
   "execution_count": 10,
   "id": "6a0ef2a9",
   "metadata": {},
   "outputs": [],
   "source": [
    "basePath = \"s3a://bsc-test-tx-volume\""
   ]
  },
  {
   "cell_type": "code",
   "execution_count": 11,
   "id": "bcf79fc0",
   "metadata": {},
   "outputs": [
    {
     "name": "stderr",
     "output_type": "stream",
     "text": [
      "23/06/20 04:19:41 WARN MetricsConfig: Cannot locate configuration: tried hadoop-metrics2-s3a-file-system.properties,hadoop-metrics2.properties\n"
     ]
    }
   ],
   "source": [
    "token_transfers_df = spark.read.format(\"csv\") \\\n",
    "    .option(\"header\", True) \\\n",
    "    .schema(token_transfers_schema) \\\n",
    "    .load(basePath + \"/token_transfers/*/*/*.csv\")"
   ]
  },
  {
   "cell_type": "code",
   "execution_count": 12,
   "id": "bb47a3d3-3d22-42dc-8660-75fffdae4abc",
   "metadata": {},
   "outputs": [],
   "source": [
    "transactions_df = spark.read.format(\"csv\") \\\n",
    "    .option(\"header\", True) \\\n",
    "    .schema(transactions_schema) \\\n",
    "    .load(basePath + \"/transactions/*/*/*.csv\")"
   ]
  },
  {
   "cell_type": "code",
   "execution_count": 13,
   "id": "b3223535",
   "metadata": {},
   "outputs": [],
   "source": [
    "tokens_df = spark.read.format(\"csv\") \\\n",
    "    .option(\"header\", True) \\\n",
    "    .schema(tokens_schema) \\\n",
    "    .load(basePath + \"/tokens/*.csv\")"
   ]
  },
  {
   "cell_type": "code",
   "execution_count": 14,
   "id": "6e33c0cb",
   "metadata": {},
   "outputs": [],
   "source": [
    "cmc_historicals_df = spark.read.format(\"csv\") \\\n",
    "    .option(\"header\", True) \\\n",
    "    .schema(cmc_historical_schema) \\\n",
    "    .load(basePath + \"/cmc_historicals/*.csv\")"
   ]
  },
  {
   "cell_type": "code",
   "execution_count": 15,
   "id": "fd02ab5e",
   "metadata": {},
   "outputs": [
    {
     "data": {
      "text/html": [
       "<style>\n",
       "div.output_area pre {\n",
       "    white-space: pre;\n",
       "}\n",
       "</style>\n"
      ],
      "text/plain": [
       "<IPython.core.display.HTML object>"
      ]
     },
     "metadata": {},
     "output_type": "display_data"
    }
   ],
   "source": [
    "%%html\n",
    "<style>\n",
    "div.output_area pre {\n",
    "    white-space: pre;\n",
    "}\n",
    "</style>"
   ]
  },
  {
   "cell_type": "code",
   "execution_count": 16,
   "id": "b4862479",
   "metadata": {},
   "outputs": [],
   "source": [
    "token_transfers_df.createOrReplaceTempView(\"token_transfers_df\")\n",
    "transactions_df.createOrReplaceTempView(\"transactions_df\")\n",
    "tokens_df.createOrReplaceTempView(\"tokens_df\")\n",
    "cmc_historicals_df.createOrReplaceTempView(\"cmc_historicals_df\")"
   ]
  },
  {
   "cell_type": "code",
   "execution_count": 19,
   "id": "16a4e626",
   "metadata": {},
   "outputs": [],
   "source": [
    "token_volume_result_df = spark.sql(\"\"\"\n",
    "SELECT  tt.token_address, cmc.timestamp, sum((tt.value / POWER(10, t.decimals)) * cmc.open) as tx_volume\n",
    "FROM token_transfers_df tt\n",
    "JOIN transactions_df txn ON tt.transaction_hash = txn.hash\n",
    "JOIN tokens_df t ON LOWER(tt.token_address) = LOWER(t.address)\n",
    "JOIN cmc_historicals_df cmc ON LOWER(cmc.address) = LOWER(tt.token_address)\n",
    "WHERE txn.block_timestamp < cmc.timestamp AND txn.block_timestamp >  cmc.timestamp - 86400\n",
    "GROUP BY tt.token_address, cmc.timestamp\n",
    "\"\"\")\n",
    "\n",
    "token_df = token_volume_result_df \\\n",
    "    .withColumn('tx_volume', token_volume_result_df['tx_volume'].cast(DecimalType(38, 6))) \\\n",
    "    .withColumnRenamed(\"token_address\",\"address\")"
   ]
  },
  {
   "cell_type": "code",
   "execution_count": 20,
   "id": "8e424257",
   "metadata": {},
   "outputs": [
    {
     "name": "stderr",
     "output_type": "stream",
     "text": [
      "[Stage 17:===================================================>    (11 + 1) / 12]\r"
     ]
    },
    {
     "name": "stdout",
     "output_type": "stream",
     "text": [
      "+------------------------------------------+----------+---------------+\n",
      "|address                                   |timestamp |tx_volume      |\n",
      "+------------------------------------------+----------+---------------+\n",
      "|0x2170ed0880ac9a755fd29b2688956bd959f933f8|1685318399|1054768.605324 |\n",
      "|0xfce146bf3146100cfe5db4129cf6c82b0ef4ad8c|1685318399|0.000047       |\n",
      "|0x9c65ab58d8d978db963e63f2bfb7121627e3a739|1685318399|14030.151616   |\n",
      "|0xa4080f1778e69467e905b8d6f72f6e441f9e9484|1685318399|1657.252888    |\n",
      "|0xbf5140a22578168fd562dccf235e5d43a02ce9b1|1685318399|21100.271899   |\n",
      "|0x02caa44eb838fc0e49b73213d9d22e5f23798fda|1685318399|364.769479     |\n",
      "|0x9fb9a33956351cf4fa040f65a13b835a3c8764e3|1685318399|223.021360     |\n",
      "|0x4338665cbb7b2485a8855a139b75d5e34ab0db94|1685318399|161.363328     |\n",
      "|0x156ab3346823b651294766e23e6cf87254d68962|1685318399|24406589.595120|\n",
      "|0xe552fb52a4f19e44ef5a967632dbc320b0820639|1685318399|0.743871       |\n",
      "+------------------------------------------+----------+---------------+\n",
      "only showing top 10 rows\n",
      "\n"
     ]
    },
    {
     "name": "stderr",
     "output_type": "stream",
     "text": [
      "                                                                                \r"
     ]
    }
   ],
   "source": [
    "token_df.show(10, False)"
   ]
  },
  {
   "cell_type": "code",
   "execution_count": 21,
   "id": "483d5ef1",
   "metadata": {},
   "outputs": [],
   "source": [
    "from_address_volume_result_df = spark.sql(\"\"\"\n",
    "SELECT  tt.from_address, cmc.timestamp, sum((tt.value / POWER(10, t.decimals)) * cmc.open) as tx_volume\n",
    "FROM token_transfers_df tt\n",
    "JOIN transactions_df txn ON tt.transaction_hash = txn.hash\n",
    "JOIN tokens_df t ON LOWER(tt.token_address) = LOWER(t.address)\n",
    "JOIN cmc_historicals_df cmc ON LOWER(cmc.address) = LOWER(tt.token_address)\n",
    "WHERE txn.block_timestamp < cmc.timestamp AND txn.block_timestamp >  cmc.timestamp - 86400\n",
    "GROUP BY tt.from_address, cmc.timestamp\n",
    "\"\"\")\n",
    "\n",
    "from_df = from_address_volume_result_df \\\n",
    "    .withColumn('tx_volume', from_address_volume_result_df['tx_volume'].cast(DecimalType(38, 6))) \\\n",
    "    .withColumnRenamed(\"from_address\",\"address\")"
   ]
  },
  {
   "cell_type": "code",
   "execution_count": 22,
   "id": "40df7523",
   "metadata": {},
   "outputs": [
    {
     "name": "stderr",
     "output_type": "stream",
     "text": [
      "[Stage 32:========================================>            (152 + 12) / 200]\r"
     ]
    },
    {
     "name": "stdout",
     "output_type": "stream",
     "text": [
      "+------------------------------------------+----------+-----------+\n",
      "|address                                   |timestamp |tx_volume  |\n",
      "+------------------------------------------+----------+-----------+\n",
      "|0x344ecc034d92db380a219d4345f2d1690d22e11b|1685318399|29.285650  |\n",
      "|0x914558fddb93aa9b32b0e8e662673515b0f2e4ae|1685318399|822.841602 |\n",
      "|0x76f4a2cd95bf5a0754011998ad893f55bb079a72|1685318399|1343.790739|\n",
      "|0x3b756446c61b4702b34475022ae1851ba1a36691|1685318399|0.000000   |\n",
      "|0xd6ff684aa01b676d0cc7cbc40a154dbf9d3d3079|1685318399|265.432143 |\n",
      "|0x3d6d3ff403d82afb0673ae4182dfb1ad7ecbe5a8|1685318399|200.110599 |\n",
      "|0x27bbe1d6c6b04694a94b2280ab5c424f54527b01|1685318399|300.165899 |\n",
      "|0x95c95656f694a665cadc98b3f2d5da44f3404e81|1685318399|0.122929   |\n",
      "|0xc108a9e4e1b4e2db4ac5a43bdda75f126d634caf|1685318399|219.351533 |\n",
      "|0x88eb5797d4fd1adb62a8d73b2ba146c46d9e245d|1685318399|1.196090   |\n",
      "+------------------------------------------+----------+-----------+\n",
      "only showing top 10 rows\n",
      "\n"
     ]
    },
    {
     "name": "stderr",
     "output_type": "stream",
     "text": [
      "                                                                                \r"
     ]
    }
   ],
   "source": [
    "from_df.show(10, False)"
   ]
  },
  {
   "cell_type": "code",
   "execution_count": 23,
   "id": "74b4ec8d",
   "metadata": {},
   "outputs": [],
   "source": [
    "to_address_volume_result_df = spark.sql(\"\"\"\n",
    "SELECT  tt.to_address, cmc.timestamp, sum((tt.value / POWER(10, t.decimals)) * cmc.open) as tx_volume\n",
    "FROM token_transfers_df tt\n",
    "JOIN transactions_df txn ON tt.transaction_hash = txn.hash\n",
    "JOIN tokens_df t ON LOWER(tt.token_address) = LOWER(t.address)\n",
    "JOIN cmc_historicals_df cmc ON LOWER(cmc.address) = LOWER(tt.token_address)\n",
    "WHERE txn.block_timestamp < cmc.timestamp AND txn.block_timestamp >  cmc.timestamp - 86400\n",
    "GROUP BY tt.to_address, cmc.timestamp\n",
    "\"\"\")\n",
    "\n",
    "to_df = to_address_volume_result_df \\\n",
    "    .withColumn('tx_volume', to_address_volume_result_df['tx_volume'].cast(DecimalType(38, 6))) \\\n",
    "    .withColumnRenamed(\"to_address\",\"address\")"
   ]
  },
  {
   "cell_type": "code",
   "execution_count": 24,
   "id": "671fe8ba",
   "metadata": {},
   "outputs": [
    {
     "name": "stderr",
     "output_type": "stream",
     "text": [
      "[Stage 38:======================================>              (146 + 12) / 200]\r"
     ]
    },
    {
     "name": "stdout",
     "output_type": "stream",
     "text": [
      "+------------------------------------------+----------+-----------+\n",
      "|address                                   |timestamp |tx_volume  |\n",
      "+------------------------------------------+----------+-----------+\n",
      "|0x2641bc9d55daf3ce52a06fa9d307c989951a5a03|1685318399|5583.014773|\n",
      "|0x56ed0f243c8bd05c84ede4dafcafa69d1cec7240|1685318399|0.000000   |\n",
      "|0xab78ba5e13bc29c742aba5bb7ebcc0cdc6969db5|1685318399|99.745186  |\n",
      "|0x44f354aa259023b929b7a7b6d168259902334e31|1685318399|0.000000   |\n",
      "|0x277cdce833e22d68bcddd504aef3a31ca7c584f8|1685318399|53.731171  |\n",
      "|0x3538e99b0ad36179ecd8c1815664bbc56208e468|1685318399|0.000000   |\n",
      "|0x317f03573b16b993c469473b0c8dc564df1db18c|1685318399|51.365714  |\n",
      "|0x88eb5797d4fd1adb62a8d73b2ba146c46d9e245d|1685318399|0.001592   |\n",
      "|0x04442b93e0ae32f1aa197bbc94e0b7fcf08a8524|1685318399|28.107658  |\n",
      "|0x8df5e62c8c77434547bbf3dd7528e550e80b1734|1685318399|465.070860 |\n",
      "+------------------------------------------+----------+-----------+\n",
      "only showing top 10 rows\n",
      "\n"
     ]
    },
    {
     "name": "stderr",
     "output_type": "stream",
     "text": [
      "                                                                                \r"
     ]
    }
   ],
   "source": [
    "to_df.show(10, False)"
   ]
  },
  {
   "cell_type": "code",
   "execution_count": 25,
   "id": "3b65d0a9",
   "metadata": {},
   "outputs": [],
   "source": [
    "result_df = token_df.unionAll(from_df).unionAll(to_df)"
   ]
  },
  {
   "cell_type": "code",
   "execution_count": 26,
   "id": "3072718e",
   "metadata": {},
   "outputs": [
    {
     "name": "stderr",
     "output_type": "stream",
     "text": [
      "[Stage 48:========================================>            (153 + 12) / 200]\r"
     ]
    },
    {
     "name": "stdout",
     "output_type": "stream",
     "text": [
      "+------------------------------------------+----------+---------------+\n",
      "|address                                   |timestamp |tx_volume      |\n",
      "+------------------------------------------+----------+---------------+\n",
      "|0x2170ed0880ac9a755fd29b2688956bd959f933f8|1685318399|1054768.605324 |\n",
      "|0xfce146bf3146100cfe5db4129cf6c82b0ef4ad8c|1685318399|0.000047       |\n",
      "|0x9c65ab58d8d978db963e63f2bfb7121627e3a739|1685318399|14030.151616   |\n",
      "|0xa4080f1778e69467e905b8d6f72f6e441f9e9484|1685318399|1657.252888    |\n",
      "|0xbf5140a22578168fd562dccf235e5d43a02ce9b1|1685318399|21100.271899   |\n",
      "|0x02caa44eb838fc0e49b73213d9d22e5f23798fda|1685318399|364.769479     |\n",
      "|0x9fb9a33956351cf4fa040f65a13b835a3c8764e3|1685318399|223.021360     |\n",
      "|0x4338665cbb7b2485a8855a139b75d5e34ab0db94|1685318399|161.363328     |\n",
      "|0x156ab3346823b651294766e23e6cf87254d68962|1685318399|24406589.595120|\n",
      "|0xe552fb52a4f19e44ef5a967632dbc320b0820639|1685318399|0.743871       |\n",
      "+------------------------------------------+----------+---------------+\n",
      "only showing top 10 rows\n",
      "\n"
     ]
    },
    {
     "name": "stderr",
     "output_type": "stream",
     "text": [
      "                                                                                \r"
     ]
    }
   ],
   "source": [
    "result_df.show(10, False)"
   ]
  },
  {
   "cell_type": "code",
   "execution_count": null,
   "id": "edecb8d5",
   "metadata": {},
   "outputs": [],
   "source": [
    "# result_df.repartition(1) \\\n",
    "#     .write \\\n",
    "#     .option(\"header\",True) \\\n",
    "#     .csv(basePath + \"/tx-volumes/\")"
   ]
  }
 ],
 "metadata": {
  "kernelspec": {
   "display_name": "Python 3 (ipykernel)",
   "language": "python",
   "name": "python3"
  },
  "language_info": {
   "codemirror_mode": {
    "name": "ipython",
    "version": 3
   },
   "file_extension": ".py",
   "mimetype": "text/x-python",
   "name": "python",
   "nbconvert_exporter": "python",
   "pygments_lexer": "ipython3",
   "version": "3.11.4"
  }
 },
 "nbformat": 4,
 "nbformat_minor": 5
}
