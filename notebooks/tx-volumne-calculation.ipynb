{
 "cells": [
  {
   "cell_type": "code",
   "execution_count": 1,
   "id": "ae5f050f",
   "metadata": {},
   "outputs": [],
   "source": [
    "from pyspark.sql.types import StructType, StructField, StringType, LongType, DecimalType, DoubleType\n",
    "from pyspark.sql import SparkSession"
   ]
  },
  {
   "cell_type": "code",
   "execution_count": 3,
   "id": "d5038e7a",
   "metadata": {},
   "outputs": [
    {
     "name": "stdout",
     "output_type": "stream",
     "text": [
      "23/06/20 02:28:12 WARN SparkSession: Using an existing Spark session; only runtime SQL configurations will take effect.\n"
     ]
    }
   ],
   "source": [
    "spark = SparkSession \\\n",
    "    .builder \\\n",
    "    .config(\"fs.s3a.access.key\", \"Q3AM3UQ867SPQQA43P2F\") \\\n",
    "    .config(\"fs.s3a.secret.key\", \"zuf+tfteSlswRu7BJ86wekitnifILbZam1KYY3TG\") \\\n",
    "    .config(\"fs.s3a.endpoint\", \"play.min.io:9000\") \\\n",
    "    .appName(\"VolumeCalculation\") \\\n",
    "    .getOrCreate()"
   ]
  },
  {
   "cell_type": "code",
   "execution_count": 4,
   "id": "6818398e",
   "metadata": {},
   "outputs": [],
   "source": [
    "token_transfers_schema = StructType([ \\\n",
    "    StructField(\"token_address\", StringType(), True), \\\n",
    "    StructField(\"from_address\", StringType(), True), \\\n",
    "    StructField(\"to_address\", StringType(), True), \\\n",
    "    StructField(\"value\", DecimalType(38, 0), True), \\\n",
    "    StructField(\"transaction_hash\", StringType(), True), \\\n",
    "    StructField(\"log_index\", LongType(), True), \\\n",
    "    StructField(\"block_number\", LongType(), True), \\\n",
    "  ])"
   ]
  },
  {
   "cell_type": "code",
   "execution_count": 5,
   "id": "5cd289cc",
   "metadata": {},
   "outputs": [],
   "source": [
    "transactions_schema = StructType([ \\\n",
    "    StructField(\"hash\", StringType(), True), \\\n",
    "    StructField(\"nonce\", LongType(), True), \\\n",
    "    StructField(\"block_hash\", StringType(), True), \\\n",
    "    StructField(\"block_number\", LongType(), True), \\\n",
    "    StructField(\"transaction_index\", LongType(), True), \\\n",
    "    StructField(\"from_address\", StringType(), True), \\\n",
    "    StructField(\"to_address\", StringType(), True), \\\n",
    "    StructField(\"value\", DecimalType(38, 0), True), \\\n",
    "    StructField(\"gas\", LongType(), True), \\\n",
    "    StructField(\"gas_price\", LongType(), True), \\\n",
    "    StructField(\"input\", StringType(), True), \\\n",
    "    StructField(\"block_timestamp\", LongType(), True), \\\n",
    "    StructField(\"max_fee_per_gas\", LongType(), True), \\\n",
    "    StructField(\"max_priority_fee_per_gas\", LongType(), True), \\\n",
    "    StructField(\"transaction_type\", LongType(), True) \\\n",
    "  ])"
   ]
  },
  {
   "cell_type": "code",
   "execution_count": 6,
   "id": "878be1e6",
   "metadata": {},
   "outputs": [],
   "source": [
    "tokens_schema = StructType([ \\\n",
    "    StructField(\"address\", StringType(), True), \\\n",
    "    StructField(\"symbol\", StringType(), True), \\\n",
    "    StructField(\"name\", StringType(), True), \\\n",
    "    StructField(\"decimals\", LongType(), True), \\\n",
    "    StructField(\"total_supply\", LongType(), True), \\\n",
    "    StructField(\"block_number\", LongType(), True), \\\n",
    "  ])"
   ]
  },
  {
   "cell_type": "code",
   "execution_count": 7,
   "id": "7b718273",
   "metadata": {},
   "outputs": [],
   "source": [
    "cmc_historical_schema = StructType([ \\\n",
    "    StructField(\"id\", LongType(), True), \\\n",
    "    StructField(\"rank\", LongType(), True), \\\n",
    "    StructField(\"name\", StringType(), True), \\\n",
    "    StructField(\"symbol\", StringType(), True), \\\n",
    "    StructField(\"open\", DoubleType(), True), \\\n",
    "    StructField(\"high\", DoubleType(), True), \\\n",
    "    StructField(\"low\", DoubleType(), True), \\\n",
    "    StructField(\"close\", DoubleType(), True), \\\n",
    "    StructField(\"volume\", DoubleType(), True), \\\n",
    "    StructField(\"marketCap\", DoubleType(), True), \\\n",
    "    StructField(\"timestamp\", LongType(), True), \\\n",
    "    StructField(\"address\", StringType(), True), \\\n",
    "  ])"
   ]
  },
  {
   "cell_type": "code",
   "execution_count": 8,
   "id": "6a0ef2a9",
   "metadata": {},
   "outputs": [],
   "source": [
    "basePath = \"s3a://bsc-test-tx-volume\""
   ]
  },
  {
   "cell_type": "code",
   "execution_count": 9,
   "id": "bcf79fc0",
   "metadata": {},
   "outputs": [],
   "source": [
    "token_transfers_df = spark.read.format(\"csv\") \\\n",
    "    .option(\"header\", True) \\\n",
    "    .schema(token_transfers_schema) \\\n",
    "    .load(basePath + \"/token_transfers/*/*/*.csv\")"
   ]
  },
  {
   "cell_type": "code",
   "execution_count": 10,
   "id": "0f5c9a29",
   "metadata": {},
   "outputs": [],
   "source": [
    "transactions_df = spark.read.format(\"csv\") \\\n",
    "    .option(\"header\", True) \\\n",
    "    .schema(transactions_schema) \\\n",
    "    .load(basePath + \"/transactions/*/*/*.csv\")"
   ]
  },
  {
   "cell_type": "code",
   "execution_count": 11,
   "id": "b3223535",
   "metadata": {},
   "outputs": [],
   "source": [
    "tokens_df = spark.read.format(\"csv\") \\\n",
    "    .option(\"header\", True) \\\n",
    "    .schema(tokens_schema) \\\n",
    "    .load(basePath + \"/tokens/*.csv\")"
   ]
  },
  {
   "cell_type": "code",
   "execution_count": 12,
   "id": "6e33c0cb",
   "metadata": {},
   "outputs": [],
   "source": [
    "cmc_historicals_df = spark.read.format(\"csv\") \\\n",
    "    .option(\"header\", True) \\\n",
    "    .schema(cmc_historical_schema) \\\n",
    "    .load(basePath + \"/cmc_historicals/*.csv\")"
   ]
  },
  {
   "cell_type": "code",
   "execution_count": 13,
   "id": "fd02ab5e",
   "metadata": {},
   "outputs": [
    {
     "data": {
      "text/html": [
       "<style>\n",
       "div.output_area pre {\n",
       "    white-space: pre;\n",
       "}\n",
       "</style>\n"
      ],
      "text/plain": [
       "<IPython.core.display.HTML object>"
      ]
     },
     "metadata": {},
     "output_type": "display_data"
    }
   ],
   "source": [
    "%%html\n",
    "<style>\n",
    "div.output_area pre {\n",
    "    white-space: pre;\n",
    "}\n",
    "</style>"
   ]
  },
  {
   "cell_type": "code",
   "execution_count": 14,
   "id": "b4862479",
   "metadata": {},
   "outputs": [],
   "source": [
    "token_transfers_df.createOrReplaceTempView(\"token_transfers_df\")\n",
    "transactions_df.createOrReplaceTempView(\"transactions_df\")\n",
    "tokens_df.createOrReplaceTempView(\"tokens_df\")\n",
    "cmc_historicals_df.createOrReplaceTempView(\"cmc_historicals_df\")"
   ]
  },
  {
   "cell_type": "code",
   "execution_count": 26,
   "id": "16a4e626",
   "metadata": {},
   "outputs": [],
   "source": [
    "token_volume_result_df = spark.sql(\"\"\"\n",
    "SELECT  tt.token_address, cmc.timestamp, sum((tt.value / POWER(10, t.decimals)) * cmc.open) as tx_volume\n",
    "FROM token_transfers_df tt\n",
    "JOIN transactions_df txn ON tt.transaction_hash = txn.hash\n",
    "JOIN tokens_df t ON LOWER(tt.token_address) = LOWER(t.address)\n",
    "JOIN cmc_historicals_df cmc ON LOWER(cmc.address) = LOWER(tt.token_address)\n",
    "WHERE txn.block_timestamp < cmc.timestamp AND txn.block_timestamp >  cmc.timestamp - 86400\n",
    "GROUP BY tt.token_address, cmc.timestamp\n",
    "\"\"\")\n",
    "\n",
    "token_df = token_volume_result_df \\\n",
    "    .withColumn('tx_volume', token_volume_result_df['tx_volume'].cast(DecimalType(38, 0))) \\\n",
    "    .withColumnRenamed(\"token_address\",\"address\")"
   ]
  },
  {
   "cell_type": "code",
   "execution_count": 27,
   "id": "8e424257",
   "metadata": {},
   "outputs": [
    {
     "name": "stdout",
     "output_type": "stream",
     "text": [
      "+------------------------------------------+----------+---------+\n",
      "|address                                   |timestamp |tx_volume|\n",
      "+------------------------------------------+----------+---------+\n",
      "|0x2170ed0880ac9a755fd29b2688956bd959f933f8|1685318399|1054769  |\n",
      "|0x9c65ab58d8d978db963e63f2bfb7121627e3a739|1685318399|14030    |\n",
      "|0xbf5140a22578168fd562dccf235e5d43a02ce9b1|1685318399|21100    |\n",
      "|0x02caa44eb838fc0e49b73213d9d22e5f23798fda|1685318399|365      |\n",
      "|0x4338665cbb7b2485a8855a139b75d5e34ab0db94|1685318399|161      |\n",
      "|0x156ab3346823b651294766e23e6cf87254d68962|1685318399|24406590 |\n",
      "|0xe552fb52a4f19e44ef5a967632dbc320b0820639|1685318399|1        |\n",
      "|0xba2ae424d960c26247dd6c32edc70b295c744c43|1685318399|101832   |\n",
      "|0x14016e85a25aeb13065688cafb43044c2ef86784|1685318399|5707     |\n",
      "|0xaf53d56ff99f1322515e54fdde93ff8b3b7dafd5|1685318399|1        |\n",
      "+------------------------------------------+----------+---------+\n",
      "only showing top 10 rows\n",
      "\n"
     ]
    }
   ],
   "source": [
    "token_df.show(10, False)"
   ]
  },
  {
   "cell_type": "code",
   "execution_count": 28,
   "id": "483d5ef1",
   "metadata": {},
   "outputs": [],
   "source": [
    "from_address_volume_result_df = spark.sql(\"\"\"\n",
    "SELECT  tt.from_address, cmc.timestamp, sum((tt.value / POWER(10, t.decimals)) * cmc.open) as tx_volume\n",
    "FROM token_transfers_df tt\n",
    "JOIN transactions_df txn ON tt.transaction_hash = txn.hash\n",
    "JOIN tokens_df t ON LOWER(tt.token_address) = LOWER(t.address)\n",
    "JOIN cmc_historicals_df cmc ON LOWER(cmc.address) = LOWER(tt.token_address)\n",
    "WHERE txn.block_timestamp < cmc.timestamp AND txn.block_timestamp >  cmc.timestamp - 86400\n",
    "GROUP BY tt.from_address, cmc.timestamp\n",
    "\"\"\")\n",
    "\n",
    "from_df = from_address_volume_result_df \\\n",
    "    .withColumn('tx_volume', from_address_volume_result_df['tx_volume'].cast(DecimalType(38, 0))) \\\n",
    "    .withColumnRenamed(\"from_address\",\"address\")"
   ]
  },
  {
   "cell_type": "code",
   "execution_count": 29,
   "id": "40df7523",
   "metadata": {},
   "outputs": [
    {
     "name": "stdout",
     "output_type": "stream",
     "text": [
      "+------------------------------------------+----------+---------+\n",
      "|address                                   |timestamp |tx_volume|\n",
      "+------------------------------------------+----------+---------+\n",
      "|0x344ecc034d92db380a219d4345f2d1690d22e11b|1685318399|29       |\n",
      "|0x7623a96f97ee37c50405b1bd162ff9bc380f7b60|1685318399|211      |\n",
      "|0xc108a9e4e1b4e2db4ac5a43bdda75f126d634caf|1685318399|219      |\n",
      "|0x914558fddb93aa9b32b0e8e662673515b0f2e4ae|1685318399|823      |\n",
      "|0xc2b3dbbf26d43617036b0eba53ad2dbd945adebf|1685318399|834104   |\n",
      "|0x0c59a054d7ec1248c1f84fd88030ac00baa71622|1685318399|282      |\n",
      "|0x63e95e19f24a7675d8adbd6f38d3c0f77bf87185|1685318399|9989     |\n",
      "|0x9fe0d567c52663d371477b27d216b6d20d260a4d|1685318399|0        |\n",
      "|0x2641bc9d55daf3ce52a06fa9d307c989951a5a03|1685318399|5583     |\n",
      "|0x00692189a7f61483bdb67f11ec28197fae9d7755|1685318399|9105     |\n",
      "+------------------------------------------+----------+---------+\n",
      "only showing top 10 rows\n",
      "\n"
     ]
    }
   ],
   "source": [
    "from_df.show(10, False)"
   ]
  },
  {
   "cell_type": "code",
   "execution_count": 30,
   "id": "74b4ec8d",
   "metadata": {},
   "outputs": [],
   "source": [
    "to_address_volume_result_df = spark.sql(\"\"\"\n",
    "SELECT  tt.to_address, cmc.timestamp, sum((tt.value / POWER(10, t.decimals)) * cmc.open) as tx_volume\n",
    "FROM token_transfers_df tt\n",
    "JOIN transactions_df txn ON tt.transaction_hash = txn.hash\n",
    "JOIN tokens_df t ON LOWER(tt.token_address) = LOWER(t.address)\n",
    "JOIN cmc_historicals_df cmc ON LOWER(cmc.address) = LOWER(tt.token_address)\n",
    "WHERE txn.block_timestamp < cmc.timestamp AND txn.block_timestamp >  cmc.timestamp - 86400\n",
    "GROUP BY tt.to_address, cmc.timestamp\n",
    "\"\"\")\n",
    "\n",
    "to_df = to_address_volume_result_df \\\n",
    "    .withColumn('tx_volume', to_address_volume_result_df['tx_volume'].cast(DecimalType(38, 0))) \\\n",
    "    .withColumnRenamed(\"to_address\",\"address\")"
   ]
  },
  {
   "cell_type": "code",
   "execution_count": 31,
   "id": "671fe8ba",
   "metadata": {},
   "outputs": [
    {
     "name": "stdout",
     "output_type": "stream",
     "text": [
      "+------------------------------------------+----------+---------+\n",
      "|address                                   |timestamp |tx_volume|\n",
      "+------------------------------------------+----------+---------+\n",
      "|0x8126a1c71e1b5562393f65c8fe911d0c0352af72|1685318399|0        |\n",
      "|0x84623f450a0af538ae3a52539633d784b664dad1|1685318399|1        |\n",
      "|0x074eb000792e3710c864f8bf2478afc8df92d8cb|1685318399|0        |\n",
      "|0x56ed0f243c8bd05c84ede4dafcafa69d1cec7240|1685318399|0        |\n",
      "|0x04442b93e0ae32f1aa197bbc94e0b7fcf08a8524|1685318399|28       |\n",
      "|0xc2b3dbbf26d43617036b0eba53ad2dbd945adebf|1685318399|402939   |\n",
      "|0x62679a86f0f537a2b4e40af3305f5cee742750d9|1685318399|55       |\n",
      "|0x92e4203baadb385d1355d3b5a822a084337749cf|1685318399|0        |\n",
      "|0x8df5e62c8c77434547bbf3dd7528e550e80b1734|1685318399|465      |\n",
      "|0x277cdce833e22d68bcddd504aef3a31ca7c584f8|1685318399|54       |\n",
      "+------------------------------------------+----------+---------+\n",
      "only showing top 10 rows\n",
      "\n"
     ]
    }
   ],
   "source": [
    "to_df.show(10, False)"
   ]
  },
  {
   "cell_type": "code",
   "execution_count": 32,
   "id": "3b65d0a9",
   "metadata": {},
   "outputs": [],
   "source": [
    "result_df = token_df.unionAll(from_df).unionAll(to_df)"
   ]
  },
  {
   "cell_type": "code",
   "execution_count": 33,
   "id": "3072718e",
   "metadata": {},
   "outputs": [
    {
     "name": "stderr",
     "output_type": "stream",
     "text": [
      "[Stage 136:==================================================>    (11 + 1) / 12]\r"
     ]
    },
    {
     "name": "stdout",
     "output_type": "stream",
     "text": [
      "+------------------------------------------+----------+---------+\n",
      "|address                                   |timestamp |tx_volume|\n",
      "+------------------------------------------+----------+---------+\n",
      "|0x2170ed0880ac9a755fd29b2688956bd959f933f8|1685318399|1054769  |\n",
      "|0x9c65ab58d8d978db963e63f2bfb7121627e3a739|1685318399|14030    |\n",
      "|0xbf5140a22578168fd562dccf235e5d43a02ce9b1|1685318399|21100    |\n",
      "|0x02caa44eb838fc0e49b73213d9d22e5f23798fda|1685318399|365      |\n",
      "|0x4338665cbb7b2485a8855a139b75d5e34ab0db94|1685318399|161      |\n",
      "|0x156ab3346823b651294766e23e6cf87254d68962|1685318399|24406590 |\n",
      "|0xe552fb52a4f19e44ef5a967632dbc320b0820639|1685318399|1        |\n",
      "|0xba2ae424d960c26247dd6c32edc70b295c744c43|1685318399|101832   |\n",
      "|0x14016e85a25aeb13065688cafb43044c2ef86784|1685318399|5707     |\n",
      "|0xaf53d56ff99f1322515e54fdde93ff8b3b7dafd5|1685318399|1        |\n",
      "+------------------------------------------+----------+---------+\n",
      "only showing top 10 rows\n",
      "\n"
     ]
    },
    {
     "name": "stderr",
     "output_type": "stream",
     "text": [
      "\r",
      "                                                                                \r"
     ]
    }
   ],
   "source": [
    "result_df.show(10, False)"
   ]
  },
  {
   "cell_type": "code",
   "execution_count": null,
   "id": "edecb8d5",
   "metadata": {},
   "outputs": [],
   "source": []
  }
 ],
 "metadata": {
  "kernelspec": {
   "display_name": "Python 3 (ipykernel)",
   "language": "python",
   "name": "python3"
  },
  "language_info": {
   "codemirror_mode": {
    "name": "ipython",
    "version": 3
   },
   "file_extension": ".py",
   "mimetype": "text/x-python",
   "name": "python",
   "nbconvert_exporter": "python",
   "pygments_lexer": "ipython3",
   "version": "3.9.16"
  }
 },
 "nbformat": 4,
 "nbformat_minor": 5
}
