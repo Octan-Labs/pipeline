{
 "cells": [
  {
   "cell_type": "code",
   "execution_count": 21,
   "id": "ae5f050f",
   "metadata": {},
   "outputs": [],
   "source": [
    "from pyspark.sql.types import StructType, StructField, StringType, LongType, DecimalType, DoubleType\n",
    "from pyspark.sql import SparkSession"
   ]
  },
  {
   "cell_type": "code",
   "execution_count": 3,
   "id": "0529f715",
   "metadata": {},
   "outputs": [
    {
     "name": "stdout",
     "output_type": "stream",
     "text": [
      "23/06/06 09:12:33 WARN SparkSession: Using an existing Spark session; only runtime SQL configurations will take effect.\n"
     ]
    }
   ],
   "source": [
    "spark = SparkSession \\\n",
    "    .builder \\\n",
    "    .appName(\"VolumeCalculation\") \\\n",
    "    .getOrCreate()"
   ]
  },
  {
   "cell_type": "code",
   "execution_count": 60,
   "id": "6818398e",
   "metadata": {},
   "outputs": [],
   "source": [
    "token_transfers_schema = StructType([ \\\n",
    "    StructField(\"token_address\", StringType(), True), \\\n",
    "    StructField(\"from_address\", StringType(), True), \\\n",
    "    StructField(\"to_address\", StringType(), True), \\\n",
    "    StructField(\"value\", DecimalType(38, 0), True), \\\n",
    "    StructField(\"transaction_hash\", StringType(), True), \\\n",
    "    StructField(\"log_index\", LongType(), True), \\\n",
    "    StructField(\"block_number\", LongType(), True), \\\n",
    "  ])"
   ]
  },
  {
   "cell_type": "code",
   "execution_count": 56,
   "id": "5cd289cc",
   "metadata": {},
   "outputs": [],
   "source": [
    "transactions_schema = StructType([ \\\n",
    "    StructField(\"hash\", StringType(), True), \\\n",
    "    StructField(\"nonce\", LongType(), True), \\\n",
    "    StructField(\"block_hash\", StringType(), True), \\\n",
    "    StructField(\"block_number\", LongType(), True), \\\n",
    "    StructField(\"transaction_index\", LongType(), True), \\\n",
    "    StructField(\"from_address\", StringType(), True), \\\n",
    "    StructField(\"to_address\", StringType(), True), \\\n",
    "    StructField(\"value\", DecimalType(38, 0), True), \\\n",
    "    StructField(\"gas\", LongType(), True), \\\n",
    "    StructField(\"gas_price\", LongType(), True), \\\n",
    "    StructField(\"input\", StringType(), True), \\\n",
    "    StructField(\"block_timestamp\", LongType(), True), \\\n",
    "    StructField(\"max_fee_per_gas\", LongType(), True), \\\n",
    "    StructField(\"max_priority_fee_per_gas\", LongType(), True), \\\n",
    "    StructField(\"transaction_type\", LongType(), True) \\\n",
    "  ])"
   ]
  },
  {
   "cell_type": "code",
   "execution_count": 32,
   "id": "878be1e6",
   "metadata": {},
   "outputs": [],
   "source": [
    "tokens_schema = StructType([ \\\n",
    "    StructField(\"address\", StringType(), True), \\\n",
    "    StructField(\"symbol\", StringType(), True), \\\n",
    "    StructField(\"name\", StringType(), True), \\\n",
    "    StructField(\"decimals\", LongType(), True), \\\n",
    "    StructField(\"total_supply\", LongType(), True), \\\n",
    "    StructField(\"block_number\", LongType(), True), \\\n",
    "  ])"
   ]
  },
  {
   "cell_type": "code",
   "execution_count": 33,
   "id": "7b718273",
   "metadata": {},
   "outputs": [],
   "source": [
    "cmc_historical_schema = StructType([ \\\n",
    "    StructField(\"id\", LongType(), True), \\\n",
    "    StructField(\"rank\", LongType(), True), \\\n",
    "    StructField(\"name\", StringType(), True), \\\n",
    "    StructField(\"symbol\", StringType(), True), \\\n",
    "    StructField(\"open\", DoubleType(), True), \\\n",
    "    StructField(\"high\", DoubleType(), True), \\\n",
    "    StructField(\"low\", DoubleType(), True), \\\n",
    "    StructField(\"close\", DoubleType(), True), \\\n",
    "    StructField(\"volume\", DoubleType(), True), \\\n",
    "    StructField(\"marketCap\", DoubleType(), True), \\\n",
    "                                    StructField(\"as\", LongType(), True), \\\n",
    "    StructField(\"timestamp\", LongType(), True), \\\n",
    "  ])"
   ]
  },
  {
   "cell_type": "code",
   "execution_count": 34,
   "id": "6a0ef2a9",
   "metadata": {},
   "outputs": [],
   "source": [
    "basePath = \"./\""
   ]
  },
  {
   "cell_type": "code",
   "execution_count": 61,
   "id": "bcf79fc0",
   "metadata": {},
   "outputs": [],
   "source": [
    "token_transfers_df = spark.read.format(\"csv\") \\\n",
    "    .option(\"header\", True) \\\n",
    "    .schema(token_transfers_schema) \\\n",
    "    .load(basePath + \"/token_transfers/*/*/*.csv\")"
   ]
  },
  {
   "cell_type": "code",
   "execution_count": 36,
   "id": "0f5c9a29",
   "metadata": {},
   "outputs": [],
   "source": [
    "transactions_df = spark.read.format(\"csv\") \\\n",
    "    .option(\"header\", True) \\\n",
    "    .schema(transactions_schema) \\\n",
    "    .load(basePath + \"/transactions/*/*/*.csv\")"
   ]
  },
  {
   "cell_type": "code",
   "execution_count": 58,
   "id": "b3223535",
   "metadata": {},
   "outputs": [],
   "source": [
    "tokens_df = spark.read.format(\"csv\") \\\n",
    "    .option(\"header\", True) \\\n",
    "    .schema(tokens_schema) \\\n",
    "    .load(basePath + \"/tokens/tokens.csv\")"
   ]
  },
  {
   "cell_type": "code",
   "execution_count": 38,
   "id": "6e33c0cb",
   "metadata": {},
   "outputs": [],
   "source": [
    "cmc_historicals_df = spark.read.format(\"csv\") \\\n",
    "    .option(\"header\", True) \\\n",
    "    .schema(cmc_historical_schema) \\\n",
    "    .load(basePath + \"/tokens/cmc.csv\")"
   ]
  },
  {
   "cell_type": "code",
   "execution_count": 39,
   "id": "fd02ab5e",
   "metadata": {},
   "outputs": [
    {
     "data": {
      "text/html": [
       "<style>\n",
       "div.output_area pre {\n",
       "    white-space: pre;\n",
       "}\n",
       "</style>\n"
      ],
      "text/plain": [
       "<IPython.core.display.HTML object>"
      ]
     },
     "metadata": {},
     "output_type": "display_data"
    }
   ],
   "source": [
    "%%html\n",
    "<style>\n",
    "div.output_area pre {\n",
    "    white-space: pre;\n",
    "}\n",
    "</style>"
   ]
  },
  {
   "cell_type": "code",
   "execution_count": 45,
   "id": "d2f83e7f",
   "metadata": {},
   "outputs": [
    {
     "data": {
      "application/vnd.jupyter.widget-view+json": {
       "model_id": "",
       "version_major": 2,
       "version_minor": 0
      },
      "text/plain": [
       "FloatProgress(value=0.0, bar_style='info', description='Progress:', layout=Layout(height='25px', width='50%'),…"
      ]
     },
     "metadata": {},
     "output_type": "display_data"
    }
   ],
   "source": [
    "# from pyspark.sql.functions import expr\n",
    "\n",
    "\n",
    "# tx_volume_df = token_transfers_df \\\n",
    "#     .join( \\\n",
    "#         transactions_df, \\\n",
    "#         transactions_df[\"hash\"] == token_transfers_df[\"transaction_hash\"], \\\n",
    "#         \"inner\" \\\n",
    "#     ) \\\n",
    "#     .join( \\\n",
    "#         tokens_df, \\\n",
    "#         tokens_df[\"address\"] == token_transfers_df[\"token_address\"], \\\n",
    "#         \"inner\" \\\n",
    "#     ) \\\n",
    "#     .join( \\\n",
    "#         cmc_historicals_df, \\\n",
    "#         (expr(\"'symbol' RLIKE 'symbol'\")) & \\\n",
    "#           (transactions_df[\"block_timestamp\"] * 1000 < cmc_historicals_df[\"timestamp\"]) & \\\n",
    "#           (transactions_df[\"block_timestamp\"] * 1000 > cmc_historicals_df[\"timestamp\"] - 86400 * 1000), \\\n",
    "#         \"inner\" \\\n",
    "#     ) "
   ]
  },
  {
   "cell_type": "code",
   "execution_count": 46,
   "id": "abfb77d4",
   "metadata": {},
   "outputs": [
    {
     "data": {
      "application/vnd.jupyter.widget-view+json": {
       "model_id": "b319516e3cae4888a0b332e68ceeadaa",
       "version_major": 2,
       "version_minor": 0
      },
      "text/plain": [
       "FloatProgress(value=0.0, bar_style='info', description='Progress:', layout=Layout(height='25px', width='50%'),…"
      ]
     },
     "metadata": {},
     "output_type": "display_data"
    },
    {
     "name": "stderr",
     "output_type": "stream",
     "text": [
      "An error was encountered:\n",
      "Invalid status code '404' from https://spark-lighter.octan.network/lighter/api/sessions/a726a2ca-becc-4131-89fe-c0dfdbfefde4/statements/c5639e28-3470-4b49-ac79-b8ba608bb78d with error payload: {\"message\":\"Not Found\",\"logref\":null,\"path\":null,\"_links\":{\"self\":{\"href\":\"/lighter/api/sessions/a726a2ca-becc-4131-89fe-c0dfdbfefde4/statements/c5639e28-3470-4b49-ac79-b8ba608bb78d\",\"templated\":false,\"profile\":null,\"deprecation\":null,\"title\":null,\"hreflang\":null,\"type\":null,\"name\":null}},\"_embedded\":{\"errors\":[{\"message\":\"Page Not Found\",\"logref\":null,\"path\":null,\"_links\":{},\"_embedded\":{}}]}}\n"
     ]
    }
   ],
   "source": [
    "# tx_volume_df.show(10)"
   ]
  },
  {
   "cell_type": "code",
   "execution_count": null,
   "id": "b3cd7f36",
   "metadata": {},
   "outputs": [],
   "source": []
  },
  {
   "cell_type": "code",
   "execution_count": 62,
   "id": "b4862479",
   "metadata": {},
   "outputs": [],
   "source": [
    "token_transfers_df.createOrReplaceTempView(\"token_transfers_df\")\n",
    "transactions_df.createOrReplaceTempView(\"transactions_df\")\n",
    "tokens_df.createOrReplaceTempView(\"tokens_df\")\n",
    "cmc_historicals_df.createOrReplaceTempView(\"cmc_historicals_df\")"
   ]
  },
  {
   "cell_type": "code",
   "execution_count": 89,
   "id": "d7fde700",
   "metadata": {},
   "outputs": [
    {
     "name": "stdout",
     "output_type": "stream",
     "text": [
      "+------------------------------------------+----------+-----------+\n",
      "|token_address                             |timestamp |tx_volume  |\n",
      "+------------------------------------------+----------+-----------+\n",
      "|0x2170ed0880ac9a755fd29b2688956bd959f933f8|1685318399|1054769    |\n",
      "|0x8c4f591f1701f0d510c7c3c27a0d20e43c855ee0|1685318399|74104796376|\n",
      "|0xbf5140a22578168fd562dccf235e5d43a02ce9b1|1685318399|2285       |\n",
      "|0x4338665cbb7b2485a8855a139b75d5e34ab0db94|1685318399|14300      |\n",
      "|0x128aedc7f41ffb82131215e1722d8366faad0cd4|1685318399|72084      |\n",
      "|0x72cfefd170c58bf6cfb860c67cabd1f74600186a|1685318399|6327704    |\n",
      "|0xba2ae424d960c26247dd6c32edc70b295c744c43|1685318399|101832     |\n",
      "|0x14016e85a25aeb13065688cafb43044c2ef86784|1685318399|5707       |\n",
      "|0x17eec92a6b4bbfa2f716d4a0da0f1965ba9ae84a|1685318399|982145     |\n",
      "|0x1401ebb4ba084f0f4144e558a7e0af77dd6a3d73|1685318399|1751819    |\n",
      "+------------------------------------------+----------+-----------+\n",
      "only showing top 10 rows\n",
      "\n"
     ]
    }
   ],
   "source": [
    "result_df = spark.sql(\"\"\"\n",
    "SELECT  tt.token_address, cmc.timestamp, sum((tt.value / POWER(10, c.decimals)) * cmc.open) as tx_volume\n",
    "FROM token_transfers_df tt\n",
    "JOIN transactions_df txn ON tt.transaction_hash = txn.hash\n",
    "JOIN tokens_df c ON tt.token_address = c.address\n",
    "JOIN cmc_historicals_df cmc ON c.symbol = cmc.symbol\n",
    "WHERE txn.block_timestamp < cmc.timestamp AND txn.block_timestamp >  cmc.timestamp - 86400\n",
    "GROUP BY tt.token_address, cmc.timestamp\n",
    "\"\"\")\n",
    "\n",
    "result_df.withColumn('tx_volume', result_df['tx_volume'].cast(DecimalType(38, 0))).show(10, False)\n",
    "\n"
   ]
  },
  {
   "cell_type": "code",
   "execution_count": null,
   "id": "8e424257",
   "metadata": {},
   "outputs": [],
   "source": []
  },
  {
   "cell_type": "code",
   "execution_count": null,
   "id": "483d5ef1",
   "metadata": {},
   "outputs": [],
   "source": []
  }
 ],
 "metadata": {
  "kernelspec": {
   "display_name": "Python 3 (ipykernel)",
   "language": "python",
   "name": "python3"
  },
  "language_info": {
   "codemirror_mode": {
    "name": "ipython",
    "version": 3
   },
   "file_extension": ".py",
   "mimetype": "text/x-python",
   "name": "python",
   "nbconvert_exporter": "python",
   "pygments_lexer": "ipython3",
   "version": "3.9.16"
  }
 },
 "nbformat": 4,
 "nbformat_minor": 5
}
