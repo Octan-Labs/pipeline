{
 "cells": [
  {
   "cell_type": "code",
   "execution_count": 1,
   "id": "ae5f050f",
   "metadata": {},
   "outputs": [],
   "source": [
    "from pyspark.sql.types import StructType, StructField, StringType, LongType, DecimalType, DoubleType\n",
    "from pyspark.sql import SparkSession"
   ]
  },
  {
   "cell_type": "code",
   "execution_count": 2,
   "id": "d5038e7a",
   "metadata": {},
   "outputs": [
    {
     "name": "stderr",
     "output_type": "stream",
     "text": [
      "Warning: Ignoring non-Spark config property: fs.s3a.endpoint\n",
      "Warning: Ignoring non-Spark config property: fs.s3a.access.key\n",
      "Warning: Ignoring non-Spark config property: fs.s3a.secret.key\n",
      "WARNING: An illegal reflective access operation has occurred\n",
      "WARNING: Illegal reflective access by org.apache.spark.unsafe.Platform (file:/usr/local/spark-3.1.2-bin-hadoop3.2/jars/spark-unsafe_2.12-3.1.2.jar) to constructor java.nio.DirectByteBuffer(long,int)\n",
      "WARNING: Please consider reporting this to the maintainers of org.apache.spark.unsafe.Platform\n",
      "WARNING: Use --illegal-access=warn to enable warnings of further illegal reflective access operations\n",
      "WARNING: All illegal access operations will be denied in a future release\n",
      "23/06/20 04:18:25 WARN NativeCodeLoader: Unable to load native-hadoop library for your platform... using builtin-java classes where applicable\n",
      "Using Spark's default log4j profile: org/apache/spark/log4j-defaults.properties\n",
      "Setting default log level to \"WARN\".\n",
      "To adjust logging level use sc.setLogLevel(newLevel). For SparkR, use setLogLevel(newLevel).\n"
     ]
    }
   ],
   "source": [
    "spark = SparkSession \\\n",
    "    .builder \\\n",
    "    .config(\"fs.s3a.access.key\", \"Q3AM3UQ867SPQQA43P2F\") \\\n",
    "    .config(\"fs.s3a.secret.key\", \"zuf+tfteSlswRu7BJ86wekitnifILbZam1KYY3TG\") \\\n",
    "    .config(\"fs.s3a.endpoint\", \"https://play.min.io:9000\") \\\n",
    "    .appName(\"VolumeCalculation\") \\\n",
    "    .getOrCreate()"
   ]
  },
  {
   "cell_type": "code",
   "execution_count": 5,
   "id": "ee7386a2-1673-4783-9cd3-02da8ffee356",
   "metadata": {},
   "outputs": [],
   "source": [
    "sc = spark.sparkContext\n",
    "\n",
    "sc._jsc.hadoopConfiguration().set(\"fs.s3a.connection.ssl.enabled\", \"true\")\n",
    "sc._jsc.hadoopConfiguration().set(\"fs.s3a.path.style.access\", \"true\")\n",
    "sc._jsc.hadoopConfiguration().set(\"fs.s3a.attempts.maximum\", \"1\")\n",
    "sc._jsc.hadoopConfiguration().set(\"fs.s3a.connection.establish.timeout\", \"5000\")\n",
    "sc._jsc.hadoopConfiguration().set(\"fs.s3a.connection.timeout\", \"10000\")"
   ]
  },
  {
   "cell_type": "code",
   "execution_count": 3,
   "id": "6818398e",
   "metadata": {},
   "outputs": [],
   "source": [
    "token_transfers_schema = StructType([ \\\n",
    "    StructField(\"token_address\", StringType(), True), \\\n",
    "    StructField(\"from_address\", StringType(), True), \\\n",
    "    StructField(\"to_address\", StringType(), True), \\\n",
    "    StructField(\"value\", DecimalType(38, 0), True), \\\n",
    "    StructField(\"transaction_hash\", StringType(), True), \\\n",
    "    StructField(\"log_index\", LongType(), True), \\\n",
    "    StructField(\"block_number\", LongType(), True), \\\n",
    "  ])"
   ]
  },
  {
   "cell_type": "code",
   "execution_count": 4,
   "id": "5cd289cc",
   "metadata": {},
   "outputs": [],
   "source": [
    "transactions_schema = StructType([ \\\n",
    "    StructField(\"hash\", StringType(), True), \\\n",
    "    StructField(\"nonce\", LongType(), True), \\\n",
    "    StructField(\"block_hash\", StringType(), True), \\\n",
    "    StructField(\"block_number\", LongType(), True), \\\n",
    "    StructField(\"transaction_index\", LongType(), True), \\\n",
    "    StructField(\"from_address\", StringType(), True), \\\n",
    "    StructField(\"to_address\", StringType(), True), \\\n",
    "    StructField(\"value\", DecimalType(38, 0), True), \\\n",
    "    StructField(\"gas\", LongType(), True), \\\n",
    "    StructField(\"gas_price\", LongType(), True), \\\n",
    "    StructField(\"input\", StringType(), True), \\\n",
    "    StructField(\"block_timestamp\", LongType(), True), \\\n",
    "    StructField(\"max_fee_per_gas\", LongType(), True), \\\n",
    "    StructField(\"max_priority_fee_per_gas\", LongType(), True), \\\n",
    "    StructField(\"transaction_type\", LongType(), True) \\\n",
    "  ])"
   ]
  },
  {
   "cell_type": "code",
   "execution_count": 5,
   "id": "878be1e6",
   "metadata": {},
   "outputs": [],
   "source": [
    "tokens_schema = StructType([ \\\n",
    "    StructField(\"address\", StringType(), True), \\\n",
    "    StructField(\"symbol\", StringType(), True), \\\n",
    "    StructField(\"name\", StringType(), True), \\\n",
    "    StructField(\"decimals\", LongType(), True), \\\n",
    "    StructField(\"total_supply\", LongType(), True), \\\n",
    "    StructField(\"block_number\", LongType(), True), \\\n",
    "  ])"
   ]
  },
  {
   "cell_type": "code",
   "execution_count": 6,
   "id": "7b718273",
   "metadata": {},
   "outputs": [],
   "source": [
    "cmc_historical_schema = StructType([ \\\n",
    "    StructField(\"id\", LongType(), True), \\\n",
    "    StructField(\"rank\", LongType(), True), \\\n",
    "    StructField(\"name\", StringType(), True), \\\n",
    "    StructField(\"symbol\", StringType(), True), \\\n",
    "    StructField(\"open\", DoubleType(), True), \\\n",
    "    StructField(\"high\", DoubleType(), True), \\\n",
    "    StructField(\"low\", DoubleType(), True), \\\n",
    "    StructField(\"close\", DoubleType(), True), \\\n",
    "    StructField(\"volume\", DoubleType(), True), \\\n",
    "    StructField(\"marketCap\", DoubleType(), True), \\\n",
    "    StructField(\"timestamp\", LongType(), True), \\\n",
    "    StructField(\"address\", StringType(), True), \\\n",
    "  ])"
   ]
  },
  {
   "cell_type": "code",
   "execution_count": 32,
   "id": "b3a7e3c3",
   "metadata": {},
   "outputs": [],
   "source": [
    "cmc_address_schema = StructType([ \\\n",
    "    StructField(\"rank\", LongType(), True), \\\n",
    "    StructField(\"bsc\", StringType(), True), \\\n",
    "    StructField(\"eth\", StringType(), True), \\\n",
    "    StructField(\"polygon\", StringType(), True), \\\n",
    "  ])"
   ]
  },
  {
   "cell_type": "code",
   "execution_count": 8,
   "id": "6a0ef2a9",
   "metadata": {},
   "outputs": [],
   "source": [
    "basePath = \"s3a://bsc-test-tx-volume\""
   ]
  },
  {
   "cell_type": "code",
   "execution_count": 10,
   "id": "bcf79fc0",
   "metadata": {},
   "outputs": [],
   "source": [
    "token_transfers_df = spark.read.format(\"csv\") \\\n",
    "    .option(\"header\", True) \\\n",
    "    .schema(token_transfers_schema) \\\n",
    "    .load(basePath + \"/token_transfers/*/*/*.csv\")"
   ]
  },
  {
   "cell_type": "code",
   "execution_count": 11,
   "id": "bb47a3d3-3d22-42dc-8660-75fffdae4abc",
   "metadata": {},
   "outputs": [],
   "source": [
    "transactions_df = spark.read.format(\"csv\") \\\n",
    "    .option(\"header\", True) \\\n",
    "    .schema(transactions_schema) \\\n",
    "    .load(basePath + \"/transactions/*/*/*.csv\")"
   ]
  },
  {
   "cell_type": "code",
   "execution_count": 12,
   "id": "b3223535",
   "metadata": {},
   "outputs": [],
   "source": [
    "tokens_df = spark.read.format(\"csv\") \\\n",
    "    .option(\"header\", True) \\\n",
    "    .schema(tokens_schema) \\\n",
    "    .load(basePath + \"/tokens/*.csv\")"
   ]
  },
  {
   "cell_type": "code",
   "execution_count": 13,
   "id": "6e33c0cb",
   "metadata": {},
   "outputs": [],
   "source": [
    "cmc_historicals_df = spark.read.format(\"csv\") \\\n",
    "    .option(\"header\", True) \\\n",
    "    .schema(cmc_historical_schema) \\\n",
    "    .load(basePath + \"/cmc_historicals/*.csv\")"
   ]
  },
  {
   "cell_type": "code",
   "execution_count": 33,
   "id": "543130c3",
   "metadata": {},
   "outputs": [],
   "source": [
    "cmc_addresses_df = spark.read.format(\"csv\") \\\n",
    "    .option(\"header\", True) \\\n",
    "    .schema(cmc_address_schema) \\\n",
    "    .load(basePath + \"/cmc_addresses/*.csv\")"
   ]
  },
  {
   "cell_type": "code",
   "execution_count": 34,
   "id": "b4862479",
   "metadata": {},
   "outputs": [],
   "source": [
    "token_transfers_df.createOrReplaceTempView(\"token_transfers_df\")\n",
    "transactions_df.createOrReplaceTempView(\"transactions_df\")\n",
    "tokens_df.createOrReplaceTempView(\"tokens_df\")\n",
    "cmc_historicals_df.createOrReplaceTempView(\"cmc_historicals_df\")\n",
    "cmc_addresses_df.createOrReplaceTempView(\"cmc_addresses_df\")"
   ]
  },
  {
   "cell_type": "code",
   "execution_count": 36,
   "id": "16a4e626",
   "metadata": {},
   "outputs": [],
   "source": [
    "# change \"cmc_addr.bsc\" for each network\n",
    "\n",
    "token_volume_result_df = spark.sql(\"\"\"\n",
    "SELECT  tt.token_address, cmc_h.timestamp, sum((tt.value / POWER(10, t.decimals)) * cmc_h.open) as tx_volume\n",
    "FROM token_transfers_df tt\n",
    "JOIN transactions_df txn ON tt.transaction_hash = txn.hash\n",
    "JOIN tokens_df t ON LOWER(tt.token_address) = LOWER(t.address)\n",
    "JOIN cmc_addresses_df cmc_addr ON LOWER(tt.token_address) = LOWER(cmc_addr.bsc)\n",
    "JOIN cmc_historicals_df cmc_h ON cmc_addr.rank = cmc_h.rank\n",
    "WHERE txn.block_timestamp < cmc_h.timestamp AND txn.block_timestamp >  cmc_h.timestamp - 86400\n",
    "GROUP BY tt.token_address, cmc_h.timestamp\n",
    "\"\"\")\n",
    "\n",
    "token_df = token_volume_result_df \\\n",
    "    .withColumn('tx_volume', token_volume_result_df['tx_volume'].cast(DecimalType(38, 6))) \\\n",
    "    .withColumnRenamed(\"token_address\",\"address\")"
   ]
  },
  {
   "cell_type": "code",
   "execution_count": 37,
   "id": "8e424257",
   "metadata": {},
   "outputs": [
    {
     "name": "stderr",
     "output_type": "stream",
     "text": [
      "\r",
      "[Stage 39:>                                                       (0 + 12) / 12]\r"
     ]
    },
    {
     "name": "stdout",
     "output_type": "stream",
     "text": [
      "+------------------------------------------+----------+---------------+\n",
      "|address                                   |timestamp |tx_volume      |\n",
      "+------------------------------------------+----------+---------------+\n",
      "|0x2170ed0880ac9a755fd29b2688956bd959f933f8|1685318399|1054768.605568 |\n",
      "|0x9c65ab58d8d978db963e63f2bfb7121627e3a739|1685318399|14030.151622   |\n",
      "|0xbf5140a22578168fd562dccf235e5d43a02ce9b1|1685318399|21100.271901   |\n",
      "|0x02caa44eb838fc0e49b73213d9d22e5f23798fda|1685318399|364.769481     |\n",
      "|0x4338665cbb7b2485a8855a139b75d5e34ab0db94|1685318399|161.363328     |\n",
      "|0x156ab3346823b651294766e23e6cf87254d68962|1685318399|24406589.608481|\n",
      "|0xe552fb52a4f19e44ef5a967632dbc320b0820639|1685318399|0.743871       |\n",
      "|0x58730ae0faa10d73b0cddb5e7b87c3594f7a20cb|1685318399|345.164841     |\n",
      "|0xf4c8e32eadec4bfe97e0f595add0f4450a863a11|1685318399|252.739397     |\n",
      "|0xba2ae424d960c26247dd6c32edc70b295c744c43|1685318399|101832.388480  |\n",
      "+------------------------------------------+----------+---------------+\n",
      "only showing top 10 rows\n",
      "\n"
     ]
    },
    {
     "name": "stderr",
     "output_type": "stream",
     "text": [
      "\r",
      "                                                                                \r"
     ]
    }
   ],
   "source": [
    "token_df.show(10, False)"
   ]
  },
  {
   "cell_type": "code",
   "execution_count": 38,
   "id": "483d5ef1",
   "metadata": {},
   "outputs": [],
   "source": [
    "from_address_volume_result_df = spark.sql(\"\"\"\n",
    "SELECT  tt.from_address, cmc_h.timestamp, sum((tt.value / POWER(10, t.decimals)) * cmc_h.open) as tx_volume\n",
    "FROM token_transfers_df tt\n",
    "JOIN transactions_df txn ON tt.transaction_hash = txn.hash\n",
    "JOIN tokens_df t ON LOWER(tt.token_address) = LOWER(t.address)\n",
    "JOIN cmc_addresses_df cmc_addr ON LOWER(tt.token_address) = LOWER(cmc_addr.bsc)\n",
    "JOIN cmc_historicals_df cmc_h ON cmc_addr.rank = cmc_h.rank\n",
    "WHERE txn.block_timestamp < cmc_h.timestamp AND txn.block_timestamp >  cmc_h.timestamp - 86400\n",
    "GROUP BY tt.from_address, cmc_h.timestamp\n",
    "\"\"\")\n",
    "\n",
    "from_df = from_address_volume_result_df \\\n",
    "    .withColumn('tx_volume', from_address_volume_result_df['tx_volume'].cast(DecimalType(38, 6))) \\\n",
    "    .withColumnRenamed(\"from_address\",\"address\")"
   ]
  },
  {
   "cell_type": "code",
   "execution_count": 39,
   "id": "40df7523",
   "metadata": {},
   "outputs": [
    {
     "name": "stderr",
     "output_type": "stream",
     "text": [
      "[Stage 51:==========================>                              (6 + 7) / 13]\r"
     ]
    },
    {
     "name": "stdout",
     "output_type": "stream",
     "text": [
      "+------------------------------------------+----------+-------------+\n",
      "|address                                   |timestamp |tx_volume    |\n",
      "+------------------------------------------+----------+-------------+\n",
      "|0x344ecc034d92db380a219d4345f2d1690d22e11b|1685318399|29.285650    |\n",
      "|0x7623a96f97ee37c50405b1bd162ff9bc380f7b60|1685318399|211.136693   |\n",
      "|0xc108a9e4e1b4e2db4ac5a43bdda75f126d634caf|1685318399|219.351533   |\n",
      "|0x914558fddb93aa9b32b0e8e662673515b0f2e4ae|1685318399|822.841602   |\n",
      "|0xc2b3dbbf26d43617036b0eba53ad2dbd945adebf|1685318399|834103.919891|\n",
      "|0x0c59a054d7ec1248c1f84fd88030ac00baa71622|1685318399|282.330608   |\n",
      "|0x63e95e19f24a7675d8adbd6f38d3c0f77bf87185|1685318399|9988.778241  |\n",
      "|0x9fe0d567c52663d371477b27d216b6d20d260a4d|1685318399|0.000000     |\n",
      "|0x2641bc9d55daf3ce52a06fa9d307c989951a5a03|1685318399|5583.014773  |\n",
      "|0x00692189a7f61483bdb67f11ec28197fae9d7755|1685318399|9105.032255  |\n",
      "+------------------------------------------+----------+-------------+\n",
      "only showing top 10 rows\n",
      "\n"
     ]
    },
    {
     "name": "stderr",
     "output_type": "stream",
     "text": [
      "\r",
      "                                                                                \r"
     ]
    }
   ],
   "source": [
    "from_df.show(10, False)"
   ]
  },
  {
   "cell_type": "code",
   "execution_count": 40,
   "id": "74b4ec8d",
   "metadata": {},
   "outputs": [],
   "source": [
    "to_address_volume_result_df = spark.sql(\"\"\"\n",
    "SELECT  tt.to_address, cmc_h.timestamp, sum((tt.value / POWER(10, t.decimals)) * cmc_h.open) as tx_volume\n",
    "FROM token_transfers_df tt\n",
    "JOIN transactions_df txn ON tt.transaction_hash = txn.hash\n",
    "JOIN tokens_df t ON LOWER(tt.token_address) = LOWER(t.address)\n",
    "JOIN cmc_addresses_df cmc_addr ON LOWER(tt.token_address) = LOWER(cmc_addr.bsc)\n",
    "JOIN cmc_historicals_df cmc_h ON cmc_addr.rank = cmc_h.rank\n",
    "WHERE txn.block_timestamp < cmc_h.timestamp AND txn.block_timestamp >  cmc_h.timestamp - 86400\n",
    "GROUP BY tt.to_address, cmc_h.timestamp\n",
    "\"\"\")\n",
    "\n",
    "to_df = to_address_volume_result_df \\\n",
    "    .withColumn('tx_volume', to_address_volume_result_df['tx_volume'].cast(DecimalType(38, 6))) \\\n",
    "    .withColumnRenamed(\"to_address\",\"address\")"
   ]
  },
  {
   "cell_type": "code",
   "execution_count": 41,
   "id": "671fe8ba",
   "metadata": {},
   "outputs": [
    {
     "name": "stdout",
     "output_type": "stream",
     "text": [
      "+------------------------------------------+----------+-------------+\n",
      "|address                                   |timestamp |tx_volume    |\n",
      "+------------------------------------------+----------+-------------+\n",
      "|0x8126a1c71e1b5562393f65c8fe911d0c0352af72|1685318399|0.000000     |\n",
      "|0x84623f450a0af538ae3a52539633d784b664dad1|1685318399|1.163274     |\n",
      "|0x074eb000792e3710c864f8bf2478afc8df92d8cb|1685318399|0.000000     |\n",
      "|0x56ed0f243c8bd05c84ede4dafcafa69d1cec7240|1685318399|0.000000     |\n",
      "|0x04442b93e0ae32f1aa197bbc94e0b7fcf08a8524|1685318399|28.107658    |\n",
      "|0xc2b3dbbf26d43617036b0eba53ad2dbd945adebf|1685318399|402938.579057|\n",
      "|0x62679a86f0f537a2b4e40af3305f5cee742750d9|1685318399|54.935376    |\n",
      "|0x92e4203baadb385d1355d3b5a822a084337749cf|1685318399|0.000000     |\n",
      "|0x8df5e62c8c77434547bbf3dd7528e550e80b1734|1685318399|465.070860   |\n",
      "|0x277cdce833e22d68bcddd504aef3a31ca7c584f8|1685318399|53.731171    |\n",
      "+------------------------------------------+----------+-------------+\n",
      "only showing top 10 rows\n",
      "\n"
     ]
    }
   ],
   "source": [
    "to_df.show(10, False)"
   ]
  },
  {
   "cell_type": "code",
   "execution_count": 42,
   "id": "3b65d0a9",
   "metadata": {},
   "outputs": [],
   "source": [
    "result_df = token_df.unionAll(from_df).unionAll(to_df)"
   ]
  },
  {
   "cell_type": "code",
   "execution_count": 43,
   "id": "3072718e",
   "metadata": {},
   "outputs": [
    {
     "name": "stderr",
     "output_type": "stream",
     "text": [
      "[Stage 81:>                                                       (0 + 12) / 13]\r"
     ]
    },
    {
     "name": "stdout",
     "output_type": "stream",
     "text": [
      "+------------------------------------------+----------+---------------+\n",
      "|address                                   |timestamp |tx_volume      |\n",
      "+------------------------------------------+----------+---------------+\n",
      "|0x2170ed0880ac9a755fd29b2688956bd959f933f8|1685318399|1054768.605568 |\n",
      "|0x9c65ab58d8d978db963e63f2bfb7121627e3a739|1685318399|14030.151622   |\n",
      "|0xbf5140a22578168fd562dccf235e5d43a02ce9b1|1685318399|21100.271901   |\n",
      "|0x02caa44eb838fc0e49b73213d9d22e5f23798fda|1685318399|364.769481     |\n",
      "|0x4338665cbb7b2485a8855a139b75d5e34ab0db94|1685318399|161.363328     |\n",
      "|0x156ab3346823b651294766e23e6cf87254d68962|1685318399|24406589.608481|\n",
      "|0xe552fb52a4f19e44ef5a967632dbc320b0820639|1685318399|0.743871       |\n",
      "|0x58730ae0faa10d73b0cddb5e7b87c3594f7a20cb|1685318399|345.164841     |\n",
      "|0xf4c8e32eadec4bfe97e0f595add0f4450a863a11|1685318399|252.739397     |\n",
      "|0xba2ae424d960c26247dd6c32edc70b295c744c43|1685318399|101832.388480  |\n",
      "+------------------------------------------+----------+---------------+\n",
      "only showing top 10 rows\n",
      "\n"
     ]
    },
    {
     "name": "stderr",
     "output_type": "stream",
     "text": [
      "\r",
      "                                                                                \r"
     ]
    }
   ],
   "source": [
    "result_df.show(10, False)"
   ]
  },
  {
   "cell_type": "code",
   "execution_count": null,
   "id": "edecb8d5",
   "metadata": {},
   "outputs": [],
   "source": [
    "# result_df.repartition(1) \\\n",
    "#     .write \\\n",
    "#     .option(\"header\",True) \\\n",
    "#     .csv(basePath + \"/tx-volumes/\")\n",
    "\n",
    "# %%html\n",
    "# <style>\n",
    "# div.output_area pre {\n",
    "#     white-space: pre;\n",
    "# }\n",
    "# </style>"
   ]
  }
 ],
 "metadata": {
  "kernelspec": {
   "display_name": "Python 3 (ipykernel)",
   "language": "python",
   "name": "python3"
  },
  "language_info": {
   "codemirror_mode": {
    "name": "ipython",
    "version": 3
   },
   "file_extension": ".py",
   "mimetype": "text/x-python",
   "name": "python",
   "nbconvert_exporter": "python",
   "pygments_lexer": "ipython3",
   "version": "3.9.16"
  }
 },
 "nbformat": 4,
 "nbformat_minor": 5
}
