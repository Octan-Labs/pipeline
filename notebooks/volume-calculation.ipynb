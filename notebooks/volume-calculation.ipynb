{
 "cells": [
  {
   "cell_type": "code",
   "execution_count": null,
   "id": "5ae2f483",
   "metadata": {},
   "outputs": [],
   "source": [
    "# import argparse, sys\n",
    "\n",
    "# parser=argparse.ArgumentParser()\n",
    "\n",
    "# parser.add_argument(\"-b\", \"--base_path\", help=\"S3 bucket base path\", required=True)\n",
    "# parser.add_argument(\"-d\", \"--date\", help=\"Calculate date\", required=True)\n",
    "\n",
    "# args=parser.parse_args()"
   ]
  },
  {
   "cell_type": "code",
   "execution_count": 1,
   "id": "6ee8f7db",
   "metadata": {},
   "outputs": [],
   "source": [
    "# base_path = \"s3a://octan-labs-bsc/export-by-date\"\n",
    "base_path = \".\"\n",
    "date = \"2023-06-06\""
   ]
  },
  {
   "cell_type": "code",
   "execution_count": null,
   "id": "7d462b8c",
   "metadata": {},
   "outputs": [],
   "source": []
  },
  {
   "cell_type": "code",
   "execution_count": 2,
   "id": "65c9d0e1",
   "metadata": {},
   "outputs": [],
   "source": [
    "from pyspark.sql.types import StructType, StructField, StringType, LongType, DecimalType, DoubleType\n",
    "from pyspark.sql import SparkSession"
   ]
  },
  {
   "cell_type": "code",
   "execution_count": 3,
   "id": "253ee044",
   "metadata": {},
   "outputs": [
    {
     "name": "stdout",
     "output_type": "stream",
     "text": [
      "23/07/12 03:33:23 WARN SparkSession: Using an existing Spark session; only runtime SQL configurations will take effect.\n"
     ]
    }
   ],
   "source": [
    "spark = SparkSession \\\n",
    "    .builder \\\n",
    "    .appName(\"TxVolumeCalculator\") \\\n",
    "    .getOrCreate()"
   ]
  },
  {
   "cell_type": "code",
   "execution_count": null,
   "id": "990cdacf",
   "metadata": {},
   "outputs": [],
   "source": []
  },
  {
   "cell_type": "code",
   "execution_count": 4,
   "id": "f4fa706c",
   "metadata": {},
   "outputs": [],
   "source": [
    "pre_tx_schema = StructType([ \\\n",
    "    StructField(\"block_number\", LongType(), True), \\\n",
    "    StructField(\"from_address\", StringType(), True), \\\n",
    "    StructField(\"to_address\", StringType(), True), \\\n",
    "    StructField(\"gas\", LongType(), True), \\\n",
    "    StructField(\"gas_used\", LongType(), True), \\\n",
    "    StructField(\"gas_price\", LongType(), True), \\\n",
    "    StructField(\"value\", LongType(), True), \\\n",
    "    StructField(\"token_transfer\", DecimalType(38, 18), True), \\\n",
    "    StructField(\"token_contract\", StringType(), True), \\\n",
    "    StructField(\"volume\", DecimalType(38, 18), True), \\\n",
    "    StructField(\"gas_spent\", DecimalType(38, 18), True), \\\n",
    "    StructField(\"gas_spent_usd\", DecimalType(38, 18), True), \\\n",
    "  ])"
   ]
  },
  {
   "cell_type": "code",
   "execution_count": null,
   "id": "e59c4424",
   "metadata": {},
   "outputs": [],
   "source": []
  },
  {
   "cell_type": "code",
   "execution_count": 5,
   "id": "57442cfe",
   "metadata": {},
   "outputs": [],
   "source": [
    "pre_tx_df = spark.read.format(\"csv\") \\\n",
    "    .option(\"header\", True) \\\n",
    "    .schema(pre_tx_schema) \\\n",
    "    .load(\"{base_path}/pre-tx/date={date}/*.csv\".format(base_path = base_path, date = date))"
   ]
  },
  {
   "cell_type": "code",
   "execution_count": 6,
   "id": "5d12adb9",
   "metadata": {},
   "outputs": [
    {
     "name": "stdout",
     "output_type": "stream",
     "text": [
      "+------------+--------------------+--------------------+-------+--------+-----------+-----------------+--------------+--------------+--------------------+--------------------+--------------------+\n",
      "|block_number|        from_address|          to_address|    gas|gas_used|  gas_price|            value|token_transfer|token_contract|              volume|           gas_spent|       gas_spent_usd|\n",
      "+------------+--------------------+--------------------+-------+--------+-----------+-----------------+--------------+--------------+--------------------+--------------------+--------------------+\n",
      "|    28849368|0x81f403fe697cfcf...|0x2b8ce9960900859...|  44935|   44935|30000000000|                0|          null|          null|               0E-18|0.001348050000000000|0.373320382400000000|\n",
      "|    28849368|0xb0644fd7af97005...|0x63714c713bf14de...| 600000|   22218| 7000000000|                0|          null|          null|               0E-18|0.000155526000000000|0.043070380000000000|\n",
      "|    28849368|0xf576c7f17bc5a83...|0xa47232e28a568b7...| 730590|   31269| 6219894445|                0|          null|          null|               0E-18|0.000194489900000000|0.053860788700000000|\n",
      "|    28849368|0x411bac65eb91ebd...|0x8ac76a51cc950d9...|  47467|   47152| 6000000000|                0|          null|          null|               0E-18|0.000282912000000000|0.078347847600000000|\n",
      "|    28849368|0xb0e5ec2a0bb8b8f...|0xd03ba4005ae4ae8...| 160000|   21000| 6000000000|83900000000000000|          null|          null|23.23473171070000...|0.000126000000000000|0.034893637600000000|\n",
      "|    28849368|0x82e7a4594cbc68d...|0xf2eebf2dc45bc7e...|3000000|  176509| 6000000000|                0|          null|          null|               0E-18|0.001059054000000000|0.293287670500000000|\n",
      "|    28849368|0x356dc48d74f107c...|0x55d398326f99059...| 160000|   36115| 6000000000|                0|          null|          null|               0E-18|0.000216690000000000|0.060008748700000000|\n",
      "|    28849368|0x4982085c9e2f89f...|0x55d398326f99059...|  76708|   51115| 6000000000|                0|          null|          null|               0E-18|0.000306690000000000|0.084932775500000000|\n",
      "|    28849368|0x9a3fefe7072c082...|0x7b62d2ba99b7948...|1000000|  299107| 5863256024|                0|          null|          null|               0E-18|0.001753740900000000|0.485669842100000000|\n",
      "|    28849368|0xc89d99db7b5de93...|0x7b62d2ba99b7948...| 400000|   81734| 5235050022|                0|          null|          null|               0E-18|0.000427881600000000|0.118494799500000000|\n",
      "+------------+--------------------+--------------------+-------+--------+-----------+-----------------+--------------+--------------+--------------------+--------------------+--------------------+\n",
      "only showing top 10 rows\n",
      "\n"
     ]
    }
   ],
   "source": [
    "pre_tx_df.show(10)"
   ]
  },
  {
   "cell_type": "code",
   "execution_count": null,
   "id": "b73eadf0",
   "metadata": {},
   "outputs": [],
   "source": []
  },
  {
   "cell_type": "code",
   "execution_count": 8,
   "id": "0d454e12",
   "metadata": {},
   "outputs": [],
   "source": [
    "pre_tx_df.createOrReplaceTempView(\"pre_tx_df\")"
   ]
  },
  {
   "cell_type": "code",
   "execution_count": 23,
   "id": "2d509d69",
   "metadata": {},
   "outputs": [
    {
     "name": "stdout",
     "output_type": "stream",
     "text": [
      "root\n",
      " |-- block_number: string (nullable = true)\n",
      " |-- from_address: string (nullable = true)\n",
      " |-- to_address: string (nullable = true)\n",
      " |-- gas: string (nullable = true)\n",
      " |-- receipt_gas_used: string (nullable = true)\n",
      " |-- gas_price: string (nullable = true)\n",
      " |-- value: string (nullable = true)\n",
      " |-- token_transfer: string (nullable = true)\n",
      " |-- token_contract: string (nullable = true)\n",
      " |-- volume: string (nullable = true)\n",
      " |-- gas_spent: string (nullable = true)\n",
      " |-- gas_spent_usd: string (nullable = true)\n",
      "\n"
     ]
    }
   ],
   "source": [
    "pre_tx_df.printSchema()"
   ]
  },
  {
   "cell_type": "code",
   "execution_count": null,
   "id": "ff0e93ef",
   "metadata": {},
   "outputs": [],
   "source": []
  },
  {
   "cell_type": "code",
   "execution_count": 13,
   "id": "be4971ed",
   "metadata": {},
   "outputs": [
    {
     "data": {
      "text/plain": [
       "0.025368452072143555"
      ]
     },
     "execution_count": 13,
     "metadata": {},
     "output_type": "execute_result"
    }
   ],
   "source": [
    "# change name, symbol foreach networks\n",
    "\n",
    "import time\n",
    "from pyspark.sql.functions import format_number\n",
    "\n",
    "\n",
    "start_time = time.time()\n",
    "\n",
    "result_df = spark.sql(\"\"\"\n",
    "SELECT from_address as address, SUM(volume) as volume FROM pre_tx_df\n",
    "GROUP BY from_address\n",
    "UNION ALL\n",
    "SELECT to_address as address, SUM(volume) as volume FROM pre_tx_df\n",
    "GROUP BY to_address\n",
    "UNION ALL\n",
    "SELECT token_contract as address, SUM(volume) as volume FROM pre_tx_df\n",
    "GROUP BY token_contract\n",
    "\"\"\").withColumn('volume', format_number('volume', 10)) \n",
    "\n",
    "\n",
    "time.time() - start_time"
   ]
  },
  {
   "cell_type": "code",
   "execution_count": 14,
   "id": "28ed4b20",
   "metadata": {},
   "outputs": [
    {
     "name": "stderr",
     "output_type": "stream",
     "text": [
      "\r",
      "[Stage 12:=========>       (7 + 5) / 12][Stage 13:=>               (1 + 7) / 12]\r"
     ]
    },
    {
     "name": "stdout",
     "output_type": "stream",
     "text": [
      "+------------------------------------------+--------------+\n",
      "|address                                   |volume        |\n",
      "+------------------------------------------+--------------+\n",
      "|0x2efc0a7e59c0508fdd93941f89743836a1d2ae75|133.2797818980|\n",
      "|0x48e2779ea605bdca4467f53c9e3ec6ae419f1f9c|0.0000000000  |\n",
      "|0x675d013f45810a3a5fd14877276ed2b08191862d|0.0000000000  |\n",
      "|0x8eae03bee1a2ae097ac11661eec541ba538ff8fe|0.0000000000  |\n",
      "|0x50f19fde93bb8b2419300ad08dd3eaac431804b0|0.0000000000  |\n",
      "|0x06d5b5d1a7beaea6b5587c8b1c4ff811c808968a|0.0000000000  |\n",
      "|0x3b7d6336ac01106e51f2cffd564ec7f8bdea1057|1.2140597751  |\n",
      "|0x6238872a0bd9f0e19073695532a7ed77ce93c69e|0.0000000000  |\n",
      "|0x9b1426d1ee4c57e9e5b64964df03884c7da1e7d6|398.0622802532|\n",
      "|0x6d2d7f09e0718a4f78813fb9b1ffb5ce6abfd6d0|0.0000000000  |\n",
      "+------------------------------------------+--------------+\n",
      "only showing top 10 rows\n",
      "\n"
     ]
    },
    {
     "name": "stderr",
     "output_type": "stream",
     "text": [
      "\r",
      "                                                                                \r"
     ]
    }
   ],
   "source": [
    "# result_df.show(10, False)"
   ]
  },
  {
   "cell_type": "code",
   "execution_count": null,
   "id": "45d71622",
   "metadata": {},
   "outputs": [],
   "source": []
  },
  {
   "cell_type": "code",
   "execution_count": 15,
   "id": "564d4223",
   "metadata": {},
   "outputs": [
    {
     "name": "stderr",
     "output_type": "stream",
     "text": [
      "                                                                                \r"
     ]
    },
    {
     "data": {
      "text/plain": [
       "1.8597967624664307"
      ]
     },
     "execution_count": 15,
     "metadata": {},
     "output_type": "execute_result"
    }
   ],
   "source": [
    "start_time = time.time()\n",
    "\n",
    "result_df.repartition(1) \\\n",
    "    .write \\\n",
    "    .option(\"header\",True) \\\n",
    "    .csv(\"{base_path}/tx-volumes/date={date}/\".format(base_path = base_path, date = date))\n",
    "\n",
    "time.time() - start_time"
   ]
  },
  {
   "cell_type": "code",
   "execution_count": null,
   "id": "94cd6141",
   "metadata": {},
   "outputs": [],
   "source": []
  },
  {
   "cell_type": "code",
   "execution_count": null,
   "id": "7503624f",
   "metadata": {},
   "outputs": [],
   "source": [
    "spark.stop()"
   ]
  },
  {
   "cell_type": "code",
   "execution_count": null,
   "id": "3c0a2e08",
   "metadata": {},
   "outputs": [],
   "source": []
  }
 ],
 "metadata": {
  "kernelspec": {
   "display_name": "Python 3 (ipykernel)",
   "language": "python",
   "name": "python3"
  },
  "language_info": {
   "codemirror_mode": {
    "name": "ipython",
    "version": 3
   },
   "file_extension": ".py",
   "mimetype": "text/x-python",
   "name": "python",
   "nbconvert_exporter": "python",
   "pygments_lexer": "ipython3",
   "version": "3.9.16"
  }
 },
 "nbformat": 4,
 "nbformat_minor": 5
}
