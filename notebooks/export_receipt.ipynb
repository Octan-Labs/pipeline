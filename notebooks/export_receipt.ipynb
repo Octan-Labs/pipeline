{
 "cells": [
  {
   "cell_type": "code",
   "execution_count": 1,
   "id": "60d98465",
   "metadata": {},
   "outputs": [
    {
     "data": {
      "text/plain": [
       "Intitializing Scala interpreter ..."
      ]
     },
     "metadata": {},
     "output_type": "display_data"
    },
    {
     "data": {
      "text/plain": [
       "Spark Web UI available at http://45c4f98bbd67:4044\n",
       "SparkContext available as 'sc' (version = 3.3.2, master = local[*], app id = local-1680964418818)\n",
       "SparkSession available as 'spark'\n"
      ]
     },
     "metadata": {},
     "output_type": "display_data"
    },
    {
     "name": "stdout",
     "output_type": "stream",
     "text": [
      "23/04/08 14:33:45 WARN SparkSession: Using an existing Spark session; only runtime SQL configurations will take effect.\n"
     ]
    },
    {
     "data": {
      "text/plain": [
       "import org.apache.spark.sql.SparkSession\n",
       "spark: org.apache.spark.sql.SparkSession = org.apache.spark.sql.SparkSession@4dbd6957\n"
      ]
     },
     "execution_count": 1,
     "metadata": {},
     "output_type": "execute_result"
    }
   ],
   "source": [
    "import org.apache.spark.sql.SparkSession\n",
    "\n",
    "val spark = SparkSession\n",
    "  .builder()\n",
    "  .appName(\"Jupyter\")\n",
    "  .getOrCreate()"
   ]
  },
  {
   "cell_type": "code",
   "execution_count": 17,
   "id": "5b0cbada",
   "metadata": {},
   "outputs": [
    {
     "name": "stdout",
     "output_type": "stream",
     "text": [
      "root\n",
      " |-- hash: string (nullable = true)\n",
      " |-- nonce: string (nullable = true)\n",
      " |-- block_hash: string (nullable = true)\n",
      " |-- block_number: string (nullable = true)\n",
      " |-- transaction_index: string (nullable = true)\n",
      " |-- from_address: string (nullable = true)\n",
      " |-- to_address: string (nullable = true)\n",
      " |-- value: string (nullable = true)\n",
      " |-- gas: string (nullable = true)\n",
      " |-- gas_price: string (nullable = true)\n",
      " |-- input: string (nullable = true)\n",
      " |-- block_timestamp: string (nullable = true)\n",
      " |-- max_fee_per_gas: string (nullable = true)\n",
      " |-- max_priority_fee_per_gas: string (nullable = true)\n",
      " |-- transaction_type: string (nullable = true)\n",
      "\n"
     ]
    },
    {
     "data": {
      "text/plain": [
       "import org.apache.spark.sql\n",
       "df: org.apache.spark.sql.DataFrame = [hash: string, nonce: string ... 13 more fields]\n"
      ]
     },
     "execution_count": 17,
     "metadata": {},
     "output_type": "execute_result"
    }
   ],
   "source": [
    "import org.apache.spark.sql\n",
    "\n",
    "val df = spark.read\n",
    "    .option(\"header\", \"true\")\n",
    "    .csv(\"/home/iceberg/warehouse/transactions/start_block=00000000/end_block=00005999/transactions_00000000_00005999.csv\")\n",
    "\n",
    "df.printSchema()\n",
    "df\n",
    "    .withColumn(\"nonce\", $\"nonce\".cast(sql.types.LongType))\n",
    "    .withColumn(\"block_number\", $\"block_number\".cast(sql.types.LongType))\n",
    "    .withColumn(\"block_timestamp\", $\"block_timestamp\".cast(sql.types.TimestampType))\n",
    "    .withColumn(\"transaction_index\", $\"transaction_index\".cast(sql.types.LongType))\n",
    "    .withColumn(\"value\", $\"value\".cast(sql.types.DecimalType(38,0)))\n",
    "    .withColumn(\"gas\", $\"gas\".cast(sql.types.LongType))\n",
    "    .withColumn(\"gas_price\", $\"gas_price\".cast(sql.types.LongType))\n",
    "    .withColumn(\"max_fee_per_gas\", $\"max_fee_per_gas\".cast(sql.types.LongType))\n",
    "    .withColumn(\"max_priority_fee_per_gas\", $\"max_priority_fee_per_gas\".cast(sql.types.LongType))\n",
    "    .withColumn(\"transaction_type\", $\"transaction_type\".cast(sql.types.LongType))\n",
    "    .sortWithinPartitions(\"block_number\")\n",
    "    .writeTo(\"demo.bsc.transactions\")\n",
    "    .append()"
   ]
  },
  {
   "cell_type": "code",
   "execution_count": 19,
   "id": "ae9b1783",
   "metadata": {},
   "outputs": [
    {
     "ename": "<console>",
     "evalue": "4: error: ';' expected but '.' found.",
     "output_type": "error",
     "traceback": [
      "<console>:4: error: ';' expected but '.' found.",
      "       select * from demo.bsc.transactions limit 2;",
      "                         ^",
      ""
     ]
    }
   ],
   "source": [
    "%%sql\n",
    "\n",
    "select * from demo.bsc.transactions limit 2;"
   ]
  },
  {
   "cell_type": "code",
   "execution_count": null,
   "id": "0094fa11",
   "metadata": {},
   "outputs": [],
   "source": []
  }
 ],
 "metadata": {
  "kernelspec": {
   "display_name": "spylon-kernel",
   "language": "scala",
   "name": "spylon-kernel"
  },
  "language_info": {
   "codemirror_mode": "text/x-scala",
   "file_extension": ".scala",
   "help_links": [
    {
     "text": "MetaKernel Magics",
     "url": "https://metakernel.readthedocs.io/en/latest/source/README.html"
    }
   ],
   "mimetype": "text/x-scala",
   "name": "scala",
   "pygments_lexer": "scala",
   "version": "0.4.1"
  }
 },
 "nbformat": 4,
 "nbformat_minor": 5
}
